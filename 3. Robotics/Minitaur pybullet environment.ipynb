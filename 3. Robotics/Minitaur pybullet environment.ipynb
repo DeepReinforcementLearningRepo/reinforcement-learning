{
 "cells": [
  {
   "cell_type": "code",
   "execution_count": 1,
   "metadata": {},
   "outputs": [],
   "source": [
    "# Usual\n",
    "import os\n",
    "import matplotlib.pyplot as plt\n",
    "import pandas as pd\n",
    "import numpy as np\n",
    "import sys\n",
    "import time\n",
    "from tqdm import tqdm\n",
    "\n",
    "# Autoreload\n",
    "%load_ext autoreload\n",
    "%autoreload 2\n",
    "%reload_ext autoreload\n",
    "%matplotlib inline"
   ]
  },
  {
   "cell_type": "markdown",
   "metadata": {},
   "source": [
    "https://docs.google.com/document/d/10sXEhzFRSnvFcl3XxNGhnD4N2SedqwdAvK3dsihxVUA/edit#"
   ]
  },
  {
   "cell_type": "code",
   "execution_count": 2,
   "metadata": {},
   "outputs": [],
   "source": [
    "import pybullet"
   ]
  },
  {
   "cell_type": "code",
   "execution_count": 3,
   "metadata": {},
   "outputs": [
    {
     "name": "stdout",
     "output_type": "stream",
     "text": [
      "current_dir=C:\\Users\\talvesdacosta\\AppData\\Local\\Continuum\\Anaconda3\\lib\\site-packages\\pybullet_envs\\bullet\n",
      "current_dir=C:\\Users\\talvesdacosta\\AppData\\Local\\Continuum\\Anaconda3\\lib\\site-packages\\pybullet_envs\\bullet\n",
      "urdf_root=C:\\Users\\talvesdacosta\\AppData\\Local\\Continuum\\Anaconda3\\lib\\site-packages\\pybullet_data\n"
     ]
    }
   ],
   "source": [
    "import pybullet_envs.bullet.minitaur_gym_env as e\n",
    "env = e.MinitaurBulletEnv(render=True)"
   ]
  },
  {
   "cell_type": "markdown",
   "metadata": {},
   "source": [
    "# Understanding the environment"
   ]
  },
  {
   "cell_type": "code",
   "execution_count": 4,
   "metadata": {},
   "outputs": [
    {
     "data": {
      "text/plain": [
       "28"
      ]
     },
     "execution_count": 4,
     "metadata": {},
     "output_type": "execute_result"
    }
   ],
   "source": [
    "STATE_SIZE = env.observation_space.shape[0]\n",
    "STATE_SIZE"
   ]
  },
  {
   "cell_type": "code",
   "execution_count": 5,
   "metadata": {},
   "outputs": [
    {
     "name": "stdout",
     "output_type": "stream",
     "text": [
      "[-1 -1 -1 -1 -1 -1 -1 -1]\n",
      "[1 1 1 1 1 1 1 1]\n"
     ]
    }
   ],
   "source": [
    "print(env.action_space.low)\n",
    "print(env.action_space.high)"
   ]
  },
  {
   "cell_type": "code",
   "execution_count": 9,
   "metadata": {},
   "outputs": [
    {
     "data": {
      "text/plain": [
       "8"
      ]
     },
     "execution_count": 9,
     "metadata": {},
     "output_type": "execute_result"
    }
   ],
   "source": [
    "ACTION_SIZE = env.action_space.shape[0]\n",
    "ACTION_SIZE"
   ]
  },
  {
   "cell_type": "markdown",
   "metadata": {},
   "source": [
    "# Random moves"
   ]
  },
  {
   "cell_type": "markdown",
   "metadata": {},
   "source": [
    "## Try a random policy"
   ]
  },
  {
   "cell_type": "code",
   "execution_count": 7,
   "metadata": {},
   "outputs": [
    {
     "data": {
      "text/plain": [
       "array([ 0.38536649,  0.56869759, -0.43308386,  0.9615505 , -0.83600312,\n",
       "       -0.36766522, -0.43706896, -0.25853698])"
      ]
     },
     "execution_count": 7,
     "metadata": {},
     "output_type": "execute_result"
    }
   ],
   "source": [
    "np.random.random(8)*2 - 1"
   ]
  },
  {
   "cell_type": "code",
   "execution_count": 8,
   "metadata": {
    "collapsed": true
   },
   "outputs": [],
   "source": [
    "def random_action():\n",
    "    return np.random.random(ACTION_SIZE)*2 - 1"
   ]
  },
  {
   "cell_type": "code",
   "execution_count": 9,
   "metadata": {},
   "outputs": [
    {
     "name": "stderr",
     "output_type": "stream",
     "text": [
      "100%|████████████████████████████████████████| 100/100 [00:01<00:00, 51.89it/s]\n"
     ]
    }
   ],
   "source": [
    "rewards = []\n",
    "s_nexts = []\n",
    "infos = []\n",
    "s = env.reset()\n",
    "\n",
    "for i in tqdm(range(100)):\n",
    "    actions = random_action()\n",
    "    env.render()\n",
    "    s_next,r,done,info = env.step(actions)\n",
    "    s_nexts.append(s_next)\n",
    "    infos.append(info)\n",
    "    rewards.append(r)"
   ]
  },
  {
   "cell_type": "markdown",
   "metadata": {},
   "source": [
    "## Explore the data returned by the environment"
   ]
  },
  {
   "cell_type": "code",
   "execution_count": 13,
   "metadata": {},
   "outputs": [
    {
     "data": {
      "text/plain": [
       "{}"
      ]
     },
     "execution_count": 13,
     "metadata": {},
     "output_type": "execute_result"
    }
   ],
   "source": [
    "infos[0]"
   ]
  },
  {
   "cell_type": "code",
   "execution_count": 14,
   "metadata": {},
   "outputs": [
    {
     "data": {
      "text/plain": [
       "[-0.00047881277044909521,\n",
       " -0.00024526470346701351,\n",
       " -0.0011944926061204396,\n",
       " -0.0011646968378199998,\n",
       " -0.0030942434154715166]"
      ]
     },
     "execution_count": 14,
     "metadata": {},
     "output_type": "execute_result"
    }
   ],
   "source": [
    "rewards[:5]"
   ]
  },
  {
   "cell_type": "code",
   "execution_count": 16,
   "metadata": {},
   "outputs": [
    {
     "data": {
      "text/plain": [
       "array([  1.44067050e+00,   1.47115851e+00,   1.53102526e+00,\n",
       "         1.52258336e+00,   1.53793137e+00,   1.54268266e+00,\n",
       "         1.48200574e+00,   1.56954979e+00,  -9.38269728e+00,\n",
       "        -2.77456238e+00,   2.89582127e+00,   2.37714265e+00,\n",
       "         2.26310536e+00,   2.36976821e+00,  -4.29077102e+00,\n",
       "         7.80139986e+00,  -1.59646062e+00,  -1.34636550e-01,\n",
       "         8.59873974e-01,   2.23901040e+00,   2.74382541e+00,\n",
       "         3.60712488e+00,  -8.72725117e-01,   1.96200634e+00,\n",
       "        -2.23100006e-03,   1.87687846e-03,   5.42155351e-04,\n",
       "         9.99995603e-01])"
      ]
     },
     "execution_count": 16,
     "metadata": {},
     "output_type": "execute_result"
    }
   ],
   "source": [
    "s_nexts[0]"
   ]
  },
  {
   "cell_type": "markdown",
   "metadata": {},
   "source": [
    "# First attempt with a DQN agent"
   ]
  },
  {
   "cell_type": "code",
   "execution_count": 6,
   "metadata": {},
   "outputs": [],
   "source": [
    "import sys\n",
    "sys.path.append(\"..\")"
   ]
  },
  {
   "cell_type": "code",
   "execution_count": 7,
   "metadata": {},
   "outputs": [
    {
     "name": "stderr",
     "output_type": "stream",
     "text": [
      "Using TensorFlow backend.\n"
     ]
    }
   ],
   "source": [
    "from rl.agents.dqn_agent import DQNAgent"
   ]
  },
  {
   "cell_type": "code",
   "execution_count": 10,
   "metadata": {},
   "outputs": [],
   "source": [
    "agent = DQNAgent(STATE_SIZE,ACTION_SIZE,low = -1,high = 1,action_type=\"continuous\")"
   ]
  },
  {
   "cell_type": "code",
   "execution_count": 11,
   "metadata": {},
   "outputs": [],
   "source": [
    "N_EPISODES = 1\n",
    "MAX_STEPS = 2000"
   ]
  },
  {
   "cell_type": "code",
   "execution_count": 12,
   "metadata": {},
   "outputs": [
    {
     "name": "stdout",
     "output_type": "stream",
     "text": [
      "Episode 1/1 finished after 256 timesteps - epsilon : 1.0 - reward : -0.19\n"
     ]
    }
   ],
   "source": [
    "#---------------------------------------------\n",
    "# ITERATION OVER EPISODES\n",
    "for i_episode in range(N_EPISODES):\n",
    "\n",
    "    # Reset the environment\n",
    "    s = env.reset()\n",
    "    reward = 0\n",
    "    #-----------------------------------------\n",
    "    # EPISODE RUN\n",
    "    for i_step in range(MAX_STEPS):\n",
    "\n",
    "        # Render the environement\n",
    "        # env.render() #and (i_step % RENDER_EVERY == 0)\n",
    "\n",
    "        # The agent chose the action considering the given current state\n",
    "        a = agent.act(s)\n",
    "\n",
    "        # Take the action, get the reward from environment and go to the next state\n",
    "        s_next,r,done,info = env.step(a)\n",
    "        reward += r\n",
    "\n",
    "        # Remember the important variables\n",
    "        agent.remember(s,a,r,s_next,done)\n",
    "\n",
    "        # Go to the next state\n",
    "        s = s_next\n",
    "\n",
    "        # If the episode is terminated\n",
    "        if done or i_step == MAX_STEPS - 1:\n",
    "            print(\"Episode {}/{} finished after {} timesteps - epsilon : {:.2} - reward : {:.2}\".format(i_episode+1,N_EPISODES,i_step,agent.epsilon,reward))\n",
    "            break"
   ]
  },
  {
   "cell_type": "code",
   "execution_count": 14,
   "metadata": {},
   "outputs": [],
   "source": [
    "import random"
   ]
  },
  {
   "cell_type": "code",
   "execution_count": 16,
   "metadata": {},
   "outputs": [
    {
     "data": {
      "text/plain": [
       "[(array([  1.43191569,   1.82014992,   1.48289289,   2.04231692,\n",
       "           1.42654218,   1.73445126,   1.52992927,   1.83697874,\n",
       "          33.79970646,  -4.35366277, -14.92339901,  -4.83808762,\n",
       "          13.61841987,   4.10288859,   1.73288879,  -5.04505522,\n",
       "           5.7       ,  -0.79874492,   0.40535826,  -0.71684755,\n",
       "           5.7       ,   3.18593194,   5.7       ,  -3.31216064,\n",
       "           0.24061944,   0.04744645,   0.12110792,   0.96186485]),\n",
       "  array([ 0.70911972,  0.41370538, -0.61102165, -0.91908158,  0.8837518 ,\n",
       "          0.28344816,  0.89629353,  0.28595112]),\n",
       "  0.00091001993369352677,\n",
       "  array([  1.67570169,   1.56284253,   1.44013861,   1.921129  ,\n",
       "           1.49058178,   1.69914002,   1.56512917,   1.74050997,\n",
       "          18.69380798, -34.46744957,   2.54665391, -15.58817147,\n",
       "           5.7983863 ,  -9.19209205,   6.54476268, -13.42215006,\n",
       "          -2.01823071,  -2.21560997,   5.49085307,  -2.11867759,\n",
       "           1.39155229,  -5.7       ,   5.7       ,  -4.45110801,\n",
       "           0.24396542,   0.03898036,   0.11973573,   0.96157411]),\n",
       "  False),\n",
       " (array([  1.72480120e+00,   1.95065186e+00,   1.77749806e+00,\n",
       "           1.45212379e+00,   1.85540460e+00,   1.33491776e+00,\n",
       "           1.51889129e+00,   1.89545699e+00,   9.78430803e+00,\n",
       "           1.83717238e+01,   5.01645903e-01,  -5.98395876e+00,\n",
       "          -1.20907596e+01,  -1.59366035e-01,  -5.57745968e+00,\n",
       "          -3.21295683e+00,   5.70000000e+00,   3.30163040e+00,\n",
       "          -2.07806852e+00,   2.31829535e-01,  -2.66559789e+00,\n",
       "           2.16233862e+00,   5.05865692e+00,   3.06922527e-01,\n",
       "           1.09333612e-01,   1.54688373e-02,   7.79851407e-02,\n",
       "           9.90820465e-01]),\n",
       "  array([ 0.44977408,  0.92185667, -0.48720533,  0.2056802 , -0.84389688,\n",
       "         -0.93086896,  0.42560369, -0.8789148 ]),\n",
       "  -0.0039905077521519864,\n",
       "  array([  1.92546428e+00,   2.07144306e+00,   1.90428297e+00,\n",
       "           1.49251184e+00,   1.80624065e+00,   1.32388698e+00,\n",
       "           1.49840960e+00,   1.90506257e+00,   2.67126041e+01,\n",
       "           9.37633275e+00,   2.07962272e+01,   9.79904775e+00,\n",
       "          -9.19604676e-01,  -1.49772732e+00,  -8.85716800e-01,\n",
       "           2.78547980e+00,   5.40587004e+00,   9.11817705e-02,\n",
       "           5.70000000e+00,   2.99033728e+00,   2.18689825e+00,\n",
       "          -4.51940274e-01,   5.70000000e+00,   5.70000000e+00,\n",
       "           1.12142197e-01,   1.97839125e-02,   7.84569656e-02,\n",
       "           9.90392462e-01]),\n",
       "  False),\n",
       " (array([  1.52868386e+00,   1.52478385e+00,   1.71605974e+00,\n",
       "           1.78857503e+00,   1.91020400e+00,   2.18238200e+00,\n",
       "           1.56519966e+00,   2.21434267e+00,  -2.15720457e+00,\n",
       "          -3.90732351e-01,  -1.69803205e+00,   5.80463264e-05,\n",
       "           2.23547807e+00,  -1.59267024e+01,   6.57582300e+00,\n",
       "           2.46043287e+01,   7.82778788e-01,   2.48767172e+00,\n",
       "          -6.82837413e-01,   5.70000000e+00,  -1.31052668e-01,\n",
       "          -8.20027526e-01,  -2.09375794e-01,   2.25776385e+00,\n",
       "          -2.28937038e-01,   4.37278355e-03,   1.16296861e-01,\n",
       "           9.66459390e-01]),\n",
       "  array([-0.74910164,  0.57669047, -0.64107921, -0.01919282, -0.28500711,\n",
       "         -0.53207689,  0.23577126, -0.10209474]),\n",
       "  0.00043792044699030421,\n",
       "  array([  1.52575417e+00,   1.55253363e+00,   1.70337950e+00,\n",
       "           1.78857770e+00,   1.99255824e+00,   1.95394615e+00,\n",
       "           1.68149760e+00,   2.35102271e+00,   6.80671848e-02,\n",
       "           4.09301748e+00,  -1.55217392e+00,   2.12894401e-04,\n",
       "           1.06022709e+01,  -2.55365687e+01,   1.35608326e+01,\n",
       "           6.75296253e+00,   5.90405608e-01,   5.70000000e+00,\n",
       "           5.70000000e+00,   1.18916839e+00,   9.56591321e-01,\n",
       "          -1.98216826e+00,   1.22244650e+00,  -4.33293387e+00,\n",
       "          -2.37274029e-01,   1.70753718e-03,   1.16935751e-01,\n",
       "           9.64377597e-01]),\n",
       "  False),\n",
       " (array([  2.23684805e+00,   2.34168455e+00,   2.08099146e+00,\n",
       "           2.27965057e+00,   1.76804319e+00,   1.65674515e+00,\n",
       "           1.53658790e+00,   1.79704143e+00,   1.96090452e+01,\n",
       "          -1.49231656e+01,   6.26238650e+00,  -2.29627996e+00,\n",
       "          -1.73041408e+00,  -5.14505640e+00,  -2.51038604e+00,\n",
       "          -4.95589805e+00,   5.70000000e+00,  -1.87312870e+00,\n",
       "          -4.73871643e-01,  -3.61193006e+00,   4.91026405e+00,\n",
       "           5.70000000e+00,   2.46762731e+00,   7.60732564e-01,\n",
       "           2.53266354e-01,   1.93077523e-02,   8.61024015e-02,\n",
       "           9.63363764e-01]),\n",
       "  array([ 0.23634865, -0.43849971,  0.07641481, -0.76145816, -0.2507152 ,\n",
       "         -0.77947036,  0.48982176, -0.79198627]),\n",
       "  0.0023465698126580105,\n",
       "  array([  2.36376427,   2.20783458,   2.14668721,   2.35055919,\n",
       "           1.71601702,   1.5839159 ,   1.52217355,   1.75715451,\n",
       "           8.51961999, -11.50701112,   6.14573024,  12.48177103,\n",
       "          -5.29426948,  -7.30241704,  -0.74426898,  -3.17509702,\n",
       "          -1.78520794,  -0.04941749,  -0.27829876,   3.32791151,\n",
       "          -0.82897897,   1.62279488,   5.7       ,   2.50253212,\n",
       "           0.25683813,   0.02090762,   0.08783912,   0.96222728]),\n",
       "  False),\n",
       " (array([  1.53964484e+00,   1.63204036e+00,   1.53066010e+00,\n",
       "           1.57038671e+00,   1.62109407e+00,   1.58231270e+00,\n",
       "           1.58752186e+00,   1.48285493e+00,  -3.36651007e+00,\n",
       "           1.59807340e+01,  -3.41801942e+00,   2.41571546e+00,\n",
       "           1.00959948e+01,   4.24103837e+00,   7.10975020e+00,\n",
       "          -1.44598862e+01,  -1.76784802e+00,   5.70000000e+00,\n",
       "          -6.02565045e-01,   5.41688413e+00,   4.44324320e+00,\n",
       "           2.59592192e+00,   2.47801434e+00,  -5.70000000e+00,\n",
       "          -1.89310543e-04,  -4.62137321e-03,  -1.90119404e-04,\n",
       "           9.99989285e-01]),\n",
       "  array([ 0.94817504, -0.53717095, -0.70521427,  0.28155118,  0.26661198,\n",
       "         -0.54377654, -0.79368331, -0.17269166]),\n",
       "  -0.0008178890840643163,\n",
       "  array([  1.60458865e+00,   1.57210802e+00,   1.54535803e+00,\n",
       "           1.62616424e+00,   1.71219911e+00,   1.62678239e+00,\n",
       "           1.67891745e+00,   1.45885372e+00,   1.31939620e+01,\n",
       "          -1.76163198e+01,   2.90676536e+00,   6.27154118e+00,\n",
       "           8.06631895e+00,   4.15617171e+00,   8.79893840e+00,\n",
       "           5.38372840e+00,   5.70000000e+00,  -2.79946880e+00,\n",
       "           3.20113428e+00,   5.70000000e+00,   5.70000000e+00,\n",
       "           2.78543830e+00,   1.73049902e-01,   5.70000000e+00,\n",
       "           7.41260369e-04,  -1.07651099e-02,   1.03806778e-03,\n",
       "           9.99941241e-01]),\n",
       "  False),\n",
       " (array([  1.92956412e+00,   1.91309854e+00,   1.85597806e+00,\n",
       "           1.97040424e+00,   1.61166003e+00,   1.81628648e+00,\n",
       "           1.73152841e+00,   1.13663682e+00,   2.27296361e+00,\n",
       "          -5.27127588e-01,  -2.38212161e+01,  -9.62008967e+00,\n",
       "          -2.63055069e+01,   1.10118071e+01,   5.32174635e+00,\n",
       "          -2.04844779e+01,   5.33458956e+00,   2.46459159e+00,\n",
       "          -3.28518467e-01,  -5.70000000e+00,  -9.16115612e-01,\n",
       "           2.26960620e-02,   1.85433074e+00,  -5.07362465e-01,\n",
       "          -6.86491491e-03,   4.94547823e-02,   1.25028233e-01,\n",
       "           9.90896079e-01]),\n",
       "  array([ 0.75652367,  0.62503444, -0.34007038, -0.28496404,  0.10951551,\n",
       "          0.52391224, -0.80256698,  0.01256228]),\n",
       "  -0.00067416432233079345,\n",
       "  array([  1.96115337e+00,   1.78302372e+00,   1.72699740e+00,\n",
       "           1.78799989e+00,   1.44490611e+00,   1.96741414e+00,\n",
       "           1.83155284e+00,   1.04932561e+00,   7.90542373e+00,\n",
       "          -1.96024160e+01,  -5.92422643e+00,  -2.26639572e+01,\n",
       "          -1.02707755e+01,   1.60655166e+01,   1.25384431e+01,\n",
       "          -1.06979104e+00,   3.57964035e+00,  -1.47370858e+00,\n",
       "           4.15487837e+00,  -3.00219945e+00,   5.70000000e+00,\n",
       "           6.00920189e-01,   1.15376994e+00,   5.70000000e+00,\n",
       "          -2.94199615e-03,   5.65330927e-02,   1.27405343e-01,\n",
       "           9.90233928e-01]),\n",
       "  False),\n",
       " (array([  1.88281472e+00,   1.92769927e+00,   2.22564502e+00,\n",
       "           2.00726286e+00,   1.47840924e+00,   1.97645792e+00,\n",
       "           1.93894728e+00,   1.92939217e+00,   1.22074009e+00,\n",
       "          -1.43602649e+00,  -5.90184685e+00,   4.22800362e+00,\n",
       "          -3.84932220e+00,  -5.60396868e+00,  -1.98921321e-05,\n",
       "           3.94022267e+00,   1.01855572e+00,  -1.44047317e-01,\n",
       "          -3.08121798e+00,   8.81271766e-01,   5.70000000e+00,\n",
       "          -3.49455232e+00,  -5.92766471e-01,   2.27272037e-01,\n",
       "           5.93313927e-02,   4.17158815e-02,   6.49415990e-02,\n",
       "           9.95249798e-01]),\n",
       "  array([-0.02254873, -0.4880857 ,  0.92091137, -0.54597929, -0.10881537,\n",
       "          0.38357291,  0.79687354,  0.35204021]),\n",
       "  -0.0031722093208007228,\n",
       "  array([  1.91455040e+00,   1.94244497e+00,   2.06298807e+00,\n",
       "           2.03173643e+00,   1.35052465e+00,   1.96089241e+00,\n",
       "           1.93894702e+00,   1.86394551e+00,   3.53043506e+00,\n",
       "           2.11574313e+00,  -2.22005458e+01,   1.54091696e+00,\n",
       "          -1.80915963e+01,   4.29709779e-01,  -5.37497414e-05,\n",
       "          -1.27512666e+01,   4.38918239e-01,   7.64191462e-01,\n",
       "          -3.69251139e+00,  -1.80853442e-01,  -3.88448465e+00,\n",
       "           9.22821474e-01,   1.50366388e+00,  -3.66411412e+00,\n",
       "           6.34047412e-02,   4.24693655e-02,   6.53447539e-02,\n",
       "           9.94940327e-01]),\n",
       "  False),\n",
       " (array([  1.34039434e+00,   2.14093714e+00,   2.22777888e+00,\n",
       "           1.86098651e+00,   1.11725688e+00,   1.69905025e+00,\n",
       "           1.34842776e+00,   1.87675284e+00,  -1.80100230e+01,\n",
       "           1.82315371e+00,   9.24796119e+00,  -6.93008676e-04,\n",
       "          -2.69261117e+00,  -1.39399199e+00,   1.03299869e+00,\n",
       "          -1.76513514e+00,  -4.20602859e-01,  -2.88863994e-01,\n",
       "           1.24303696e+00,  -1.32274609e+00,   1.39040672e+00,\n",
       "           5.47831510e+00,   5.38136211e+00,  -1.72014282e+00,\n",
       "           2.30912564e-01,   6.29168303e-02,   1.23054177e-01,\n",
       "           9.63108784e-01]),\n",
       "  array([-0.88829322,  0.43297809, -0.74881784,  0.69666803,  0.85719134,\n",
       "          0.7935248 , -0.05337305, -0.6864025 ]),\n",
       "  0.0010378265228389058,\n",
       "  array([  1.11881077e+00,   2.10225499e+00,   2.21995585e+00,\n",
       "           1.86098159e+00,   1.08467573e+00,   1.66526758e+00,\n",
       "           1.37818639e+00,   1.89693742e+00,  -2.27958238e+01,\n",
       "          -4.41349468e+00,  -7.07140139e+00,  -3.19533953e-04,\n",
       "          -3.09605813e+00,  -3.63406258e+00,   4.23737393e+00,\n",
       "           1.85897882e+00,  -9.42765596e-01,  -2.54033805e-01,\n",
       "          -4.00738530e+00,  -5.70000000e+00,   5.70000000e+00,\n",
       "          -1.56313393e+00,   4.37425764e+00,   5.70000000e+00,\n",
       "           2.35112927e-01,   6.66513436e-02,   1.24460874e-01,\n",
       "           9.61659504e-01]),\n",
       "  False),\n",
       " (array([  1.84461797e+00,   1.66495126e+00,   1.69553762e+00,\n",
       "           1.80976395e+00,   1.91593243e+00,   1.68290764e+00,\n",
       "           1.82074242e+00,   1.70057384e+00,   4.97037499e+00,\n",
       "           7.65507875e+00,  -4.52188887e+00,  -1.93335744e+01,\n",
       "          -2.19874978e+01,   6.59551613e+00,  -1.40558231e+01,\n",
       "          -6.04282870e+00,  -9.25963951e-01,   4.14313650e+00,\n",
       "           1.34588035e-01,  -4.89567969e+00,  -4.59870075e+00,\n",
       "           5.30090157e+00,   4.29350759e-01,  -1.06212015e-01,\n",
       "          -1.14075190e-01,  -3.65327657e-03,   1.18391475e-01,\n",
       "           9.86385808e-01]),\n",
       "  array([ 0.47331299, -0.24029132,  0.54492711, -0.43498343,  0.55730476,\n",
       "         -0.75083818, -0.69050864, -0.05727569]),\n",
       "  -0.0023696039552157512,\n",
       "  array([  1.82323612e+00,   1.57127424e+00,   1.75791753e+00,\n",
       "           1.72215224e+00,   1.79801906e+00,   1.86026214e+00,\n",
       "           1.79021823e+00,   1.67805473e+00,  -1.68636495e+00,\n",
       "          -1.52929249e+01,   1.26856211e+01,  -1.62141173e+00,\n",
       "          -5.25272953e+00,   2.48541849e+01,   3.28995175e+00,\n",
       "          -8.01367283e-01,   1.10540214e+00,  -1.47482487e+00,\n",
       "           3.69870207e+00,   5.70000000e+00,   3.72347709e+00,\n",
       "           5.70000000e+00,   4.81577735e+00,   1.09360185e-01,\n",
       "          -1.29520101e-01,   1.80387281e-03,   1.20056937e-01,\n",
       "           9.84280256e-01]),\n",
       "  False),\n",
       " (array([  1.35234393e+00,   2.41299194e+00,   2.32585541e+00,\n",
       "           1.75584637e+00,   1.76651344e+00,   1.27512137e+00,\n",
       "           1.60347935e+00,   1.24229943e+00,   1.00562264e+01,\n",
       "          -8.59881018e+00,  -1.17463716e+01,  -2.01963409e+01,\n",
       "          -2.32978032e+00,  -4.05249391e+00,   1.39545383e+01,\n",
       "          -1.62583255e+01,   2.72238090e+00,  -1.17753161e+00,\n",
       "          -3.44947576e+00,  -4.34541650e+00,  -2.70294355e-01,\n",
       "           4.63220526e-01,   1.83499828e+00,  -1.95170739e+00,\n",
       "           2.33114816e-01,   1.92652183e-02,   9.13027300e-02,\n",
       "           9.67961851e-01]),\n",
       "  array([-0.25530047, -0.96816929, -0.89962348, -0.82745996,  0.28903875,\n",
       "         -0.2604481 , -0.7505289 ,  0.40757139]),\n",
       "  0.00010553343993060182,\n",
       "  array([  1.43051779e+00,   2.27133211e+00,   2.12054969e+00,\n",
       "           1.65293539e+00,   1.80682383e+00,   1.29263519e+00,\n",
       "           1.79774877e+00,   1.11953952e+00,   6.65431658e+00,\n",
       "          -1.36863887e+01,  -2.48001044e+01,  -3.53307344e+00,\n",
       "           6.12138803e+00,   3.48035751e+00,   2.10270145e+01,\n",
       "          -1.01073544e+01,  -2.08519045e-01,  -5.96620050e-01,\n",
       "          -2.52053655e+00,   5.70000000e+00,   5.70000000e+00,\n",
       "           4.18377300e+00,   1.03064375e+00,   6.38908513e-01,\n",
       "           2.26292501e-01,   1.80506001e-02,   9.08329217e-02,\n",
       "           9.69646977e-01]),\n",
       "  False)]"
      ]
     },
     "execution_count": 16,
     "metadata": {},
     "output_type": "execute_result"
    }
   ],
   "source": [
    "random.sample(agent.memory.cache,10)"
   ]
  },
  {
   "cell_type": "code",
   "execution_count": 17,
   "metadata": {},
   "outputs": [
    {
     "name": "stdout",
     "output_type": "stream",
     "text": [
      "[[-6.27407074  2.36465549  1.7893852  -2.17177129 -1.71114409 -2.19664979\n",
      "  -2.2330997  -3.76319456]]\n",
      "[[-6.87748861 -0.74075544 -0.90776497 -2.85984898 -0.92940193  2.40037584\n",
      "  -0.4016895  -0.97827351]]\n",
      "[[-1.35147691  2.07544851  0.19006564 -0.70224947 -1.23897171  0.20759955\n",
      "  -2.07310987 -2.25320101]]\n",
      "[[-8.98901749 -1.13821292 -0.46107009  0.05533679  6.41993093 -2.01343751\n",
      "  -2.62338924 -0.72103369]]\n",
      "[[-3.24490952 -0.66888809  1.996346   -0.12613535 -0.43376571  0.86592627\n",
      "  -1.52008319 -1.50002885]]\n",
      "[[-5.23700857 -0.94768602 -0.89439744 -4.02588367  0.8717218   1.93433857\n",
      "  -0.4948442   2.02600646]]\n",
      "[[-4.69023657  0.99588394  1.06371164 -1.60207605 -0.62572771  1.84070849\n",
      "  -1.50718725 -3.97688866]]\n",
      "[[-11.24280453  -0.99452204  -4.41993952  -0.31197953   4.9947772\n",
      "   -5.91279125  -0.39650393   0.6413511 ]]\n",
      "[[-4.99332952 -0.46657062  2.18305159 -1.75606668 -1.46240413  0.51758784\n",
      "  -2.03540564 -2.92698097]]\n",
      "[[-6.55069065  2.05745554 -0.90178531 -7.84724236 -1.2399298   4.39114618\n",
      "   0.03481889 -0.86539102]]\n"
     ]
    }
   ],
   "source": [
    "for s,a,r,s2,d in random.sample(agent.memory.cache,10):\n",
    "    s = agent.expand_state_vector(s)\n",
    "    s2 = agent.expand_state_vector(s2)\n",
    "    \n",
    "    print(agent.model.predict(s))"
   ]
  },
  {
   "cell_type": "code",
   "execution_count": 34,
   "metadata": {},
   "outputs": [],
   "source": [
    "import sys\n",
    "sys.path.append(\"C:/git/gdpr-scan/\")"
   ]
  },
  {
   "cell_type": "code",
   "execution_count": 64,
   "metadata": {},
   "outputs": [],
   "source": [
    "from gdpr_scanner import utils"
   ]
  },
  {
   "cell_type": "code",
   "execution_count": 65,
   "metadata": {},
   "outputs": [],
   "source": [
    "fp = utils.FileParser()"
   ]
  },
  {
   "cell_type": "code",
   "execution_count": 67,
   "metadata": {},
   "outputs": [
    {
     "name": "stdout",
     "output_type": "stream",
     "text": [
      "hello\n",
      "Wall time: 2.29 s\n"
     ]
    }
   ],
   "source": [
    "%%time\n",
    "data = fp.parse_folder(\"//EKIFILESERVER3/Sadri/1. Renault/\")"
   ]
  },
  {
   "cell_type": "code",
   "execution_count": 63,
   "metadata": {},
   "outputs": [
    {
     "data": {
      "text/plain": [
       "(92892, 3)"
      ]
     },
     "execution_count": 63,
     "metadata": {},
     "output_type": "execute_result"
    }
   ],
   "source": [
    "data.shape"
   ]
  },
  {
   "cell_type": "code",
   "execution_count": 62,
   "metadata": {},
   "outputs": [
    {
     "data": {
      "image/png": "[encoded data removed]",
      "text/plain": [
       "<matplotlib.figure.Figure at 0x3cfb5898>"
      ]
     },
     "metadata": {},
     "output_type": "display_data"
    }
   ],
   "source": [
    "data[\"type\"].value_counts().head(20).plot(kind = \"bar\",figsize = (20,5))\n",
    "plt.show()"
   ]
  },
  {
   "cell_type": "code",
   "execution_count": 57,
   "metadata": {},
   "outputs": [],
   "source": [
    "from ekimetrics.utils.time import play_alarm"
   ]
  },
  {
   "cell_type": "code",
   "execution_count": 58,
   "metadata": {},
   "outputs": [],
   "source": [
    "play_alarm()"
   ]
  }
 ],
 "metadata": {
  "anaconda-cloud": {},
  "kernelspec": {
   "display_name": "Python [conda root]",
   "language": "python",
   "name": "conda-root-py"
  },
  "language_info": {
   "codemirror_mode": {
    "name": "ipython",
    "version": 3
   },
   "file_extension": ".py",
   "mimetype": "text/x-python",
   "name": "python",
   "nbconvert_exporter": "python",
   "pygments_lexer": "ipython3",
   "version": "3.5.2"
  },
  "toc": {
   "colors": {
    "hover_highlight": "#DAA520",
    "running_highlight": "#FF0000",
    "selected_highlight": "#FFD700"
   },
   "moveMenuLeft": true,
   "nav_menu": {
    "height": "12px",
    "width": "252px"
   },
   "navigate_menu": true,
   "number_sections": true,
   "sideBar": true,
   "threshold": 4,
   "toc_cell": false,
   "toc_section_display": "block",
   "toc_window_display": false,
   "widenNotebook": false
  }
 },
 "nbformat": 4,
 "nbformat_minor": 2
}
