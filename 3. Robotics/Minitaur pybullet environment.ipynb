{
 "cells": [
  {
   "cell_type": "code",
   "execution_count": 1,
   "metadata": {},
   "outputs": [],
   "source": [
    "# Usual\n",
    "import os\n",
    "import matplotlib.pyplot as plt\n",
    "import pandas as pd\n",
    "import numpy as np\n",
    "import sys\n",
    "import time\n",
    "from tqdm import tqdm\n",
    "\n",
    "# Autoreload\n",
    "%load_ext autoreload\n",
    "%autoreload 2\n",
    "%reload_ext autoreload\n",
    "%matplotlib inline"
   ]
  },
  {
   "cell_type": "markdown",
   "metadata": {},
   "source": [
    "https://docs.google.com/document/d/10sXEhzFRSnvFcl3XxNGhnD4N2SedqwdAvK3dsihxVUA/edit#"
   ]
  },
  {
   "cell_type": "code",
   "execution_count": 2,
   "metadata": {},
   "outputs": [],
   "source": [
    "import pybullet"
   ]
  },
  {
   "cell_type": "code",
   "execution_count": 3,
   "metadata": {},
   "outputs": [
    {
     "name": "stdout",
     "output_type": "stream",
     "text": [
      "current_dir=C:\\Users\\talvesdacosta\\AppData\\Local\\Continuum\\Anaconda3\\lib\\site-packages\\pybullet_envs\\bullet\n",
      "current_dir=C:\\Users\\talvesdacosta\\AppData\\Local\\Continuum\\Anaconda3\\lib\\site-packages\\pybullet_envs\\bullet\n",
      "urdf_root=C:\\Users\\talvesdacosta\\AppData\\Local\\Continuum\\Anaconda3\\lib\\site-packages\\pybullet_data\n"
     ]
    }
   ],
   "source": [
    "import pybullet_envs.bullet.minitaur_gym_env as e\n",
    "env = e.MinitaurBulletEnv(render=True)"
   ]
  },
  {
   "cell_type": "markdown",
   "metadata": {},
   "source": [
    "# Understanding the environment"
   ]
  },
  {
   "cell_type": "code",
   "execution_count": 4,
   "metadata": {},
   "outputs": [
    {
     "data": {
      "text/plain": [
       "28"
      ]
     },
     "execution_count": 4,
     "metadata": {},
     "output_type": "execute_result"
    }
   ],
   "source": [
    "STATE_SIZE = env.observation_space.shape[0]\n",
    "STATE_SIZE"
   ]
  },
  {
   "cell_type": "code",
   "execution_count": 5,
   "metadata": {},
   "outputs": [
    {
     "name": "stdout",
     "output_type": "stream",
     "text": [
      "[-1 -1 -1 -1 -1 -1 -1 -1]\n",
      "[1 1 1 1 1 1 1 1]\n"
     ]
    }
   ],
   "source": [
    "print(env.action_space.low)\n",
    "print(env.action_space.high)"
   ]
  },
  {
   "cell_type": "code",
   "execution_count": 6,
   "metadata": {},
   "outputs": [
    {
     "data": {
      "text/plain": [
       "8"
      ]
     },
     "execution_count": 6,
     "metadata": {},
     "output_type": "execute_result"
    }
   ],
   "source": [
    "ACTION_SIZE = env.action_space.shape[0]\n",
    "ACTION_SIZE"
   ]
  },
  {
   "cell_type": "markdown",
   "metadata": {},
   "source": [
    "# Random moves"
   ]
  },
  {
   "cell_type": "markdown",
   "metadata": {},
   "source": [
    "## Try a random policy"
   ]
  },
  {
   "cell_type": "code",
   "execution_count": 7,
   "metadata": {},
   "outputs": [
    {
     "data": {
      "text/plain": [
       "array([ 0.38536649,  0.56869759, -0.43308386,  0.9615505 , -0.83600312,\n",
       "       -0.36766522, -0.43706896, -0.25853698])"
      ]
     },
     "execution_count": 7,
     "metadata": {},
     "output_type": "execute_result"
    }
   ],
   "source": [
    "np.random.random(8)*2 - 1"
   ]
  },
  {
   "cell_type": "code",
   "execution_count": 8,
   "metadata": {},
   "outputs": [],
   "source": [
    "def random_action():\n",
    "    return np.random.random(ACTION_SIZE)*2 - 1"
   ]
  },
  {
   "cell_type": "code",
   "execution_count": 9,
   "metadata": {},
   "outputs": [
    {
     "name": "stderr",
     "output_type": "stream",
     "text": [
      "100%|████████████████████████████████████████| 100/100 [00:01<00:00, 51.89it/s]\n"
     ]
    }
   ],
   "source": [
    "rewards = []\n",
    "s_nexts = []\n",
    "infos = []\n",
    "s = env.reset()\n",
    "\n",
    "for i in tqdm(range(100)):\n",
    "    actions = random_action()\n",
    "    env.render()\n",
    "    s_next,r,done,info = env.step(actions)\n",
    "    s_nexts.append(s_next)\n",
    "    infos.append(info)\n",
    "    rewards.append(r)"
   ]
  },
  {
   "cell_type": "markdown",
   "metadata": {},
   "source": [
    "## Explore the data returned by the environment"
   ]
  },
  {
   "cell_type": "code",
   "execution_count": 13,
   "metadata": {},
   "outputs": [
    {
     "data": {
      "text/plain": [
       "{}"
      ]
     },
     "execution_count": 13,
     "metadata": {},
     "output_type": "execute_result"
    }
   ],
   "source": [
    "infos[0]"
   ]
  },
  {
   "cell_type": "code",
   "execution_count": 14,
   "metadata": {},
   "outputs": [
    {
     "data": {
      "text/plain": [
       "[-0.00047881277044909521,\n",
       " -0.00024526470346701351,\n",
       " -0.0011944926061204396,\n",
       " -0.0011646968378199998,\n",
       " -0.0030942434154715166]"
      ]
     },
     "execution_count": 14,
     "metadata": {},
     "output_type": "execute_result"
    }
   ],
   "source": [
    "rewards[:5]"
   ]
  },
  {
   "cell_type": "code",
   "execution_count": 16,
   "metadata": {},
   "outputs": [
    {
     "data": {
      "text/plain": [
       "array([  1.44067050e+00,   1.47115851e+00,   1.53102526e+00,\n",
       "         1.52258336e+00,   1.53793137e+00,   1.54268266e+00,\n",
       "         1.48200574e+00,   1.56954979e+00,  -9.38269728e+00,\n",
       "        -2.77456238e+00,   2.89582127e+00,   2.37714265e+00,\n",
       "         2.26310536e+00,   2.36976821e+00,  -4.29077102e+00,\n",
       "         7.80139986e+00,  -1.59646062e+00,  -1.34636550e-01,\n",
       "         8.59873974e-01,   2.23901040e+00,   2.74382541e+00,\n",
       "         3.60712488e+00,  -8.72725117e-01,   1.96200634e+00,\n",
       "        -2.23100006e-03,   1.87687846e-03,   5.42155351e-04,\n",
       "         9.99995603e-01])"
      ]
     },
     "execution_count": 16,
     "metadata": {},
     "output_type": "execute_result"
    }
   ],
   "source": [
    "s_nexts[0]"
   ]
  },
  {
   "cell_type": "markdown",
   "metadata": {},
   "source": [
    "# First attempt with a DQN agent"
   ]
  },
  {
   "cell_type": "code",
   "execution_count": 19,
   "metadata": {},
   "outputs": [],
   "source": [
    "import sys\n",
    "sys.path.append(\"..\")"
   ]
  },
  {
   "cell_type": "code",
   "execution_count": 43,
   "metadata": {},
   "outputs": [],
   "source": [
    "from rl.agents.dqn_agent import DQNAgent"
   ]
  },
  {
   "cell_type": "code",
   "execution_count": 50,
   "metadata": {},
   "outputs": [],
   "source": [
    "agent = DQNAgent(STATE_SIZE,ACTION_SIZE,low = -1,high = 1,action_type=\"continuous\")"
   ]
  },
  {
   "cell_type": "code",
   "execution_count": 51,
   "metadata": {},
   "outputs": [],
   "source": [
    "N_EPISODES = 100\n",
    "MAX_STEPS = 1000"
   ]
  },
  {
   "cell_type": "code",
   "execution_count": null,
   "metadata": {},
   "outputs": [
    {
     "name": "stdout",
     "output_type": "stream",
     "text": [
      "Episode 1/100 finished after 999 timesteps - epsilon : 1.0 - reward : -1.4\n",
      "Episode 2/100 finished after 766 timesteps - epsilon : 1.0 - reward : -0.83\n",
      "Episode 3/100 finished after 66 timesteps - epsilon : 1.0 - reward : -0.086\n"
     ]
    }
   ],
   "source": [
    "#---------------------------------------------\n",
    "# ITERATION OVER EPISODES\n",
    "for i_episode in range(N_EPISODES):\n",
    "\n",
    "    # Reset the environment\n",
    "    s = env.reset()\n",
    "    reward = 0\n",
    "    #-----------------------------------------\n",
    "    # EPISODE RUN\n",
    "    for i_step in range(MAX_STEPS):\n",
    "\n",
    "        # Render the environement\n",
    "        # env.render() #and (i_step % RENDER_EVERY == 0)\n",
    "\n",
    "        # The agent chose the action considering the given current state\n",
    "        a = agent.act(s)\n",
    "\n",
    "        # Take the action, get the reward from environment and go to the next state\n",
    "        s_next,r,done,info = env.step(a)\n",
    "        reward += r\n",
    "\n",
    "        # Remember the important variables\n",
    "        agent.remember(s,a,r,s_next,done)\n",
    "\n",
    "        # Go to the next state\n",
    "        s = s_next\n",
    "\n",
    "        # If the episode is terminated\n",
    "        if done or i_step == MAX_STEPS - 1:\n",
    "            print(\"Episode {}/{} finished after {} timesteps - epsilon : {:.2} - reward : {:.2}\".format(i_episode+1,N_EPISODES,i_step,agent.epsilon,reward))\n",
    "            break"
   ]
  },
  {
   "cell_type": "code",
   "execution_count": null,
   "metadata": {},
   "outputs": [],
   "source": []
  }
 ],
 "metadata": {
  "anaconda-cloud": {},
  "kernelspec": {
   "display_name": "Python [conda root]",
   "language": "python",
   "name": "conda-root-py"
  },
  "language_info": {
   "codemirror_mode": {
    "name": "ipython",
    "version": 3
   },
   "file_extension": ".py",
   "mimetype": "text/x-python",
   "name": "python",
   "nbconvert_exporter": "python",
   "pygments_lexer": "ipython3",
   "version": "3.5.2"
  },
  "toc": {
   "colors": {
    "hover_highlight": "#DAA520",
    "running_highlight": "#FF0000",
    "selected_highlight": "#FFD700"
   },
   "moveMenuLeft": true,
   "nav_menu": {
    "height": "12px",
    "width": "252px"
   },
   "navigate_menu": true,
   "number_sections": true,
   "sideBar": true,
   "threshold": 4,
   "toc_cell": false,
   "toc_section_display": "block",
   "toc_window_display": false
  }
 },
 "nbformat": 4,
 "nbformat_minor": 2
}
