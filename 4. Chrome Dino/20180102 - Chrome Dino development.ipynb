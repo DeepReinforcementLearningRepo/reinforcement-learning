{
 "cells": [
  {
   "cell_type": "markdown",
   "metadata": {
    "heading_collapsed": true
   },
   "source": [
    "# Chrome Dino environment development\n",
    "![](http://www.skipser.com/test/trex-game/promotion/trex-chrome-game.png)"
   ]
  },
  {
   "cell_type": "code",
   "execution_count": 1,
   "metadata": {
    "ExecuteTime": {
     "end_time": "2018-01-09T11:41:57.046191Z",
     "start_time": "2018-01-09T11:41:55.871191Z"
    },
    "hidden": true,
    "init_cell": true
   },
   "outputs": [],
   "source": [
    "# Usual\n",
    "import os\n",
    "import matplotlib.pyplot as plt\n",
    "import pandas as pd\n",
    "import numpy as np\n",
    "import sys\n",
    "import time\n",
    "from tqdm import tqdm\n",
    "\n",
    "# Autoreload\n",
    "%load_ext autoreload\n",
    "%autoreload 2\n",
    "%reload_ext autoreload\n",
    "%matplotlib inline"
   ]
  },
  {
   "cell_type": "markdown",
   "metadata": {
    "hidden": true
   },
   "source": [
    "Game is available at https://chromedino.com/"
   ]
  },
  {
   "cell_type": "markdown",
   "metadata": {
    "hidden": true
   },
   "source": [
    "##### Summary\n",
    "- Capturing image from the game - **OK**\n",
    "- Allowing control programmatically - **OK**\n",
    "- Trying a simple implementation of rules-based agent with classic CV algorithms - **OK** \n",
    "- Capturing scores for fitness and reward - **OK**\n",
    "- Creating the environment for RL - **OK**\n",
    "- Developing a RL agent that learns via evolution strategies\n",
    "  - Feature engineering the input with detected boundaries\n",
    "  - Taking raw image as input\n",
    "  - Taking processed image as input\n",
    "  - Initialize the agent with hard coded policy\n",
    "- Combine the RL agent and the rules-based Agent\n",
    "\n",
    "##### Additional content\n",
    "- Forcing size to ensure compatibility and reproducibility\n",
    "- Using the framework to have multiple games at the same time ?\n"
   ]
  },
  {
   "cell_type": "markdown",
   "metadata": {
    "hidden": true
   },
   "source": [
    "##### References on OpenCV\n",
    "- [OpenCV docs](https://docs.opencv.org/3.1.0/dd/d3b/tutorial_py_svm_opencv.html)\n",
    "- [OpenCV tutorials](http://opencv-python-tutroals.readthedocs.io/en/latest/py_tutorials/py_feature2d/py_table_of_contents_feature2d/py_table_of_contents_feature2d.html)\n",
    "- [Sentdex tutorials](https://pythonprogramming.net/loading-images-python-opencv-tutorial/)\n",
    "\n",
    "##### References on RL\n",
    "- [Genetic algorithms tutorial](https://nathanrooy.github.io/posts/2017-11-30/evolving-simple-organisms-using-a-genetic-algorithm-and-deep-learning/?utm_source=mybridge&utm_medium=blog&utm_campaign=read_more)"
   ]
  },
  {
   "cell_type": "markdown",
   "metadata": {
    "hidden": true
   },
   "source": [
    "***"
   ]
  },
  {
   "cell_type": "markdown",
   "metadata": {
    "heading_collapsed": true
   },
   "source": [
    "# Capturing image from the game"
   ]
  },
  {
   "cell_type": "code",
   "execution_count": 2,
   "metadata": {
    "ExecuteTime": {
     "end_time": "2018-01-09T11:41:57.298191Z",
     "start_time": "2018-01-09T11:41:57.050191Z"
    },
    "hidden": true,
    "init_cell": true
   },
   "outputs": [],
   "source": [
    "import cv2\n",
    "from PIL import Image,ImageGrab"
   ]
  },
  {
   "cell_type": "markdown",
   "metadata": {
    "hidden": true
   },
   "source": [
    "##### Test with imagegrab\n",
    "Image grab takes a bounding box with coordinates ``left,top,right,bottom``"
   ]
  },
  {
   "cell_type": "code",
   "execution_count": 15,
   "metadata": {
    "ExecuteTime": {
     "end_time": "2018-01-02T23:44:14.366800Z",
     "start_time": "2018-01-02T23:44:14.117800Z"
    },
    "hidden": true
   },
   "outputs": [
    {
     "data": {
      "image/png": "[encoded data removed]",
      "text/plain": [
       "<PIL.Image.Image image mode=RGB size=100x200 at 0xB3B6BE0>"
      ]
     },
     "execution_count": 15,
     "metadata": {},
     "output_type": "execute_result"
    }
   ],
   "source": [
    "ImageGrab.grab(bbox=(0,0,100,200))"
   ]
  },
  {
   "cell_type": "markdown",
   "metadata": {
    "hidden": true
   },
   "source": [
    "###### Get screen size"
   ]
  },
  {
   "cell_type": "code",
   "execution_count": 16,
   "metadata": {
    "ExecuteTime": {
     "end_time": "2018-01-02T23:45:08.240800Z",
     "start_time": "2018-01-02T23:45:08.070800Z"
    },
    "hidden": true
   },
   "outputs": [
    {
     "data": {
      "text/plain": [
       "(1920, 1080)"
      ]
     },
     "execution_count": 16,
     "metadata": {},
     "output_type": "execute_result"
    }
   ],
   "source": [
    "def get_size():\n",
    "    img = ImageGrab.grab()\n",
    "    return img.size\n",
    "get_size()"
   ]
  },
  {
   "cell_type": "code",
   "execution_count": 18,
   "metadata": {
    "ExecuteTime": {
     "end_time": "2018-01-02T23:47:22.483800Z",
     "start_time": "2018-01-02T23:47:22.158800Z"
    },
    "hidden": true
   },
   "outputs": [
    {
     "data": {
      "text/plain": [
       "960.0"
      ]
     },
     "execution_count": 18,
     "metadata": {},
     "output_type": "execute_result"
    }
   ],
   "source": [
    "1920/2"
   ]
  },
  {
   "cell_type": "markdown",
   "metadata": {
    "hidden": true
   },
   "source": [
    "##### Get ROI (Region Of Interest)"
   ]
  },
  {
   "cell_type": "code",
   "execution_count": 3,
   "metadata": {
    "ExecuteTime": {
     "end_time": "2018-01-09T11:41:57.723191Z",
     "start_time": "2018-01-09T11:41:57.301191Z"
    },
    "hidden": true,
    "init_cell": true
   },
   "outputs": [
    {
     "data": {
      "image/png": "[encoded data removed]",
      "text/plain": [
       "<PIL.Image.Image image mode=RGB size=830x250 at 0xA5B3438>"
      ]
     },
     "execution_count": 3,
     "metadata": {},
     "output_type": "execute_result"
    }
   ],
   "source": [
    "def grab_roi():\n",
    "    return ImageGrab.grab(bbox=(1020,350,1850,600))\n",
    "\n",
    "grab_roi()"
   ]
  },
  {
   "cell_type": "markdown",
   "metadata": {
    "hidden": true
   },
   "source": [
    "***"
   ]
  },
  {
   "cell_type": "markdown",
   "metadata": {
    "heading_collapsed": true
   },
   "source": [
    "# Allowing control programmatically"
   ]
  },
  {
   "cell_type": "markdown",
   "metadata": {
    "hidden": true
   },
   "source": [
    "http://pyautogui.readthedocs.io/en/latest/keyboard.html"
   ]
  },
  {
   "cell_type": "code",
   "execution_count": 4,
   "metadata": {
    "ExecuteTime": {
     "end_time": "2018-01-09T11:41:58.065191Z",
     "start_time": "2018-01-09T11:41:57.725191Z"
    },
    "hidden": true,
    "init_cell": true
   },
   "outputs": [],
   "source": [
    "import pyautogui\n",
    "import time\n",
    "import random"
   ]
  },
  {
   "cell_type": "markdown",
   "metadata": {
    "hidden": true
   },
   "source": [
    "###### Pressing up"
   ]
  },
  {
   "cell_type": "code",
   "execution_count": 40,
   "metadata": {
    "ExecuteTime": {
     "end_time": "2018-01-03T00:11:15.024800Z",
     "start_time": "2018-01-03T00:11:14.680800Z"
    },
    "hidden": true
   },
   "outputs": [],
   "source": [
    "pyautogui.press(\"up\")"
   ]
  },
  {
   "cell_type": "markdown",
   "metadata": {
    "hidden": true
   },
   "source": [
    "##### Planning multiple presses"
   ]
  },
  {
   "cell_type": "code",
   "execution_count": 42,
   "metadata": {
    "ExecuteTime": {
     "end_time": "2018-01-03T00:13:01.390800Z",
     "start_time": "2018-01-03T00:12:56.575800Z"
    },
    "hidden": true
   },
   "outputs": [
    {
     "name": "stdout",
     "output_type": "stream",
     "text": [
      "UP\n",
      "UP\n",
      "UP\n",
      "UP\n",
      "UP\n",
      "UP\n"
     ]
    }
   ],
   "source": [
    "t = time.time()\n",
    "while time.time() - t < 3:\n",
    "    print(\"UP\")\n",
    "    time.sleep(random.random()*2)\n",
    "    pyautogui.press(\"up\")"
   ]
  },
  {
   "cell_type": "markdown",
   "metadata": {
    "hidden": true
   },
   "source": [
    "##### Moving mouse to other screen"
   ]
  },
  {
   "cell_type": "code",
   "execution_count": 44,
   "metadata": {
    "ExecuteTime": {
     "end_time": "2018-01-03T00:14:21.483800Z",
     "start_time": "2018-01-03T00:14:19.939800Z"
    },
    "hidden": true
   },
   "outputs": [],
   "source": [
    "pyautogui.click(x=1000,y = 500)\n",
    "time.sleep(1)\n",
    "pyautogui.press(\"up\")"
   ]
  },
  {
   "cell_type": "markdown",
   "metadata": {
    "hidden": true
   },
   "source": [
    "##### Random game for 10s"
   ]
  },
  {
   "cell_type": "code",
   "execution_count": 8,
   "metadata": {
    "ExecuteTime": {
     "end_time": "2018-01-03T09:10:06.978598Z",
     "start_time": "2018-01-03T09:09:56.205598Z"
    },
    "hidden": true
   },
   "outputs": [
    {
     "name": "stdout",
     "output_type": "stream",
     "text": [
      "UP\n",
      "UP\n",
      "UP\n",
      "UP\n",
      "UP\n",
      "UP\n",
      "UP\n",
      "UP\n",
      "UP\n"
     ]
    }
   ],
   "source": [
    "t = time.time()\n",
    "pyautogui.click(x=1000,y = 500)\n",
    "while time.time() - t < 10:\n",
    "    print(\"UP\")\n",
    "    time.sleep(random.random()*2)\n",
    "    pyautogui.press(\"up\")"
   ]
  },
  {
   "cell_type": "markdown",
   "metadata": {
    "hidden": true
   },
   "source": [
    "***"
   ]
  },
  {
   "cell_type": "markdown",
   "metadata": {
    "heading_collapsed": true
   },
   "source": [
    "# Try a simple implementation with classic CV algorithms"
   ]
  },
  {
   "cell_type": "markdown",
   "metadata": {
    "hidden": true
   },
   "source": [
    "## Preparing the preprocessing"
   ]
  },
  {
   "cell_type": "markdown",
   "metadata": {
    "hidden": true
   },
   "source": [
    "##### Capturing a sample image of the game"
   ]
  },
  {
   "cell_type": "code",
   "execution_count": 48,
   "metadata": {
    "ExecuteTime": {
     "end_time": "2018-01-03T00:18:36.656800Z",
     "start_time": "2018-01-03T00:18:36.367800Z"
    },
    "hidden": true
   },
   "outputs": [
    {
     "data": {
      "image/png": "[encoded data removed]",
      "text/plain": [
       "<PIL.Image.Image image mode=RGB size=830x250 at 0xA28BE48>"
      ]
     },
     "execution_count": 48,
     "metadata": {},
     "output_type": "execute_result"
    }
   ],
   "source": [
    "img = grab_roi()\n",
    "img"
   ]
  },
  {
   "cell_type": "markdown",
   "metadata": {
    "hidden": true
   },
   "source": [
    "##### Saving for further use"
   ]
  },
  {
   "cell_type": "code",
   "execution_count": 49,
   "metadata": {
    "ExecuteTime": {
     "end_time": "2018-01-03T00:19:42.096800Z",
     "start_time": "2018-01-03T00:19:41.767800Z"
    },
    "hidden": true
   },
   "outputs": [],
   "source": [
    "img.save(\"images/capture1.png\")"
   ]
  },
  {
   "cell_type": "code",
   "execution_count": 20,
   "metadata": {
    "ExecuteTime": {
     "end_time": "2018-01-03T12:34:14.442098Z",
     "start_time": "2018-01-03T12:34:13.816598Z"
    },
    "hidden": true
   },
   "outputs": [],
   "source": [
    "img = Image.open(\"images/capture1.png\")"
   ]
  },
  {
   "cell_type": "code",
   "execution_count": 21,
   "metadata": {
    "ExecuteTime": {
     "end_time": "2018-01-03T12:34:15.084598Z",
     "start_time": "2018-01-03T12:34:14.444598Z"
    },
    "hidden": true
   },
   "outputs": [],
   "source": [
    "img_array = np.array(img)"
   ]
  },
  {
   "cell_type": "markdown",
   "metadata": {
    "hidden": true
   },
   "source": [
    "##### Detecting edges"
   ]
  },
  {
   "cell_type": "code",
   "execution_count": 22,
   "metadata": {
    "ExecuteTime": {
     "end_time": "2018-01-03T12:34:15.813598Z",
     "start_time": "2018-01-03T12:34:15.088098Z"
    },
    "hidden": true
   },
   "outputs": [
    {
     "data": {
      "image/png": "[encoded data removed]",
      "text/plain": [
       "<PIL.Image.Image image mode=L size=830x250 at 0xC19DA58>"
      ]
     },
     "execution_count": 22,
     "metadata": {},
     "output_type": "execute_result"
    }
   ],
   "source": [
    "img_edges = cv2.Canny(img_array,100,200)\n",
    "Image.fromarray(img_edges)"
   ]
  },
  {
   "cell_type": "markdown",
   "metadata": {
    "hidden": true
   },
   "source": [
    "##### Applying a mask"
   ]
  },
  {
   "cell_type": "code",
   "execution_count": 5,
   "metadata": {
    "ExecuteTime": {
     "end_time": "2018-01-09T11:41:58.295191Z",
     "start_time": "2018-01-09T11:41:58.068191Z"
    },
    "hidden": true,
    "init_cell": true
   },
   "outputs": [],
   "source": [
    "def extract_game(img):\n",
    "    mask = np.zeros_like(img)\n",
    "    mask[80:220,130:800] = 255\n",
    "    masked = cv2.bitwise_and(img,mask)\n",
    "    return masked"
   ]
  },
  {
   "cell_type": "code",
   "execution_count": 24,
   "metadata": {
    "ExecuteTime": {
     "end_time": "2018-01-03T09:19:34.234598Z",
     "start_time": "2018-01-03T09:19:34.120598Z"
    },
    "hidden": true,
    "init_cell": false
   },
   "outputs": [
    {
     "data": {
      "image/png": "[encoded data removed]",
      "text/plain": [
       "<PIL.Image.Image image mode=L size=830x250 at 0xD2D3390>"
      ]
     },
     "execution_count": 24,
     "metadata": {},
     "output_type": "execute_result"
    }
   ],
   "source": [
    "img_mask = extract_game(img_edges)\n",
    "Image.fromarray(img_mask)"
   ]
  },
  {
   "cell_type": "markdown",
   "metadata": {
    "hidden": true
   },
   "source": [
    "##### Morphological transformations to extract positions"
   ]
  },
  {
   "cell_type": "code",
   "execution_count": 135,
   "metadata": {
    "ExecuteTime": {
     "end_time": "2018-01-03T01:19:22.925800Z",
     "start_time": "2018-01-03T01:19:22.670800Z"
    },
    "hidden": true
   },
   "outputs": [
    {
     "data": {
      "image/png": "[encoded data removed]",
      "text/plain": [
       "<PIL.Image.Image image mode=L size=830x250 at 0xAE32978>"
      ]
     },
     "execution_count": 135,
     "metadata": {},
     "output_type": "execute_result"
    }
   ],
   "source": [
    "img_eroded = cv2.erode(img_mask,np.ones((4,1),np.uint8))\n",
    "Image.fromarray(img_eroded)"
   ]
  },
  {
   "cell_type": "code",
   "execution_count": 136,
   "metadata": {
    "ExecuteTime": {
     "end_time": "2018-01-03T01:19:24.478800Z",
     "start_time": "2018-01-03T01:19:24.240800Z"
    },
    "hidden": true
   },
   "outputs": [
    {
     "data": {
      "image/png": "[encoded data removed]",
      "text/plain": [
       "<PIL.Image.Image image mode=L size=830x250 at 0xAE328D0>"
      ]
     },
     "execution_count": 136,
     "metadata": {},
     "output_type": "execute_result"
    }
   ],
   "source": [
    "img_dilated = cv2.dilate(img_eroded,np.ones((10,10),np.uint8))\n",
    "Image.fromarray(img_dilated)"
   ]
  },
  {
   "cell_type": "markdown",
   "metadata": {
    "hidden": true
   },
   "source": [
    "##### Finding contours"
   ]
  },
  {
   "cell_type": "code",
   "execution_count": 160,
   "metadata": {
    "ExecuteTime": {
     "end_time": "2018-01-03T01:28:54.884800Z",
     "start_time": "2018-01-03T01:28:54.653800Z"
    },
    "hidden": true
   },
   "outputs": [],
   "source": [
    "im,contours,_ = cv2.findContours(img_dilated.copy(), cv2.RETR_EXTERNAL,cv2.CHAIN_APPROX_SIMPLE)"
   ]
  },
  {
   "cell_type": "code",
   "execution_count": 161,
   "metadata": {
    "ExecuteTime": {
     "end_time": "2018-01-03T01:28:57.121800Z",
     "start_time": "2018-01-03T01:28:56.771800Z"
    },
    "hidden": true
   },
   "outputs": [
    {
     "name": "stdout",
     "output_type": "stream",
     "text": [
      "(250, 830)\n",
      "(250, 830, 3)\n"
     ]
    }
   ],
   "source": [
    "print(im.shape)\n",
    "im = cv2.cvtColor(im,cv2.COLOR_GRAY2BGR)\n",
    "print(im.shape)"
   ]
  },
  {
   "cell_type": "code",
   "execution_count": 162,
   "metadata": {
    "ExecuteTime": {
     "end_time": "2018-01-03T01:29:00.108800Z",
     "start_time": "2018-01-03T01:28:59.852800Z"
    },
    "hidden": true
   },
   "outputs": [
    {
     "data": {
      "image/png": "[encoded data removed]",
      "text/plain": [
       "<PIL.Image.Image image mode=RGB size=830x250 at 0xADF9CC0>"
      ]
     },
     "execution_count": 162,
     "metadata": {},
     "output_type": "execute_result"
    }
   ],
   "source": [
    "cv2.drawContours(im, contours, -1, (255,0,0), 3)\n",
    "Image.fromarray(im)"
   ]
  },
  {
   "cell_type": "markdown",
   "metadata": {
    "hidden": true
   },
   "source": [
    "##### Extracting left positions from contours"
   ]
  },
  {
   "cell_type": "code",
   "execution_count": 164,
   "metadata": {
    "ExecuteTime": {
     "end_time": "2018-01-03T01:29:18.220800Z",
     "start_time": "2018-01-03T01:29:17.963800Z"
    },
    "hidden": true
   },
   "outputs": [
    {
     "data": {
      "text/plain": [
       "2"
      ]
     },
     "execution_count": 164,
     "metadata": {},
     "output_type": "execute_result"
    }
   ],
   "source": [
    "len(contours)"
   ]
  },
  {
   "cell_type": "code",
   "execution_count": 173,
   "metadata": {
    "ExecuteTime": {
     "end_time": "2018-01-03T01:30:31.607800Z",
     "start_time": "2018-01-03T01:30:31.365800Z"
    },
    "hidden": true
   },
   "outputs": [
    {
     "data": {
      "text/plain": [
       "713"
      ]
     },
     "execution_count": 173,
     "metadata": {},
     "output_type": "execute_result"
    }
   ],
   "source": [
    "contours[0].min(axis = 0)[0][0]"
   ]
  },
  {
   "cell_type": "code",
   "execution_count": 174,
   "metadata": {
    "ExecuteTime": {
     "end_time": "2018-01-03T01:30:32.003800Z",
     "start_time": "2018-01-03T01:30:31.770800Z"
    },
    "hidden": true
   },
   "outputs": [
    {
     "data": {
      "text/plain": [
       "365"
      ]
     },
     "execution_count": 174,
     "metadata": {},
     "output_type": "execute_result"
    }
   ],
   "source": [
    "contours[1].min(axis = 0)[0][0]"
   ]
  },
  {
   "cell_type": "code",
   "execution_count": 175,
   "metadata": {
    "ExecuteTime": {
     "end_time": "2018-01-03T01:32:21.585800Z",
     "start_time": "2018-01-03T01:32:21.327800Z"
    },
    "hidden": true
   },
   "outputs": [
    {
     "data": {
      "text/plain": [
       "(250, 830, 3)"
      ]
     },
     "execution_count": 175,
     "metadata": {},
     "output_type": "execute_result"
    }
   ],
   "source": [
    "im.shape"
   ]
  },
  {
   "cell_type": "code",
   "execution_count": 179,
   "metadata": {
    "ExecuteTime": {
     "end_time": "2018-01-03T01:33:48.742800Z",
     "start_time": "2018-01-03T01:33:48.456800Z"
    },
    "hidden": true
   },
   "outputs": [
    {
     "data": {
      "image/png": "[encoded data removed]",
      "text/plain": [
       "<PIL.Image.Image image mode=RGB size=830x250 at 0xACEEEF0>"
      ]
     },
     "execution_count": 179,
     "metadata": {},
     "output_type": "execute_result"
    }
   ],
   "source": [
    "im2 = im.copy()\n",
    "cv2.line(im2,(365,0),(365,250),(255,0,0),1)\n",
    "cv2.line(im2,(713,0),(713,250),(255,0,0),1)\n",
    "Image.fromarray(im2)"
   ]
  },
  {
   "cell_type": "markdown",
   "metadata": {
    "hidden": true
   },
   "source": [
    "## Combine all the steps in a processing function"
   ]
  },
  {
   "cell_type": "code",
   "execution_count": 6,
   "metadata": {
    "ExecuteTime": {
     "end_time": "2018-01-09T11:41:58.546191Z",
     "start_time": "2018-01-09T11:41:58.298191Z"
    },
    "hidden": true,
    "init_cell": true
   },
   "outputs": [],
   "source": [
    "def process_input(img):\n",
    "    img_array = np.array(img)\n",
    "    img_edges = cv2.Canny(img_array,100,200)\n",
    "    img_mask = extract_game(img_edges)\n",
    "    img_eroded = cv2.erode(img_mask,np.ones((4,1),np.uint8))\n",
    "    img_dilated = cv2.dilate(img_eroded,np.ones((10,10),np.uint8))\n",
    "    img_contours,contours,_ = cv2.findContours(img_dilated.copy(), cv2.RETR_EXTERNAL,cv2.CHAIN_APPROX_SIMPLE)\n",
    "    img_contours = cv2.cvtColor(img_contours,cv2.COLOR_GRAY2BGR)\n",
    "    cv2.drawContours(img_contours, contours, -1, (255,0,0), 3)\n",
    "    img_lines = img_contours.copy()\n",
    "    xs = list(sorted([y.min(axis = 0)[0][0] for y in contours]))\n",
    "    for x in xs:\n",
    "        cv2.line(img_lines,(x,0),(x,img_lines.shape[0]),(255,0,0),1)\n",
    "    return img_lines,xs"
   ]
  },
  {
   "cell_type": "code",
   "execution_count": 183,
   "metadata": {
    "ExecuteTime": {
     "end_time": "2018-01-03T01:42:03.105800Z",
     "start_time": "2018-01-03T01:42:02.851800Z"
    },
    "hidden": true
   },
   "outputs": [
    {
     "data": {
      "image/png": "[encoded data removed]",
      "text/plain": [
       "<PIL.Image.Image image mode=RGB size=830x250 at 0xACDBEF0>"
      ]
     },
     "execution_count": 183,
     "metadata": {},
     "output_type": "execute_result"
    }
   ],
   "source": [
    "img_lines,xs = process_input(img)\n",
    "Image.fromarray(img_lines)"
   ]
  },
  {
   "cell_type": "code",
   "execution_count": 184,
   "metadata": {
    "ExecuteTime": {
     "end_time": "2018-01-03T01:42:25.744800Z",
     "start_time": "2018-01-03T01:42:25.516800Z"
    },
    "hidden": true
   },
   "outputs": [
    {
     "data": {
      "text/plain": [
       "[365, 713]"
      ]
     },
     "execution_count": 184,
     "metadata": {},
     "output_type": "execute_result"
    }
   ],
   "source": [
    "xs"
   ]
  },
  {
   "cell_type": "markdown",
   "metadata": {
    "hidden": true
   },
   "source": [
    "##### Test with another sample image"
   ]
  },
  {
   "cell_type": "code",
   "execution_count": 185,
   "metadata": {
    "ExecuteTime": {
     "end_time": "2018-01-03T01:43:53.525800Z",
     "start_time": "2018-01-03T01:43:53.217800Z"
    },
    "hidden": true
   },
   "outputs": [
    {
     "data": {
      "image/png": "[encoded data removed]",
      "text/plain": [
       "<PIL.Image.Image image mode=RGB size=830x250 at 0xACC2710>"
      ]
     },
     "execution_count": 185,
     "metadata": {},
     "output_type": "execute_result"
    }
   ],
   "source": [
    "img2 = grab_roi()\n",
    "img2"
   ]
  },
  {
   "cell_type": "code",
   "execution_count": 186,
   "metadata": {
    "ExecuteTime": {
     "end_time": "2018-01-03T01:44:18.244800Z",
     "start_time": "2018-01-03T01:44:17.996800Z"
    },
    "hidden": true
   },
   "outputs": [
    {
     "data": {
      "image/png": "[encoded data removed]",
      "text/plain": [
       "<PIL.Image.Image image mode=RGB size=830x250 at 0xACF87F0>"
      ]
     },
     "execution_count": 186,
     "metadata": {},
     "output_type": "execute_result"
    }
   ],
   "source": [
    "Image.fromarray(process_input(img2)[0])"
   ]
  },
  {
   "cell_type": "markdown",
   "metadata": {
    "hidden": true
   },
   "source": [
    "## Use the boundaries to create the hard coded Agent"
   ]
  },
  {
   "cell_type": "markdown",
   "metadata": {
    "hidden": true
   },
   "source": [
    "##### Game routine"
   ]
  },
  {
   "cell_type": "code",
   "execution_count": 22,
   "metadata": {
    "ExecuteTime": {
     "end_time": "2018-01-03T09:13:52.522598Z",
     "start_time": "2018-01-03T09:13:52.099598Z"
    },
    "hidden": true
   },
   "outputs": [
    {
     "name": "stdout",
     "output_type": "stream",
     "text": [
      "(250, 830, 3)\n"
     ]
    }
   ],
   "source": [
    "t = time.time()\n",
    "pyautogui.click(x=1000,y = 500)\n",
    "while True:\n",
    "    time.sleep(0.05)\n",
    "    roi = grab_roi()\n",
    "    print(np.array(roi).shape)\n",
    "    roi_processed,xs = process_input(roi)\n",
    "    if len(xs) > 0 and xs[0] < 300:\n",
    "        pyautogui.press(\"up\")"
   ]
  },
  {
   "cell_type": "markdown",
   "metadata": {
    "hidden": true
   },
   "source": [
    "##### First conclusions"
   ]
  },
  {
   "cell_type": "markdown",
   "metadata": {
    "hidden": true
   },
   "source": [
    "- This hard coded agent works already pretty well. <br>\n",
    "- Without spending a lot of time fine tuning the parameters, it can already avoid most of the cactuses till at least 400 points. <br>\n",
    "- You can see a game example below\n",
    "![](images/dino_hardcoded_agent.gif)"
   ]
  },
  {
   "cell_type": "markdown",
   "metadata": {
    "hidden": true
   },
   "source": [
    "However, there are multiple problems with this approach : \n",
    "- The dinosaur **has trouble to plan ahead** and is only considering the first cactus to choose when to jump. This can cause problem when ideally we would want to jump a little ahead to have space for the second cactus. However, we could still create a more complicated rule to consider this situation \n",
    "- The dinosaur only knows **how to jump, and not how to duck**, this can be a problem when birds will appear after in the game. \n",
    "- Moreover, as the agent is not strong enought to reach the birds level. We don't have yet any images to tune our processing to find birds in the image. \n",
    "- Finally, the agent does not react differently to speed going up while playing\n",
    "\n",
    "##### In a nutshell\n",
    "- We could still improve this hard coded agent to be even better, but this is not the purpose of this project\n",
    "- However, this is a good baseline to know how far we can go with rules in this game : around 500 points\n",
    "- We could even initialize our reinforcement learning agents to the hard coded policy to skip the first training part of our agent"
   ]
  },
  {
   "cell_type": "markdown",
   "metadata": {
    "hidden": true
   },
   "source": [
    "***"
   ]
  },
  {
   "cell_type": "markdown",
   "metadata": {
    "heading_collapsed": true
   },
   "source": [
    "# Capturing scores"
   ]
  },
  {
   "cell_type": "markdown",
   "metadata": {
    "hidden": true
   },
   "source": [
    "To create our **Reinforcement Learning model**, we will need a reward for each game or a measure of fitness in the case of genetic algorithms.<br>\n",
    "This will be pretty easy here as we have a score for the game. Yet we will have two ways of extracting the score in real time : \n",
    "- **OCRizing the image** to extract and read the score\n",
    "- Simply **track time before game over**\n",
    "\n",
    "Yet, both have pros and cons : \n",
    "- Tracking time will reflect a score different from the one shown, which is not really a problem but in other Machine Learning problems it is dangerous to optimize a function on a different objective than the real one\n",
    "- OCRizing is complex and slow, subject to errors that could be propagated through the model. And as we want to have it in real time, we cannot use really accurate algorithms such as SVMs or Neural Networks. \n",
    "\n",
    "We will still try both approach for the sake of the game. "
   ]
  },
  {
   "cell_type": "markdown",
   "metadata": {
    "hidden": true
   },
   "source": [
    "## OCRizing score with ML computer vision models"
   ]
  },
  {
   "cell_type": "markdown",
   "metadata": {
    "hidden": true
   },
   "source": [
    "### Extract each digits"
   ]
  },
  {
   "cell_type": "markdown",
   "metadata": {
    "hidden": true
   },
   "source": [
    "##### Extract score ROI"
   ]
  },
  {
   "cell_type": "code",
   "execution_count": 45,
   "metadata": {
    "ExecuteTime": {
     "end_time": "2018-01-03T12:44:24.492098Z",
     "start_time": "2018-01-03T12:44:23.797098Z"
    },
    "hidden": true
   },
   "outputs": [
    {
     "data": {
      "image/png": "[encoded data removed]",
      "text/plain": [
       "<PIL.Image.Image image mode=RGB size=830x250 at 0xA9AC710>"
      ]
     },
     "execution_count": 45,
     "metadata": {},
     "output_type": "execute_result"
    }
   ],
   "source": [
    "Image.fromarray(img_array)"
   ]
  },
  {
   "cell_type": "code",
   "execution_count": 46,
   "metadata": {
    "ExecuteTime": {
     "end_time": "2018-01-03T12:44:27.336598Z",
     "start_time": "2018-01-03T12:44:26.694098Z"
    },
    "hidden": true
   },
   "outputs": [],
   "source": [
    "def extract_score(img):\n",
    "    return img[25:60,695:780]"
   ]
  },
  {
   "cell_type": "code",
   "execution_count": 79,
   "metadata": {
    "ExecuteTime": {
     "end_time": "2018-01-03T12:50:44.219598Z",
     "start_time": "2018-01-03T12:50:43.515098Z"
    },
    "hidden": true
   },
   "outputs": [
    {
     "data": {
      "image/png": "[encoded data removed]",
      "text/plain": [
       "<PIL.Image.Image image mode=L size=85x35 at 0xB71BA58>"
      ]
     },
     "execution_count": 79,
     "metadata": {},
     "output_type": "execute_result"
    }
   ],
   "source": [
    "img_score = extract_score(img_array)\n",
    "img_score = cv2.cvtColor(img_score,cv2.COLOR_BGR2GRAY)\n",
    "Image.fromarray(img_score)"
   ]
  },
  {
   "cell_type": "markdown",
   "metadata": {
    "hidden": true
   },
   "source": [
    "##### Thresholding and erosion"
   ]
  },
  {
   "cell_type": "code",
   "execution_count": 165,
   "metadata": {
    "ExecuteTime": {
     "end_time": "2018-01-03T13:07:21.034098Z",
     "start_time": "2018-01-03T13:07:20.141598Z"
    },
    "hidden": true
   },
   "outputs": [
    {
     "data": {
      "image/png": "[encoded data removed]",
      "text/plain": [
       "<PIL.Image.Image image mode=L size=85x35 at 0xCC71400>"
      ]
     },
     "execution_count": 165,
     "metadata": {},
     "output_type": "execute_result"
    }
   ],
   "source": [
    "_,score_th = cv2.threshold(img_score,210,255,cv2.THRESH_BINARY_INV)\n",
    "Image.fromarray(score_th)"
   ]
  },
  {
   "cell_type": "code",
   "execution_count": 202,
   "metadata": {
    "ExecuteTime": {
     "end_time": "2018-01-03T13:21:49.362098Z",
     "start_time": "2018-01-03T13:21:48.502598Z"
    },
    "hidden": true
   },
   "outputs": [
    {
     "data": {
      "image/png": "[encoded data removed]",
      "text/plain": [
       "<PIL.Image.Image image mode=L size=85x35 at 0xD05DCC0>"
      ]
     },
     "execution_count": 202,
     "metadata": {},
     "output_type": "execute_result"
    }
   ],
   "source": [
    "score_eroded = cv2.erode(score_th,np.ones((2,2),np.uint8))\n",
    "Image.fromarray(score_eroded)"
   ]
  },
  {
   "cell_type": "markdown",
   "metadata": {
    "hidden": true
   },
   "source": [
    "##### Find the bounding rectangle for all digits"
   ]
  },
  {
   "cell_type": "code",
   "execution_count": 203,
   "metadata": {
    "ExecuteTime": {
     "end_time": "2018-01-03T13:21:56.907098Z",
     "start_time": "2018-01-03T13:21:56.115598Z"
    },
    "hidden": true
   },
   "outputs": [],
   "source": [
    "im,contours,_ = cv2.findContours(score_eroded.copy(), cv2.RETR_EXTERNAL,cv2.CHAIN_APPROX_SIMPLE)\n",
    "im = cv2.cvtColor(im,cv2.COLOR_GRAY2BGR)"
   ]
  },
  {
   "cell_type": "code",
   "execution_count": 204,
   "metadata": {
    "ExecuteTime": {
     "end_time": "2018-01-03T13:21:57.665098Z",
     "start_time": "2018-01-03T13:21:56.910598Z"
    },
    "hidden": true
   },
   "outputs": [
    {
     "data": {
      "text/plain": [
       "5"
      ]
     },
     "execution_count": 204,
     "metadata": {},
     "output_type": "execute_result"
    }
   ],
   "source": [
    "len(contours)"
   ]
  },
  {
   "cell_type": "code",
   "execution_count": 205,
   "metadata": {
    "ExecuteTime": {
     "end_time": "2018-01-03T13:21:59.428098Z",
     "start_time": "2018-01-03T13:21:58.560598Z"
    },
    "hidden": true
   },
   "outputs": [
    {
     "data": {
      "text/plain": [
       "[(9, 11, 11, 13),\n",
       " (23, 11, 11, 13),\n",
       " (37, 11, 11, 13),\n",
       " (51, 11, 10, 13),\n",
       " (64, 11, 11, 13)]"
      ]
     },
     "execution_count": 205,
     "metadata": {},
     "output_type": "execute_result"
    }
   ],
   "source": [
    "boxes = [cv2.boundingRect(c) for c in contours]\n",
    "boxes = [box for box in boxes if box[2] > 9 and box[3] > 10]\n",
    "boxes = list(sorted(boxes,key = lambda x : x[0]))\n",
    "boxes"
   ]
  },
  {
   "cell_type": "code",
   "execution_count": 206,
   "metadata": {
    "ExecuteTime": {
     "end_time": "2018-01-03T13:22:00.205598Z",
     "start_time": "2018-01-03T13:21:59.431098Z"
    },
    "hidden": true
   },
   "outputs": [
    {
     "data": {
      "image/png": "[encoded data removed]",
      "text/plain": [
       "<PIL.Image.Image image mode=RGB size=85x35 at 0xCF2CB70>"
      ]
     },
     "execution_count": 206,
     "metadata": {},
     "output_type": "execute_result"
    }
   ],
   "source": [
    "for box in boxes:\n",
    "    (x, y, w, h) = box\n",
    "    cv2.rectangle(im, (x, y), (x + w, y + h),(255,0,0), 1)\n",
    "Image.fromarray(im)"
   ]
  },
  {
   "cell_type": "markdown",
   "metadata": {
    "hidden": true
   },
   "source": [
    "##### Extract each digits"
   ]
  },
  {
   "cell_type": "code",
   "execution_count": 208,
   "metadata": {
    "ExecuteTime": {
     "end_time": "2018-01-03T13:22:27.033598Z",
     "start_time": "2018-01-03T13:22:26.232598Z"
    },
    "hidden": true
   },
   "outputs": [
    {
     "data": {
      "image/png": "[encoded data removed]",
      "text/plain": [
       "<PIL.Image.Image image mode=L size=11x13 at 0xCF3F400>"
      ]
     },
     "execution_count": 208,
     "metadata": {},
     "output_type": "execute_result"
    }
   ],
   "source": [
    "digits = []\n",
    "for (x, y, w, h) in boxes:\n",
    "    digits.append(score_eroded[y:y+h,x:x+w])\n",
    "Image.fromarray(digits[4])"
   ]
  },
  {
   "cell_type": "markdown",
   "metadata": {
    "ExecuteTime": {
     "end_time": "2018-01-03T11:45:51.672098Z",
     "start_time": "2018-01-03T11:45:51.458598Z"
    },
    "hidden": true
   },
   "source": [
    "### Recognize the digits with the MNIST dataset"
   ]
  },
  {
   "cell_type": "markdown",
   "metadata": {
    "hidden": true
   },
   "source": [
    "At first, I thought this step would be the simplest, as OCRizing digits is a well known and solved problem. However : \n",
    "- I tried ``Tesseract`` using ``Pytesseract`` which only achieved a unsatisfactory accuracy\n",
    "- I could not find an easy pre-trained library or API\n",
    "\n",
    "Thus I had to go back to two remaining solutions :\n",
    "- Either extract multiple digits from source, cluster them to help their labelling, then train a model\n",
    "- Use the famous MNIST dataset to train the model"
   ]
  },
  {
   "cell_type": "code",
   "execution_count": 177,
   "metadata": {
    "ExecuteTime": {
     "end_time": "2018-01-03T13:16:00.648598Z",
     "start_time": "2018-01-03T13:15:59.833098Z"
    },
    "hidden": true
   },
   "outputs": [],
   "source": [
    "from sklearn import datasets\n",
    "from sklearn.cross_validation import cross_val_score\n",
    "from sklearn.linear_model import LogisticRegression\n",
    "from sklearn.naive_bayes import GaussianNB\n",
    "from sklearn.neural_network import MLPClassifier\n",
    "from sklearn.svm import LinearSVC\n",
    "from sklearn.neighbors import KNeighborsClassifier\n",
    "from sklearn.cross_validation import train_test_split"
   ]
  },
  {
   "cell_type": "markdown",
   "metadata": {
    "hidden": true
   },
   "source": [
    "##### Loading the MNIST dataset"
   ]
  },
  {
   "cell_type": "code",
   "execution_count": 179,
   "metadata": {
    "ExecuteTime": {
     "end_time": "2018-01-03T13:17:37.025098Z",
     "start_time": "2018-01-03T13:17:36.195098Z"
    },
    "hidden": true
   },
   "outputs": [],
   "source": [
    "dataset = datasets.fetch_mldata(\"MNIST Original\")\n",
    "X,y = dataset.data,dataset.target"
   ]
  },
  {
   "cell_type": "markdown",
   "metadata": {
    "hidden": true
   },
   "source": [
    "##### Selecting a small subset for quick training"
   ]
  },
  {
   "cell_type": "code",
   "execution_count": 180,
   "metadata": {
    "ExecuteTime": {
     "end_time": "2018-01-03T13:17:40.476098Z",
     "start_time": "2018-01-03T13:17:39.618598Z"
    },
    "hidden": true
   },
   "outputs": [],
   "source": [
    "X_train,X_test,y_train,y_test = train_test_split(X,y,test_size = 0.98)"
   ]
  },
  {
   "cell_type": "code",
   "execution_count": 181,
   "metadata": {
    "ExecuteTime": {
     "end_time": "2018-01-03T13:17:42.470098Z",
     "start_time": "2018-01-03T13:17:41.596098Z"
    },
    "hidden": true
   },
   "outputs": [
    {
     "data": {
      "text/plain": [
       "(1400, 784)"
      ]
     },
     "execution_count": 181,
     "metadata": {},
     "output_type": "execute_result"
    }
   ],
   "source": [
    "X_train.shape"
   ]
  },
  {
   "cell_type": "markdown",
   "metadata": {
    "hidden": true
   },
   "source": [
    "##### Testing different models"
   ]
  },
  {
   "cell_type": "code",
   "execution_count": 182,
   "metadata": {
    "ExecuteTime": {
     "end_time": "2018-01-03T13:17:51.203098Z",
     "start_time": "2018-01-03T13:17:49.031598Z"
    },
    "hidden": true
   },
   "outputs": [
    {
     "data": {
      "text/plain": [
       "0.81497812824647775"
      ]
     },
     "execution_count": 182,
     "metadata": {},
     "output_type": "execute_result"
    }
   ],
   "source": [
    "scores = cross_val_score(LogisticRegression(),X_train,y_train,cv = 3)\n",
    "scores.mean()"
   ]
  },
  {
   "cell_type": "code",
   "execution_count": 183,
   "metadata": {
    "ExecuteTime": {
     "end_time": "2018-01-03T13:17:59.191598Z",
     "start_time": "2018-01-03T13:17:55.958098Z"
    },
    "hidden": true
   },
   "outputs": [
    {
     "data": {
      "text/plain": [
       "0.7678331969268174"
      ]
     },
     "execution_count": 183,
     "metadata": {},
     "output_type": "execute_result"
    }
   ],
   "source": [
    "scores = cross_val_score(MLPClassifier(hidden_layer_sizes=(100,100)),X_train,y_train,cv = 3)\n",
    "scores.mean()"
   ]
  },
  {
   "cell_type": "code",
   "execution_count": 192,
   "metadata": {
    "ExecuteTime": {
     "end_time": "2018-01-03T13:20:27.172598Z",
     "start_time": "2018-01-03T13:20:24.289098Z"
    },
    "hidden": true
   },
   "outputs": [
    {
     "data": {
      "text/plain": [
       "0.86206098384209973"
      ]
     },
     "execution_count": 192,
     "metadata": {},
     "output_type": "execute_result"
    }
   ],
   "source": [
    "scores = cross_val_score(KNeighborsClassifier(),X_train,y_train,cv = 3)\n",
    "scores.mean()"
   ]
  },
  {
   "cell_type": "markdown",
   "metadata": {
    "hidden": true
   },
   "source": [
    "##### Training the models"
   ]
  },
  {
   "cell_type": "code",
   "execution_count": 184,
   "metadata": {
    "ExecuteTime": {
     "end_time": "2018-01-03T13:18:06.036098Z",
     "start_time": "2018-01-03T13:18:04.143098Z"
    },
    "hidden": true
   },
   "outputs": [
    {
     "data": {
      "text/plain": [
       "LogisticRegression(C=1.0, class_weight=None, dual=False, fit_intercept=True,\n",
       "          intercept_scaling=1, max_iter=100, multi_class='ovr', n_jobs=1,\n",
       "          penalty='l2', random_state=None, solver='liblinear', tol=0.0001,\n",
       "          verbose=0, warm_start=False)"
      ]
     },
     "execution_count": 184,
     "metadata": {},
     "output_type": "execute_result"
    }
   ],
   "source": [
    "lr = LogisticRegression()\n",
    "lr.fit(X_train,y_train)"
   ]
  },
  {
   "cell_type": "code",
   "execution_count": 195,
   "metadata": {
    "ExecuteTime": {
     "end_time": "2018-01-03T13:21:12.646098Z",
     "start_time": "2018-01-03T13:21:11.755098Z"
    },
    "hidden": true
   },
   "outputs": [
    {
     "data": {
      "text/plain": [
       "KNeighborsClassifier(algorithm='auto', leaf_size=30, metric='minkowski',\n",
       "           metric_params=None, n_jobs=1, n_neighbors=5, p=2,\n",
       "           weights='uniform')"
      ]
     },
     "execution_count": 195,
     "metadata": {},
     "output_type": "execute_result"
    }
   ],
   "source": [
    "knn = KNeighborsClassifier()\n",
    "knn.fit(X_train,y_train)"
   ]
  },
  {
   "cell_type": "code",
   "execution_count": 188,
   "metadata": {
    "ExecuteTime": {
     "end_time": "2018-01-03T13:18:46.211098Z",
     "start_time": "2018-01-03T13:18:44.301598Z"
    },
    "hidden": true
   },
   "outputs": [
    {
     "data": {
      "text/plain": [
       "MLPClassifier(activation='relu', alpha=0.0001, batch_size='auto', beta_1=0.9,\n",
       "       beta_2=0.999, early_stopping=False, epsilon=1e-08,\n",
       "       hidden_layer_sizes=(100, 100), learning_rate='constant',\n",
       "       learning_rate_init=0.001, max_iter=200, momentum=0.9,\n",
       "       nesterovs_momentum=True, power_t=0.5, random_state=None,\n",
       "       shuffle=True, solver='adam', tol=0.0001, validation_fraction=0.1,\n",
       "       verbose=False, warm_start=False)"
      ]
     },
     "execution_count": 188,
     "metadata": {},
     "output_type": "execute_result"
    }
   ],
   "source": [
    "mlp = MLPClassifier(hidden_layer_sizes=(100,100))\n",
    "mlp.fit(X_train,y_train)"
   ]
  },
  {
   "cell_type": "markdown",
   "metadata": {
    "hidden": true
   },
   "source": [
    "##### Helper function to prepare the input the image"
   ]
  },
  {
   "cell_type": "code",
   "execution_count": 172,
   "metadata": {
    "ExecuteTime": {
     "end_time": "2018-01-03T13:14:17.075598Z",
     "start_time": "2018-01-03T13:14:16.200598Z"
    },
    "hidden": true
   },
   "outputs": [],
   "source": [
    "def prepare_image_for_mnist_input(img):\n",
    "    img = Image.fromarray(img)\n",
    "    img = img.resize((20,20))\n",
    "    mask = np.zeros((28,28),np.uint8)\n",
    "    mask[4:24,4:24] = img\n",
    "    return mask.reshape(1,-1)"
   ]
  },
  {
   "cell_type": "code",
   "execution_count": 209,
   "metadata": {
    "ExecuteTime": {
     "end_time": "2018-01-03T13:22:41.086098Z",
     "start_time": "2018-01-03T13:22:40.154598Z"
    },
    "hidden": true
   },
   "outputs": [
    {
     "name": "stdout",
     "output_type": "stream",
     "text": [
      "Logistic Regression\n",
      "- True 0 - predicted [ 0.]\n",
      "- True 0 - predicted [ 0.]\n",
      "- True 0 - predicted [ 0.]\n",
      "- True 3 - predicted [ 3.]\n",
      "- True 6 - predicted [ 5.]\n"
     ]
    }
   ],
   "source": [
    "print(\"Logistic Regression\")\n",
    "for img_digit,true in zip(digits,[0,0,0,3,6]):\n",
    "    print(\"- True {} - predicted {}\".format(true,lr.predict(prepare_image_for_mnist_input(img_digit))))"
   ]
  },
  {
   "cell_type": "code",
   "execution_count": 210,
   "metadata": {
    "ExecuteTime": {
     "end_time": "2018-01-03T13:22:43.563098Z",
     "start_time": "2018-01-03T13:22:42.730598Z"
    },
    "hidden": true
   },
   "outputs": [
    {
     "name": "stdout",
     "output_type": "stream",
     "text": [
      "KNN\n",
      "- True 0 - predicted [ 0.]\n",
      "- True 0 - predicted [ 0.]\n",
      "- True 0 - predicted [ 0.]\n",
      "- True 3 - predicted [ 3.]\n",
      "- True 6 - predicted [ 5.]\n"
     ]
    }
   ],
   "source": [
    "print(\"KNN\")\n",
    "for img_digit,true in zip(digits,[0,0,0,3,6]):\n",
    "    print(\"- True {} - predicted {}\".format(true,knn.predict(prepare_image_for_mnist_input(img_digit))))"
   ]
  },
  {
   "cell_type": "code",
   "execution_count": 211,
   "metadata": {
    "ExecuteTime": {
     "end_time": "2018-01-03T13:22:46.027098Z",
     "start_time": "2018-01-03T13:22:45.110098Z"
    },
    "hidden": true
   },
   "outputs": [
    {
     "name": "stdout",
     "output_type": "stream",
     "text": [
      "MLP\n",
      "- True 0 - predicted [ 0.]\n",
      "- True 0 - predicted [ 0.]\n",
      "- True 0 - predicted [ 0.]\n",
      "- True 3 - predicted [ 3.]\n",
      "- True 6 - predicted [ 2.]\n"
     ]
    }
   ],
   "source": [
    "print(\"MLP\")\n",
    "for img_digit,true in zip(digits,[0,0,0,3,6]):\n",
    "    print(\"- True {} - predicted {}\".format(true,mlp.predict(prepare_image_for_mnist_input(img_digit))))"
   ]
  },
  {
   "cell_type": "markdown",
   "metadata": {
    "hidden": true
   },
   "source": [
    "##### Define the end to end function"
   ]
  },
  {
   "cell_type": "code",
   "execution_count": 242,
   "metadata": {
    "ExecuteTime": {
     "end_time": "2018-01-03T13:33:29.982598Z",
     "start_time": "2018-01-03T13:33:29.082098Z"
    },
    "hidden": true
   },
   "outputs": [],
   "source": [
    "def get_score():\n",
    "    roi = grab_roi()\n",
    "    img_array = np.array(roi)\n",
    "    img_score = extract_score(img_array)\n",
    "    img_score = cv2.cvtColor(img_score,cv2.COLOR_BGR2GRAY)\n",
    "    _,score_th = cv2.threshold(img_score,210,255,cv2.THRESH_BINARY_INV)\n",
    "    score_eroded = cv2.erode(score_th,np.ones((2,2),np.uint8))\n",
    "\n",
    "    im,contours,_ = cv2.findContours(score_eroded.copy(), cv2.RETR_EXTERNAL,cv2.CHAIN_APPROX_SIMPLE)\n",
    "    im = cv2.cvtColor(im,cv2.COLOR_GRAY2BGR)\n",
    "    \n",
    "    \n",
    "    boxes = [cv2.boundingRect(c) for c in contours]\n",
    "    boxes = [box for box in boxes if box[2] > 9 and box[3] > 10]\n",
    "    boxes = list(sorted(boxes,key = lambda x : x[0]))\n",
    "    \n",
    "    digits = []\n",
    "    for (x, y, w, h) in boxes:\n",
    "        digits.append(score_eroded[y:y+h,x:x+w])\n",
    "\n",
    "    digits = [prepare_image_for_mnist_input(digit) for digit in digits]\n",
    "    digits = np.vstack(digits)\n",
    "    len(digits)\n",
    "    assert len(digits) == 5\n",
    "    \n",
    "    pred = np.int16(knn.predict(digits))\n",
    "    pred = \"\".join([str(int(x)) for x in pred])\n",
    "    pred = int(pred)\n",
    "    \n",
    "    plt.title(\"Prediction : {}\".format(pred))\n",
    "    plt.imshow(img_score,cmap = \"gray\")\n",
    "    plt.axis(\"off\")\n",
    "    plt.show()\n",
    "    \n",
    "    return pred"
   ]
  },
  {
   "cell_type": "code",
   "execution_count": 244,
   "metadata": {
    "ExecuteTime": {
     "end_time": "2018-01-03T13:34:36.775098Z",
     "start_time": "2018-01-03T13:34:35.844598Z"
    },
    "hidden": true
   },
   "outputs": [
    {
     "data": {
      "image/png": "[encoded data removed]",
      "text/plain": [
       "<matplotlib.figure.Figure at 0xec11320>"
      ]
     },
     "metadata": {},
     "output_type": "display_data"
    },
    {
     "data": {
      "text/plain": [
       "42"
      ]
     },
     "execution_count": 244,
     "metadata": {},
     "output_type": "execute_result"
    }
   ],
   "source": [
    "get_score()"
   ]
  },
  {
   "cell_type": "code",
   "execution_count": 238,
   "metadata": {
    "ExecuteTime": {
     "end_time": "2018-01-03T13:31:53.984098Z",
     "start_time": "2018-01-03T13:31:52.986098Z"
    },
    "hidden": true
   },
   "outputs": [
    {
     "data": {
      "image/png": "[encoded data removed]",
      "text/plain": [
       "<matplotlib.figure.Figure at 0xd449828>"
      ]
     },
     "metadata": {},
     "output_type": "display_data"
    },
    {
     "data": {
      "text/plain": [
       "23"
      ]
     },
     "execution_count": 238,
     "metadata": {},
     "output_type": "execute_result"
    }
   ],
   "source": [
    "get_score()"
   ]
  },
  {
   "cell_type": "code",
   "execution_count": 239,
   "metadata": {
    "ExecuteTime": {
     "end_time": "2018-01-03T13:32:25.210598Z",
     "start_time": "2018-01-03T13:32:24.221598Z"
    },
    "hidden": true
   },
   "outputs": [
    {
     "data": {
      "image/png": "[encoded data removed]",
      "text/plain": [
       "<matplotlib.figure.Figure at 0xd508208>"
      ]
     },
     "metadata": {},
     "output_type": "display_data"
    },
    {
     "data": {
      "text/plain": [
       "23"
      ]
     },
     "execution_count": 239,
     "metadata": {},
     "output_type": "execute_result"
    }
   ],
   "source": [
    "get_score()"
   ]
  },
  {
   "cell_type": "code",
   "execution_count": 240,
   "metadata": {
    "ExecuteTime": {
     "end_time": "2018-01-03T13:32:35.532598Z",
     "start_time": "2018-01-03T13:32:34.518598Z"
    },
    "hidden": true
   },
   "outputs": [
    {
     "data": {
      "image/png": "[encoded data removed]",
      "text/plain": [
       "<matplotlib.figure.Figure at 0xd594240>"
      ]
     },
     "metadata": {},
     "output_type": "display_data"
    },
    {
     "data": {
      "text/plain": [
       "39"
      ]
     },
     "execution_count": 240,
     "metadata": {},
     "output_type": "execute_result"
    }
   ],
   "source": [
    "get_score()"
   ]
  },
  {
   "cell_type": "markdown",
   "metadata": {
    "hidden": true
   },
   "source": [
    "## Using time as a metric"
   ]
  },
  {
   "cell_type": "code",
   "execution_count": 262,
   "metadata": {
    "ExecuteTime": {
     "end_time": "2018-01-03T13:52:20.025098Z",
     "start_time": "2018-01-03T13:52:14.308098Z"
    },
    "hidden": true
   },
   "outputs": [
    {
     "name": "stdout",
     "output_type": "stream",
     "text": [
      "45.05999803543091\n"
     ]
    }
   ],
   "source": [
    "roi_array = np.zeros_like(np.array(grab_roi()))\n",
    "pyautogui.click(x=1000,y = 500)\n",
    "time.sleep(0.1)\n",
    "pyautogui.press(\"up\")\n",
    "t = time.time()\n",
    "while True:\n",
    "    roi = grab_roi()\n",
    "    if (np.array(roi) == roi_array).all():\n",
    "        break\n",
    "    roi_array = np.array(roi)\n",
    "score = (time.time() - t)*10\n",
    "print(score)    "
   ]
  },
  {
   "cell_type": "markdown",
   "metadata": {
    "ExecuteTime": {
     "end_time": "2018-01-04T08:26:20.261976Z",
     "start_time": "2018-01-04T08:26:20.040976Z"
    },
    "hidden": true
   },
   "source": [
    "***"
   ]
  },
  {
   "cell_type": "markdown",
   "metadata": {},
   "source": [
    "# Creating the environment for RL"
   ]
  },
  {
   "cell_type": "code",
   "execution_count": 7,
   "metadata": {
    "ExecuteTime": {
     "end_time": "2018-01-09T11:41:58.981191Z",
     "start_time": "2018-01-09T11:41:58.549191Z"
    },
    "init_cell": true
   },
   "outputs": [],
   "source": [
    "from dino import *"
   ]
  },
  {
   "cell_type": "code",
   "execution_count": 2,
   "metadata": {
    "ExecuteTime": {
     "end_time": "2018-01-09T10:02:43.510191Z",
     "start_time": "2018-01-09T10:02:43.505191Z"
    }
   },
   "outputs": [],
   "source": [
    "game = DinoGame()"
   ]
  },
  {
   "cell_type": "code",
   "execution_count": 9,
   "metadata": {
    "ExecuteTime": {
     "end_time": "2018-01-08T08:30:42.401000Z",
     "start_time": "2018-01-08T08:30:42.035000Z"
    }
   },
   "outputs": [],
   "source": [
    "game.refresh_page()"
   ]
  },
  {
   "cell_type": "code",
   "execution_count": 10,
   "metadata": {
    "ExecuteTime": {
     "end_time": "2018-01-09T10:09:34.486191Z",
     "start_time": "2018-01-09T10:09:09.629191Z"
    }
   },
   "outputs": [
    {
     "data": {
      "text/plain": [
       "232.44999885559082"
      ]
     },
     "execution_count": 10,
     "metadata": {},
     "output_type": "execute_result"
    }
   ],
   "source": [
    "game.run_episode(policy = \"rules\")"
   ]
  },
  {
   "cell_type": "markdown",
   "metadata": {},
   "source": [
    "***"
   ]
  },
  {
   "cell_type": "markdown",
   "metadata": {},
   "source": [
    "# Developing a RL agent that learns via evolution strategies"
   ]
  },
  {
   "cell_type": "markdown",
   "metadata": {},
   "source": [
    "![](https://www.researchgate.net/profile/Hongfang_Liu/publication/260377604/figure/fig2/AS:213452158181378@1427902368463/Genetic-Algorithm-Tree-Basic-steps-of-GA-selection-crossover-and-mutation.png)\n",
    "- [Evolution Strategies as a scalable alternative for RL](https://arxiv.org/abs/1703.0386)\n",
    "- [Example of ES with PyTorch](https://github.com/atgambardella/pytorch-es/blob/master/train.py)\n",
    "- [Reinforce with PyTorch](https://github.com/pytorch/examples/blob/master/reinforcement_learning/reinforce.py)"
   ]
  },
  {
   "cell_type": "markdown",
   "metadata": {},
   "source": [
    "## Preparing the crossover"
   ]
  },
  {
   "cell_type": "code",
   "execution_count": 116,
   "metadata": {
    "ExecuteTime": {
     "end_time": "2018-01-08T09:23:01.094000Z",
     "start_time": "2018-01-08T09:23:00.796000Z"
    }
   },
   "outputs": [],
   "source": [
    "dino1,dino2 = Dino(),Dino()"
   ]
  },
  {
   "cell_type": "code",
   "execution_count": 119,
   "metadata": {
    "ExecuteTime": {
     "end_time": "2018-01-08T09:23:15.980000Z",
     "start_time": "2018-01-08T09:23:15.716000Z"
    }
   },
   "outputs": [
    {
     "data": {
      "text/plain": [
       "Variable containing:\n",
       "1.00000e-02 *\n",
       "  2.1606\n",
       "[torch.FloatTensor of size 1]"
      ]
     },
     "execution_count": 119,
     "metadata": {},
     "output_type": "execute_result"
    }
   ],
   "source": [
    "dino1.net.hidden.weight[0][0]"
   ]
  },
  {
   "cell_type": "code",
   "execution_count": 120,
   "metadata": {
    "ExecuteTime": {
     "end_time": "2018-01-08T09:23:20.483000Z",
     "start_time": "2018-01-08T09:23:20.172000Z"
    }
   },
   "outputs": [
    {
     "data": {
      "text/plain": [
       "Variable containing:\n",
       "1.00000e-02 *\n",
       "  1.1849\n",
       "[torch.FloatTensor of size 1]"
      ]
     },
     "execution_count": 120,
     "metadata": {},
     "output_type": "execute_result"
    }
   ],
   "source": [
    "dino2.net.hidden.weight[0][0]"
   ]
  },
  {
   "cell_type": "code",
   "execution_count": 121,
   "metadata": {
    "ExecuteTime": {
     "end_time": "2018-01-08T09:23:27.856000Z",
     "start_time": "2018-01-08T09:23:27.590000Z"
    }
   },
   "outputs": [],
   "source": [
    "dino3 = dino1 + dino2"
   ]
  },
  {
   "cell_type": "code",
   "execution_count": 122,
   "metadata": {
    "ExecuteTime": {
     "end_time": "2018-01-08T09:23:34.637000Z",
     "start_time": "2018-01-08T09:23:34.335000Z"
    }
   },
   "outputs": [
    {
     "data": {
      "text/plain": [
       "Variable containing:\n",
       "1.00000e-02 *\n",
       "  1.6727\n",
       "[torch.FloatTensor of size 1]"
      ]
     },
     "execution_count": 122,
     "metadata": {},
     "output_type": "execute_result"
    }
   ],
   "source": [
    "dino3.net.hidden.weight[0][0]"
   ]
  },
  {
   "cell_type": "markdown",
   "metadata": {},
   "source": [
    "## Preparing the mutation"
   ]
  },
  {
   "cell_type": "code",
   "execution_count": 17,
   "metadata": {
    "ExecuteTime": {
     "end_time": "2018-01-09T10:14:02.089191Z",
     "start_time": "2018-01-09T10:14:01.825191Z"
    }
   },
   "outputs": [],
   "source": [
    "dino = Dino()"
   ]
  },
  {
   "cell_type": "code",
   "execution_count": 18,
   "metadata": {
    "ExecuteTime": {
     "end_time": "2018-01-09T10:14:02.503191Z",
     "start_time": "2018-01-09T10:14:02.257191Z"
    }
   },
   "outputs": [
    {
     "data": {
      "text/plain": [
       "\n",
       "-1.7239e-02 -2.3747e-03 -3.5258e-02  ...   4.7516e-04 -3.6161e-02  5.3403e-03\n",
       " 3.0724e-02  2.3031e-02 -1.5182e-03  ...   3.5134e-02 -1.5162e-02  1.7255e-02\n",
       "-2.2430e-02  1.8971e-02 -1.5770e-02  ...  -1.3198e-02 -2.8008e-02  2.8595e-02\n",
       "                ...                   ⋱                   ...                \n",
       " 1.3110e-02 -2.7484e-02 -3.2595e-02  ...   2.7802e-03  3.1248e-02  1.3684e-02\n",
       "-3.1093e-02  8.4438e-03 -6.8824e-03  ...  -2.2317e-04 -2.2852e-02 -1.5473e-04\n",
       "-2.1027e-02  3.1566e-03 -7.0412e-03  ...  -5.1858e-03  1.9055e-02  2.9326e-03\n",
       "[torch.FloatTensor of size 100x700]"
      ]
     },
     "execution_count": 18,
     "metadata": {},
     "output_type": "execute_result"
    }
   ],
   "source": [
    "dino.net.hidden.weight.data"
   ]
  },
  {
   "cell_type": "code",
   "execution_count": 19,
   "metadata": {
    "ExecuteTime": {
     "end_time": "2018-01-09T10:14:04.688191Z",
     "start_time": "2018-01-09T10:14:04.413191Z"
    }
   },
   "outputs": [],
   "source": [
    "dino.mutate()"
   ]
  },
  {
   "cell_type": "code",
   "execution_count": 20,
   "metadata": {
    "ExecuteTime": {
     "end_time": "2018-01-09T10:14:05.377191Z",
     "start_time": "2018-01-09T10:14:05.165191Z"
    }
   },
   "outputs": [
    {
     "data": {
      "text/plain": [
       "\n",
       "-1.4583e-01 -1.2402e-01 -1.0016e-01  ...   7.0636e-03 -1.0660e-01  2.4020e-03\n",
       " 2.0102e-01  3.1091e-02 -8.1855e-02  ...   4.3296e-02 -1.5790e-01 -5.3639e-02\n",
       "-1.3348e-02  7.5591e-03 -8.7820e-04  ...   5.7667e-02 -1.1699e-01 -1.7642e-01\n",
       "                ...                   ⋱                   ...                \n",
       "-5.0212e-03 -7.7862e-02 -3.8191e-02  ...  -2.0878e-01 -8.6070e-02 -5.0244e-02\n",
       "-1.4975e-01  1.4860e-01  1.2195e-02  ...  -8.7780e-02 -4.1928e-02 -1.7079e-02\n",
       " 5.5063e-02 -4.2361e-02 -5.6034e-02  ...  -1.4029e-01 -5.7278e-02  4.7856e-02\n",
       "[torch.FloatTensor of size 100x700]"
      ]
     },
     "execution_count": 20,
     "metadata": {},
     "output_type": "execute_result"
    }
   ],
   "source": [
    "dino.net.hidden.weight.data"
   ]
  },
  {
   "cell_type": "markdown",
   "metadata": {},
   "source": [
    "## Running the game"
   ]
  },
  {
   "cell_type": "code",
   "execution_count": null,
   "metadata": {
    "ExecuteTime": {
     "start_time": "2018-01-09T11:42:00.420Z"
    }
   },
   "outputs": [],
   "source": [
    "game = DinoGame()"
   ]
  },
  {
   "cell_type": "code",
   "execution_count": null,
   "metadata": {
    "ExecuteTime": {
     "start_time": "2018-01-09T11:42:01.417Z"
    }
   },
   "outputs": [
    {
     "name": "stderr",
     "output_type": "stream",
     "text": [
      "100%|██████████████████████████████████████████| 40/40 [04:28<00:00,  6.72s/it]\n"
     ]
    },
    {
     "name": "stdout",
     "output_type": "stream",
     "text": [
      "Generation 0 : mean 55 - std 13\n"
     ]
    },
    {
     "name": "stderr",
     "output_type": "stream",
     "text": [
      "100%|██████████████████████████████████████████| 40/40 [04:40<00:00,  7.00s/it]\n"
     ]
    },
    {
     "name": "stdout",
     "output_type": "stream",
     "text": [
      "Generation 1 : mean 58 - std 12\n"
     ]
    },
    {
     "name": "stderr",
     "output_type": "stream",
     "text": [
      "100%|██████████████████████████████████████████| 40/40 [04:38<00:00,  6.97s/it]\n"
     ]
    },
    {
     "name": "stdout",
     "output_type": "stream",
     "text": [
      "Generation 2 : mean 58 - std 15\n"
     ]
    },
    {
     "name": "stderr",
     "output_type": "stream",
     "text": [
      "100%|██████████████████████████████████████████| 40/40 [04:35<00:00,  6.89s/it]\n"
     ]
    },
    {
     "name": "stdout",
     "output_type": "stream",
     "text": [
      "Generation 3 : mean 57 - std 14\n"
     ]
    },
    {
     "name": "stderr",
     "output_type": "stream",
     "text": [
      "100%|██████████████████████████████████████████| 40/40 [04:45<00:00,  7.14s/it]\n"
     ]
    },
    {
     "name": "stdout",
     "output_type": "stream",
     "text": [
      "Generation 4 : mean 59 - std 13\n"
     ]
    },
    {
     "name": "stderr",
     "output_type": "stream",
     "text": [
      "100%|██████████████████████████████████████████| 40/40 [04:51<00:00,  7.28s/it]\n"
     ]
    },
    {
     "name": "stdout",
     "output_type": "stream",
     "text": [
      "Generation 5 : mean 61 - std 16\n"
     ]
    },
    {
     "name": "stderr",
     "output_type": "stream",
     "text": [
      "100%|██████████████████████████████████████████| 40/40 [04:40<00:00,  7.02s/it]\n"
     ]
    },
    {
     "name": "stdout",
     "output_type": "stream",
     "text": [
      "Generation 6 : mean 58 - std 12\n"
     ]
    },
    {
     "name": "stderr",
     "output_type": "stream",
     "text": [
      "100%|██████████████████████████████████████████| 40/40 [04:45<00:00,  7.13s/it]\n"
     ]
    },
    {
     "name": "stdout",
     "output_type": "stream",
     "text": [
      "Generation 7 : mean 59 - std 15\n"
     ]
    },
    {
     "name": "stderr",
     "output_type": "stream",
     "text": [
      "100%|██████████████████████████████████████████| 40/40 [04:51<00:00,  7.29s/it]\n"
     ]
    },
    {
     "name": "stdout",
     "output_type": "stream",
     "text": [
      "Generation 8 : mean 61 - std 17\n"
     ]
    },
    {
     "name": "stderr",
     "output_type": "stream",
     "text": [
      "100%|██████████████████████████████████████████| 40/40 [04:44<00:00,  7.11s/it]\n"
     ]
    },
    {
     "name": "stdout",
     "output_type": "stream",
     "text": [
      "Generation 9 : mean 59 - std 12\n"
     ]
    },
    {
     "name": "stderr",
     "output_type": "stream",
     "text": [
      "100%|██████████████████████████████████████████| 40/40 [04:37<00:00,  6.95s/it]\n"
     ]
    },
    {
     "name": "stdout",
     "output_type": "stream",
     "text": [
      "Generation 10 : mean 58 - std 11\n"
     ]
    },
    {
     "name": "stderr",
     "output_type": "stream",
     "text": [
      "100%|██████████████████████████████████████████| 40/40 [04:34<00:00,  6.86s/it]\n"
     ]
    },
    {
     "name": "stdout",
     "output_type": "stream",
     "text": [
      "Generation 11 : mean 57 - std 12\n"
     ]
    },
    {
     "name": "stderr",
     "output_type": "stream",
     "text": [
      "100%|██████████████████████████████████████████| 40/40 [04:51<00:00,  7.29s/it]\n"
     ]
    },
    {
     "name": "stdout",
     "output_type": "stream",
     "text": [
      "Generation 12 : mean 61 - std 11\n"
     ]
    },
    {
     "name": "stderr",
     "output_type": "stream",
     "text": [
      " 85%|███████████████████████████████████▋      | 34/40 [04:02<00:42,  7.12s/it]"
     ]
    }
   ],
   "source": [
    "game.run_game(n = 40)"
   ]
  },
  {
   "cell_type": "code",
   "execution_count": null,
   "metadata": {},
   "outputs": [],
   "source": []
  }
 ],
 "metadata": {
  "kernelspec": {
   "display_name": "Python 3",
   "language": "python",
   "name": "python3"
  },
  "language_info": {
   "codemirror_mode": {
    "name": "ipython",
    "version": 3
   },
   "file_extension": ".py",
   "mimetype": "text/x-python",
   "name": "python",
   "nbconvert_exporter": "python",
   "pygments_lexer": "ipython3",
   "version": "3.6.3"
  },
  "toc": {
   "colors": {
    "hover_highlight": "#DAA520",
    "running_highlight": "#FF0000",
    "selected_highlight": "#FFD700"
   },
   "moveMenuLeft": true,
   "nav_menu": {
    "height": "159px",
    "width": "252px"
   },
   "navigate_menu": true,
   "number_sections": true,
   "sideBar": true,
   "threshold": 4,
   "toc_cell": false,
   "toc_section_display": "block",
   "toc_window_display": true
  }
 },
 "nbformat": 4,
 "nbformat_minor": 2
}
