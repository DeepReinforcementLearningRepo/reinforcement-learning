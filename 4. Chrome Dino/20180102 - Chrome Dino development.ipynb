{
 "cells": [
  {
   "cell_type": "markdown",
   "metadata": {},
   "source": [
    "# Chrome Dino environment development\n",
    "![](http://www.skipser.com/test/trex-game/promotion/trex-chrome-game.png)"
   ]
  },
  {
   "cell_type": "code",
   "execution_count": 1,
   "metadata": {
    "ExecuteTime": {
     "end_time": "2018-01-02T23:34:51.841800Z",
     "start_time": "2018-01-02T23:34:49.943800Z"
    }
   },
   "outputs": [],
   "source": [
    "# Usual\n",
    "import os\n",
    "import matplotlib.pyplot as plt\n",
    "import pandas as pd\n",
    "import numpy as np\n",
    "import sys\n",
    "import time\n",
    "from tqdm import tqdm\n",
    "\n",
    "# Autoreload\n",
    "%load_ext autoreload\n",
    "%autoreload 2\n",
    "%reload_ext autoreload\n",
    "%matplotlib inline"
   ]
  },
  {
   "cell_type": "markdown",
   "metadata": {},
   "source": [
    "Game is available at https://chromedino.com/"
   ]
  },
  {
   "cell_type": "markdown",
   "metadata": {},
   "source": [
    "##### Summary\n",
    "- Capturing image from the game\n",
    "- Allowing control programmatically\n",
    "- Trying a simple implementation with classic CV algorithms\n",
    "- Capturing score as image and detect them as digits to keep track of the scores for training\n",
    "- Creating a genetic algorithm with the raw images captured\n",
    "- Creating a genetic algorithm with the processed images\n",
    "- Initialize the agent with hard coded policy\n",
    "\n",
    "##### Additional content\n",
    "- Forcing size to ensure compatibility\n",
    "- Using the framework to have multiple games at the same time ?\n"
   ]
  },
  {
   "cell_type": "markdown",
   "metadata": {},
   "source": [
    "##### References\n",
    "- https://docs.opencv.org/3.1.0/dd/d3b/tutorial_py_svm_opencv.html\n",
    "- https://pythonprogramming.net/loading-images-python-opencv-tutorial/\n",
    "- [OpenCV doc](http://opencv-python-tutroals.readthedocs.io/en/latest/py_tutorials/py_feature2d/py_table_of_contents_feature2d/py_table_of_contents_feature2d.html)"
   ]
  },
  {
   "cell_type": "markdown",
   "metadata": {},
   "source": [
    "***\n",
    "# Capturing image from the game"
   ]
  },
  {
   "cell_type": "code",
   "execution_count": 5,
   "metadata": {
    "ExecuteTime": {
     "end_time": "2018-01-02T23:38:50.906800Z",
     "start_time": "2018-01-02T23:38:50.731800Z"
    }
   },
   "outputs": [],
   "source": [
    "import cv2\n",
    "from PIL import Image,ImageGrab"
   ]
  },
  {
   "cell_type": "markdown",
   "metadata": {},
   "source": [
    "##### Test with imagegrab\n",
    "Image grab takes a bounding box with coordinates ``left,top,right,bottom``"
   ]
  },
  {
   "cell_type": "code",
   "execution_count": 15,
   "metadata": {
    "ExecuteTime": {
     "end_time": "2018-01-02T23:44:14.366800Z",
     "start_time": "2018-01-02T23:44:14.117800Z"
    }
   },
   "outputs": [
    {
     "data": {
      "image/png": "[encoded data removed]",
      "text/plain": [
       "<PIL.Image.Image image mode=RGB size=100x200 at 0xB3B6BE0>"
      ]
     },
     "execution_count": 15,
     "metadata": {},
     "output_type": "execute_result"
    }
   ],
   "source": [
    "ImageGrab.grab(bbox=(0,0,100,200))"
   ]
  },
  {
   "cell_type": "markdown",
   "metadata": {},
   "source": [
    "###### Get screen size"
   ]
  },
  {
   "cell_type": "code",
   "execution_count": 16,
   "metadata": {
    "ExecuteTime": {
     "end_time": "2018-01-02T23:45:08.240800Z",
     "start_time": "2018-01-02T23:45:08.070800Z"
    }
   },
   "outputs": [
    {
     "data": {
      "text/plain": [
       "(1920, 1080)"
      ]
     },
     "execution_count": 16,
     "metadata": {},
     "output_type": "execute_result"
    }
   ],
   "source": [
    "def get_size():\n",
    "    img = ImageGrab.grab()\n",
    "    return img.size\n",
    "get_size()"
   ]
  },
  {
   "cell_type": "code",
   "execution_count": 18,
   "metadata": {
    "ExecuteTime": {
     "end_time": "2018-01-02T23:47:22.483800Z",
     "start_time": "2018-01-02T23:47:22.158800Z"
    }
   },
   "outputs": [
    {
     "data": {
      "text/plain": [
       "960.0"
      ]
     },
     "execution_count": 18,
     "metadata": {},
     "output_type": "execute_result"
    }
   ],
   "source": [
    "1920/2"
   ]
  },
  {
   "cell_type": "markdown",
   "metadata": {},
   "source": [
    "##### Get ROI (Region Of Interest)"
   ]
  },
  {
   "cell_type": "code",
   "execution_count": 47,
   "metadata": {
    "ExecuteTime": {
     "end_time": "2018-01-03T00:17:55.240800Z",
     "start_time": "2018-01-03T00:17:54.936800Z"
    }
   },
   "outputs": [
    {
     "data": {
      "image/png": "[encoded data removed]",
      "text/plain": [
       "<PIL.Image.Image image mode=RGB size=830x250 at 0xAC17C18>"
      ]
     },
     "execution_count": 47,
     "metadata": {},
     "output_type": "execute_result"
    }
   ],
   "source": [
    "def grab_roi():\n",
    "    return ImageGrab.grab(bbox=(1020,350,1850,600))\n",
    "\n",
    "grab_roi()"
   ]
  },
  {
   "cell_type": "markdown",
   "metadata": {},
   "source": [
    "***\n",
    "# Allowing control programmatically\n",
    "http://pyautogui.readthedocs.io/en/latest/keyboard.html"
   ]
  },
  {
   "cell_type": "code",
   "execution_count": 39,
   "metadata": {
    "ExecuteTime": {
     "end_time": "2018-01-03T00:09:59.075800Z",
     "start_time": "2018-01-03T00:09:58.843800Z"
    }
   },
   "outputs": [],
   "source": [
    "import pyautogui\n",
    "import time\n",
    "import random"
   ]
  },
  {
   "cell_type": "markdown",
   "metadata": {},
   "source": [
    "###### Pressing up"
   ]
  },
  {
   "cell_type": "code",
   "execution_count": 40,
   "metadata": {
    "ExecuteTime": {
     "end_time": "2018-01-03T00:11:15.024800Z",
     "start_time": "2018-01-03T00:11:14.680800Z"
    }
   },
   "outputs": [],
   "source": [
    "pyautogui.press(\"up\")"
   ]
  },
  {
   "cell_type": "markdown",
   "metadata": {},
   "source": [
    "##### Planning multiple presses"
   ]
  },
  {
   "cell_type": "code",
   "execution_count": 42,
   "metadata": {
    "ExecuteTime": {
     "end_time": "2018-01-03T00:13:01.390800Z",
     "start_time": "2018-01-03T00:12:56.575800Z"
    }
   },
   "outputs": [
    {
     "name": "stdout",
     "output_type": "stream",
     "text": [
      "UP\n",
      "UP\n",
      "UP\n",
      "UP\n",
      "UP\n",
      "UP\n"
     ]
    }
   ],
   "source": [
    "t = time.time()\n",
    "while time.time() - t < 3:\n",
    "    print(\"UP\")\n",
    "    time.sleep(random.random()*2)\n",
    "    pyautogui.press(\"up\")"
   ]
  },
  {
   "cell_type": "markdown",
   "metadata": {},
   "source": [
    "##### Moving mouse to other screen"
   ]
  },
  {
   "cell_type": "code",
   "execution_count": 44,
   "metadata": {
    "ExecuteTime": {
     "end_time": "2018-01-03T00:14:21.483800Z",
     "start_time": "2018-01-03T00:14:19.939800Z"
    }
   },
   "outputs": [],
   "source": [
    "pyautogui.click(x=1000,y = 500)\n",
    "time.sleep(1)\n",
    "pyautogui.press(\"up\")"
   ]
  },
  {
   "cell_type": "markdown",
   "metadata": {},
   "source": [
    "##### Random game for 10s"
   ]
  },
  {
   "cell_type": "code",
   "execution_count": 46,
   "metadata": {
    "ExecuteTime": {
     "end_time": "2018-01-03T00:15:34.137800Z",
     "start_time": "2018-01-03T00:15:23.525800Z"
    }
   },
   "outputs": [
    {
     "name": "stdout",
     "output_type": "stream",
     "text": [
      "UP\n",
      "UP\n",
      "UP\n",
      "UP\n",
      "UP\n",
      "UP\n",
      "UP\n",
      "UP\n",
      "UP\n"
     ]
    }
   ],
   "source": [
    "t = time.time()\n",
    "pyautogui.click(x=1000,y = 500)\n",
    "while time.time() - t < 10:\n",
    "    print(\"UP\")\n",
    "    time.sleep(random.random()*2)\n",
    "    pyautogui.press(\"up\")"
   ]
  },
  {
   "cell_type": "markdown",
   "metadata": {},
   "source": [
    "***\n",
    "# Try a simple implementation with classic CV algorithms"
   ]
  },
  {
   "cell_type": "markdown",
   "metadata": {},
   "source": [
    "## Preparing the preprocessing"
   ]
  },
  {
   "cell_type": "markdown",
   "metadata": {},
   "source": [
    "##### Capturing a sample image of the game"
   ]
  },
  {
   "cell_type": "code",
   "execution_count": 48,
   "metadata": {
    "ExecuteTime": {
     "end_time": "2018-01-03T00:18:36.656800Z",
     "start_time": "2018-01-03T00:18:36.367800Z"
    }
   },
   "outputs": [
    {
     "data": {
      "image/png": "[encoded data removed]",
      "text/plain": [
       "<PIL.Image.Image image mode=RGB size=830x250 at 0xA28BE48>"
      ]
     },
     "execution_count": 48,
     "metadata": {},
     "output_type": "execute_result"
    }
   ],
   "source": [
    "img = grab_roi()\n",
    "img"
   ]
  },
  {
   "cell_type": "markdown",
   "metadata": {},
   "source": [
    "##### Saving for further use"
   ]
  },
  {
   "cell_type": "code",
   "execution_count": 49,
   "metadata": {
    "ExecuteTime": {
     "end_time": "2018-01-03T00:19:42.096800Z",
     "start_time": "2018-01-03T00:19:41.767800Z"
    }
   },
   "outputs": [],
   "source": [
    "img.save(\"capture1.png\")"
   ]
  },
  {
   "cell_type": "code",
   "execution_count": 50,
   "metadata": {
    "ExecuteTime": {
     "end_time": "2018-01-03T00:20:35.921800Z",
     "start_time": "2018-01-03T00:20:35.614800Z"
    }
   },
   "outputs": [],
   "source": [
    "img = Image.open(\"capture1.png\")"
   ]
  },
  {
   "cell_type": "code",
   "execution_count": 53,
   "metadata": {
    "ExecuteTime": {
     "end_time": "2018-01-03T00:21:56.992800Z",
     "start_time": "2018-01-03T00:21:56.764800Z"
    }
   },
   "outputs": [],
   "source": [
    "img_array = np.array(img)"
   ]
  },
  {
   "cell_type": "markdown",
   "metadata": {},
   "source": [
    "##### Detecting edges"
   ]
  },
  {
   "cell_type": "code",
   "execution_count": 107,
   "metadata": {
    "ExecuteTime": {
     "end_time": "2018-01-03T00:59:31.971800Z",
     "start_time": "2018-01-03T00:59:31.725800Z"
    }
   },
   "outputs": [
    {
     "data": {
      "image/png": "[encoded data removed]",
      "text/plain": [
       "<PIL.Image.Image image mode=L size=830x250 at 0xAFBA0B8>"
      ]
     },
     "execution_count": 107,
     "metadata": {},
     "output_type": "execute_result"
    }
   ],
   "source": [
    "img_edges = cv2.Canny(img_array,100,200)\n",
    "Image.fromarray(img_edges)"
   ]
  },
  {
   "cell_type": "markdown",
   "metadata": {},
   "source": [
    "##### Applying a mask"
   ]
  },
  {
   "cell_type": "code",
   "execution_count": 134,
   "metadata": {
    "ExecuteTime": {
     "end_time": "2018-01-03T01:19:02.105800Z",
     "start_time": "2018-01-03T01:19:01.873800Z"
    }
   },
   "outputs": [
    {
     "data": {
      "image/png": "[encoded data removed]",
      "text/plain": [
       "<PIL.Image.Image image mode=L size=830x250 at 0xAE32358>"
      ]
     },
     "execution_count": 134,
     "metadata": {},
     "output_type": "execute_result"
    }
   ],
   "source": [
    "def select_part_from_mask(img):\n",
    "    mask = np.zeros_like(img)\n",
    "    mask[80:220,130:800] = 255\n",
    "    masked = cv2.bitwise_and(img,mask)\n",
    "    return masked\n",
    "\n",
    "img_mask = select_part_from_mask(img_edges)\n",
    "Image.fromarray(img_mask)"
   ]
  },
  {
   "cell_type": "markdown",
   "metadata": {},
   "source": [
    "##### Morphological transformations to extract positions"
   ]
  },
  {
   "cell_type": "code",
   "execution_count": 135,
   "metadata": {
    "ExecuteTime": {
     "end_time": "2018-01-03T01:19:22.925800Z",
     "start_time": "2018-01-03T01:19:22.670800Z"
    }
   },
   "outputs": [
    {
     "data": {
      "image/png": "[encoded data removed]",
      "text/plain": [
       "<PIL.Image.Image image mode=L size=830x250 at 0xAE32978>"
      ]
     },
     "execution_count": 135,
     "metadata": {},
     "output_type": "execute_result"
    }
   ],
   "source": [
    "img_eroded = cv2.erode(img_mask,np.ones((4,1),np.uint8))\n",
    "Image.fromarray(img_eroded)"
   ]
  },
  {
   "cell_type": "code",
   "execution_count": 136,
   "metadata": {
    "ExecuteTime": {
     "end_time": "2018-01-03T01:19:24.478800Z",
     "start_time": "2018-01-03T01:19:24.240800Z"
    }
   },
   "outputs": [
    {
     "data": {
      "image/png": "[encoded data removed]",
      "text/plain": [
       "<PIL.Image.Image image mode=L size=830x250 at 0xAE328D0>"
      ]
     },
     "execution_count": 136,
     "metadata": {},
     "output_type": "execute_result"
    }
   ],
   "source": [
    "img_dilated = cv2.dilate(img_eroded,np.ones((10,10),np.uint8))\n",
    "Image.fromarray(img_dilated)"
   ]
  },
  {
   "cell_type": "markdown",
   "metadata": {},
   "source": [
    "##### Finding contours"
   ]
  },
  {
   "cell_type": "code",
   "execution_count": 160,
   "metadata": {
    "ExecuteTime": {
     "end_time": "2018-01-03T01:28:54.884800Z",
     "start_time": "2018-01-03T01:28:54.653800Z"
    }
   },
   "outputs": [],
   "source": [
    "im,contours,_ = cv2.findContours(img_dilated.copy(), cv2.RETR_EXTERNAL,cv2.CHAIN_APPROX_SIMPLE)"
   ]
  },
  {
   "cell_type": "code",
   "execution_count": 161,
   "metadata": {
    "ExecuteTime": {
     "end_time": "2018-01-03T01:28:57.121800Z",
     "start_time": "2018-01-03T01:28:56.771800Z"
    }
   },
   "outputs": [
    {
     "name": "stdout",
     "output_type": "stream",
     "text": [
      "(250, 830)\n",
      "(250, 830, 3)\n"
     ]
    }
   ],
   "source": [
    "print(im.shape)\n",
    "im = cv2.cvtColor(im,cv2.COLOR_GRAY2BGR)\n",
    "print(im.shape)"
   ]
  },
  {
   "cell_type": "code",
   "execution_count": 162,
   "metadata": {
    "ExecuteTime": {
     "end_time": "2018-01-03T01:29:00.108800Z",
     "start_time": "2018-01-03T01:28:59.852800Z"
    }
   },
   "outputs": [
    {
     "data": {
      "image/png": "[encoded data removed]",
      "text/plain": [
       "<PIL.Image.Image image mode=RGB size=830x250 at 0xADF9CC0>"
      ]
     },
     "execution_count": 162,
     "metadata": {},
     "output_type": "execute_result"
    }
   ],
   "source": [
    "cv2.drawContours(im, contours, -1, (255,0,0), 3)\n",
    "Image.fromarray(im)"
   ]
  },
  {
   "cell_type": "markdown",
   "metadata": {},
   "source": [
    "##### Extracting left positions from contours"
   ]
  },
  {
   "cell_type": "code",
   "execution_count": 164,
   "metadata": {
    "ExecuteTime": {
     "end_time": "2018-01-03T01:29:18.220800Z",
     "start_time": "2018-01-03T01:29:17.963800Z"
    }
   },
   "outputs": [
    {
     "data": {
      "text/plain": [
       "2"
      ]
     },
     "execution_count": 164,
     "metadata": {},
     "output_type": "execute_result"
    }
   ],
   "source": [
    "len(contours)"
   ]
  },
  {
   "cell_type": "code",
   "execution_count": 173,
   "metadata": {
    "ExecuteTime": {
     "end_time": "2018-01-03T01:30:31.607800Z",
     "start_time": "2018-01-03T01:30:31.365800Z"
    }
   },
   "outputs": [
    {
     "data": {
      "text/plain": [
       "713"
      ]
     },
     "execution_count": 173,
     "metadata": {},
     "output_type": "execute_result"
    }
   ],
   "source": [
    "contours[0].min(axis = 0)[0][0]"
   ]
  },
  {
   "cell_type": "code",
   "execution_count": 174,
   "metadata": {
    "ExecuteTime": {
     "end_time": "2018-01-03T01:30:32.003800Z",
     "start_time": "2018-01-03T01:30:31.770800Z"
    }
   },
   "outputs": [
    {
     "data": {
      "text/plain": [
       "365"
      ]
     },
     "execution_count": 174,
     "metadata": {},
     "output_type": "execute_result"
    }
   ],
   "source": [
    "contours[1].min(axis = 0)[0][0]"
   ]
  },
  {
   "cell_type": "code",
   "execution_count": 175,
   "metadata": {
    "ExecuteTime": {
     "end_time": "2018-01-03T01:32:21.585800Z",
     "start_time": "2018-01-03T01:32:21.327800Z"
    }
   },
   "outputs": [
    {
     "data": {
      "text/plain": [
       "(250, 830, 3)"
      ]
     },
     "execution_count": 175,
     "metadata": {},
     "output_type": "execute_result"
    }
   ],
   "source": [
    "im.shape"
   ]
  },
  {
   "cell_type": "code",
   "execution_count": 179,
   "metadata": {
    "ExecuteTime": {
     "end_time": "2018-01-03T01:33:48.742800Z",
     "start_time": "2018-01-03T01:33:48.456800Z"
    }
   },
   "outputs": [
    {
     "data": {
      "image/png": "[encoded data removed]",
      "text/plain": [
       "<PIL.Image.Image image mode=RGB size=830x250 at 0xACEEEF0>"
      ]
     },
     "execution_count": 179,
     "metadata": {},
     "output_type": "execute_result"
    }
   ],
   "source": [
    "im2 = im.copy()\n",
    "cv2.line(im2,(365,0),(365,250),(255,0,0),1)\n",
    "cv2.line(im2,(713,0),(713,250),(255,0,0),1)\n",
    "Image.fromarray(im2)"
   ]
  },
  {
   "cell_type": "markdown",
   "metadata": {},
   "source": [
    "## Combine all the steps in a processing function"
   ]
  },
  {
   "cell_type": "code",
   "execution_count": 182,
   "metadata": {
    "ExecuteTime": {
     "end_time": "2018-01-03T01:42:02.537800Z",
     "start_time": "2018-01-03T01:42:02.292800Z"
    }
   },
   "outputs": [],
   "source": [
    "def process_input(img):\n",
    "    img_array = np.array(img)\n",
    "    img_edges = cv2.Canny(img_array,100,200)\n",
    "    img_mask = select_part_from_mask(img_edges)\n",
    "    img_eroded = cv2.erode(img_mask,np.ones((4,1),np.uint8))\n",
    "    img_dilated = cv2.dilate(img_eroded,np.ones((10,10),np.uint8))\n",
    "    img_contours,contours,_ = cv2.findContours(img_dilated.copy(), cv2.RETR_EXTERNAL,cv2.CHAIN_APPROX_SIMPLE)\n",
    "    img_contours = cv2.cvtColor(img_contours,cv2.COLOR_GRAY2BGR)\n",
    "    cv2.drawContours(img_contours, contours, -1, (255,0,0), 3)\n",
    "    img_lines = img_contours.copy()\n",
    "    xs = list(sorted([y.min(axis = 0)[0][0] for y in contours]))\n",
    "    for x in xs:\n",
    "        cv2.line(img_lines,(x,0),(x,img_lines.shape[0]),(255,0,0),1)\n",
    "    return img_lines,xs"
   ]
  },
  {
   "cell_type": "code",
   "execution_count": 183,
   "metadata": {
    "ExecuteTime": {
     "end_time": "2018-01-03T01:42:03.105800Z",
     "start_time": "2018-01-03T01:42:02.851800Z"
    }
   },
   "outputs": [
    {
     "data": {
      "image/png": "[encoded data removed]",
      "text/plain": [
       "<PIL.Image.Image image mode=RGB size=830x250 at 0xACDBEF0>"
      ]
     },
     "execution_count": 183,
     "metadata": {},
     "output_type": "execute_result"
    }
   ],
   "source": [
    "img_lines,xs = process_input(img)\n",
    "Image.fromarray(img_lines)"
   ]
  },
  {
   "cell_type": "code",
   "execution_count": 184,
   "metadata": {
    "ExecuteTime": {
     "end_time": "2018-01-03T01:42:25.744800Z",
     "start_time": "2018-01-03T01:42:25.516800Z"
    }
   },
   "outputs": [
    {
     "data": {
      "text/plain": [
       "[365, 713]"
      ]
     },
     "execution_count": 184,
     "metadata": {},
     "output_type": "execute_result"
    }
   ],
   "source": [
    "xs"
   ]
  },
  {
   "cell_type": "markdown",
   "metadata": {},
   "source": [
    "##### Test with another sample image"
   ]
  },
  {
   "cell_type": "code",
   "execution_count": 185,
   "metadata": {
    "ExecuteTime": {
     "end_time": "2018-01-03T01:43:53.525800Z",
     "start_time": "2018-01-03T01:43:53.217800Z"
    }
   },
   "outputs": [
    {
     "data": {
      "image/png": "[encoded data removed]",
      "text/plain": [
       "<PIL.Image.Image image mode=RGB size=830x250 at 0xACC2710>"
      ]
     },
     "execution_count": 185,
     "metadata": {},
     "output_type": "execute_result"
    }
   ],
   "source": [
    "img2 = grab_roi()\n",
    "img2"
   ]
  },
  {
   "cell_type": "code",
   "execution_count": 186,
   "metadata": {
    "ExecuteTime": {
     "end_time": "2018-01-03T01:44:18.244800Z",
     "start_time": "2018-01-03T01:44:17.996800Z"
    }
   },
   "outputs": [
    {
     "data": {
      "image/png": "[encoded data removed]",
      "text/plain": [
       "<PIL.Image.Image image mode=RGB size=830x250 at 0xACF87F0>"
      ]
     },
     "execution_count": 186,
     "metadata": {},
     "output_type": "execute_result"
    }
   ],
   "source": [
    "Image.fromarray(process_input(img2)[0])"
   ]
  },
  {
   "cell_type": "markdown",
   "metadata": {},
   "source": [
    "## Use the boundaries to create the hard coded Agent"
   ]
  },
  {
   "cell_type": "markdown",
   "metadata": {},
   "source": [
    "##### Game routine"
   ]
  },
  {
   "cell_type": "code",
   "execution_count": 191,
   "metadata": {
    "ExecuteTime": {
     "end_time": "2018-01-03T01:56:43.314800Z",
     "start_time": "2018-01-03T01:55:58.528800Z"
    },
    "collapsed": true
   },
   "outputs": [
    {
     "ename": "KeyboardInterrupt",
     "evalue": "",
     "output_type": "error",
     "traceback": [
      "\u001b[1;31m---------------------------------------------------------------------------\u001b[0m",
      "\u001b[1;31mKeyboardInterrupt\u001b[0m                         Traceback (most recent call last)",
      "\u001b[1;32m<ipython-input-191-b0451d291ad7>\u001b[0m in \u001b[0;36m<module>\u001b[1;34m()\u001b[0m\n\u001b[0;32m      2\u001b[0m \u001b[0mpyautogui\u001b[0m\u001b[1;33m.\u001b[0m\u001b[0mclick\u001b[0m\u001b[1;33m(\u001b[0m\u001b[0mx\u001b[0m\u001b[1;33m=\u001b[0m\u001b[1;36m1000\u001b[0m\u001b[1;33m,\u001b[0m\u001b[0my\u001b[0m \u001b[1;33m=\u001b[0m \u001b[1;36m500\u001b[0m\u001b[1;33m)\u001b[0m\u001b[1;33m\u001b[0m\u001b[0m\n\u001b[0;32m      3\u001b[0m \u001b[1;32mwhile\u001b[0m \u001b[1;32mTrue\u001b[0m\u001b[1;33m:\u001b[0m\u001b[1;33m\u001b[0m\u001b[0m\n\u001b[1;32m----> 4\u001b[1;33m     \u001b[0mtime\u001b[0m\u001b[1;33m.\u001b[0m\u001b[0msleep\u001b[0m\u001b[1;33m(\u001b[0m\u001b[1;36m0.05\u001b[0m\u001b[1;33m)\u001b[0m\u001b[1;33m\u001b[0m\u001b[0m\n\u001b[0m\u001b[0;32m      5\u001b[0m     \u001b[0mroi\u001b[0m \u001b[1;33m=\u001b[0m \u001b[0mgrab_roi\u001b[0m\u001b[1;33m(\u001b[0m\u001b[1;33m)\u001b[0m\u001b[1;33m\u001b[0m\u001b[0m\n\u001b[0;32m      6\u001b[0m     \u001b[0mroi_processed\u001b[0m\u001b[1;33m,\u001b[0m\u001b[0mxs\u001b[0m \u001b[1;33m=\u001b[0m \u001b[0mprocess_input\u001b[0m\u001b[1;33m(\u001b[0m\u001b[0mroi\u001b[0m\u001b[1;33m)\u001b[0m\u001b[1;33m\u001b[0m\u001b[0m\n",
      "\u001b[1;31mKeyboardInterrupt\u001b[0m: "
     ]
    }
   ],
   "source": [
    "t = time.time()\n",
    "pyautogui.click(x=1000,y = 500)\n",
    "while True:\n",
    "    time.sleep(0.05)\n",
    "    roi = grab_roi()\n",
    "    roi_processed,xs = process_input(roi)\n",
    "    if len(xs) > 0 and xs[0] < 300:\n",
    "        pyautogui.press(\"up\")"
   ]
  },
  {
   "cell_type": "markdown",
   "metadata": {},
   "source": [
    "##### First conclusions"
   ]
  },
  {
   "cell_type": "markdown",
   "metadata": {},
   "source": [
    "- This hard coded agent works already pretty well. <br>\n",
    "- Without spending a lot of time fine tuning the parameters, it can already avoid most of the cactuses till at least 400 points. <br>\n",
    "- You can see a game example below\n",
    "![](dino_hardcoded_agent.gif)"
   ]
  },
  {
   "cell_type": "markdown",
   "metadata": {},
   "source": [
    "However, there are multiple problems with this approach : \n",
    "- The dinosaur **has trouble to plan ahead** and is only considering the first cactus to choose when to jump. This can cause problem when ideally we would want to jump a little ahead to have space for the second cactus. However, we could still create a more complicated rule to consider this situation \n",
    "- The dinosaur only knows **how to jump, and not how to duck**, this can be a problem when birds will appear after in the game. \n",
    "- Moreover, as the agent is not strong enought to reach the birds level. We don't have yet any images to tune our processing to find birds in the image. \n",
    "- Finally, the agent does not react differently to speed going up while playing\n",
    "\n",
    "##### In a nutshell\n",
    "- We could still improve this hard coded agent to be even better, but this is not the purpose of this project\n",
    "- However, this is a good baseline to know how far we can go with rules in this game : around 500 points\n",
    "- We could even initialize our reinforcement learning agents to the hard coded policy to skip the first training part of our agent"
   ]
  }
 ],
 "metadata": {
  "kernelspec": {
   "display_name": "Python 3",
   "language": "python",
   "name": "python3"
  },
  "language_info": {
   "codemirror_mode": {
    "name": "ipython",
    "version": 3
   },
   "file_extension": ".py",
   "mimetype": "text/x-python",
   "name": "python",
   "nbconvert_exporter": "python",
   "pygments_lexer": "ipython3",
   "version": "3.6.3"
  },
  "toc": {
   "colors": {
    "hover_highlight": "#DAA520",
    "running_highlight": "#FF0000",
    "selected_highlight": "#FFD700"
   },
   "moveMenuLeft": true,
   "nav_menu": {
    "height": "159px",
    "width": "252px"
   },
   "navigate_menu": true,
   "number_sections": true,
   "sideBar": true,
   "threshold": 4,
   "toc_cell": false,
   "toc_section_display": "block",
   "toc_window_display": true
  }
 },
 "nbformat": 4,
 "nbformat_minor": 2
}
