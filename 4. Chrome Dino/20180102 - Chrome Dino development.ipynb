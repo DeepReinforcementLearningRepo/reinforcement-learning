{
 "cells": [
  {
   "cell_type": "markdown",
   "metadata": {
    "heading_collapsed": true
   },
   "source": [
    "# Chrome Dino environment development\n",
    "![](http://www.skipser.com/test/trex-game/promotion/trex-chrome-game.png)"
   ]
  },
  {
   "cell_type": "code",
   "execution_count": 1,
   "metadata": {
    "ExecuteTime": {
     "end_time": "2018-02-04T16:44:19.420000Z",
     "start_time": "2018-02-04T16:44:17.194000Z"
    },
    "hidden": true,
    "init_cell": true
   },
   "outputs": [],
   "source": [
    "# Usual\n",
    "import os\n",
    "import matplotlib.pyplot as plt\n",
    "import pandas as pd\n",
    "import numpy as np\n",
    "import sys\n",
    "import time\n",
    "from tqdm import tqdm\n",
    "\n",
    "# Autoreload\n",
    "%load_ext autoreload\n",
    "%autoreload 2\n",
    "%reload_ext autoreload\n",
    "%matplotlib inline"
   ]
  },
  {
   "cell_type": "markdown",
   "metadata": {
    "hidden": true
   },
   "source": [
    "Game is available at https://chromedino.com/"
   ]
  },
  {
   "cell_type": "markdown",
   "metadata": {
    "hidden": true
   },
   "source": [
    "##### Summary\n",
    "- Capturing image from the game - **OK**\n",
    "- Allowing control programmatically - **OK**\n",
    "- Trying a simple implementation of rules-based agent with classic CV algorithms - **OK** \n",
    "- Capturing scores for fitness and reward - **OK**\n",
    "- Creating the environment for RL - **OK**\n",
    "- Developing a RL agent that learns via evolution strategies\n",
    "  - Feature engineering the input with detected boundaries\n",
    "  - Taking raw image as input\n",
    "  - Taking processed image as input\n",
    "  - Initialize the agent with hard coded policy\n",
    "- Combine the RL agent and the rules-based Agent\n",
    "\n",
    "##### Additional content\n",
    "- Forcing size to ensure compatibility and reproducibility\n",
    "- Using the framework to have multiple games at the same time ?\n"
   ]
  },
  {
   "cell_type": "markdown",
   "metadata": {
    "hidden": true
   },
   "source": [
    "##### References on OpenCV\n",
    "- [OpenCV docs](https://docs.opencv.org/3.1.0/dd/d3b/tutorial_py_svm_opencv.html)\n",
    "- [OpenCV tutorials](http://opencv-python-tutroals.readthedocs.io/en/latest/py_tutorials/py_feature2d/py_table_of_contents_feature2d/py_table_of_contents_feature2d.html)\n",
    "- [Sentdex tutorials](https://pythonprogramming.net/loading-images-python-opencv-tutorial/)\n",
    "\n",
    "##### References on RL\n",
    "- [Genetic algorithms tutorial](https://nathanrooy.github.io/posts/2017-11-30/evolving-simple-organisms-using-a-genetic-algorithm-and-deep-learning/?utm_source=mybridge&utm_medium=blog&utm_campaign=read_more)"
   ]
  },
  {
   "cell_type": "markdown",
   "metadata": {
    "hidden": true
   },
   "source": [
    "***"
   ]
  },
  {
   "cell_type": "markdown",
   "metadata": {
    "heading_collapsed": true
   },
   "source": [
    "# Capturing image from the game"
   ]
  },
  {
   "cell_type": "code",
   "execution_count": 2,
   "metadata": {
    "ExecuteTime": {
     "end_time": "2018-02-04T16:44:19.694000Z",
     "start_time": "2018-02-04T16:44:19.422000Z"
    },
    "hidden": true,
    "init_cell": true
   },
   "outputs": [],
   "source": [
    "import cv2\n",
    "from PIL import Image,ImageGrab"
   ]
  },
  {
   "cell_type": "markdown",
   "metadata": {
    "hidden": true
   },
   "source": [
    "##### Test with imagegrab\n",
    "Image grab takes a bounding box with coordinates ``left,top,right,bottom``"
   ]
  },
  {
   "cell_type": "code",
   "execution_count": 15,
   "metadata": {
    "ExecuteTime": {
     "end_time": "2018-01-02T23:44:14.366800Z",
     "start_time": "2018-01-02T23:44:14.117800Z"
    },
    "hidden": true
   },
   "outputs": [
    {
     "data": {
      "image/png": "[encoded data removed]",
      "text/plain": [
       "<PIL.Image.Image image mode=RGB size=100x200 at 0xB3B6BE0>"
      ]
     },
     "execution_count": 15,
     "metadata": {},
     "output_type": "execute_result"
    }
   ],
   "source": [
    "ImageGrab.grab(bbox=(0,0,100,200))"
   ]
  },
  {
   "cell_type": "markdown",
   "metadata": {
    "hidden": true
   },
   "source": [
    "###### Get screen size"
   ]
  },
  {
   "cell_type": "code",
   "execution_count": 16,
   "metadata": {
    "ExecuteTime": {
     "end_time": "2018-01-02T23:45:08.240800Z",
     "start_time": "2018-01-02T23:45:08.070800Z"
    },
    "hidden": true
   },
   "outputs": [
    {
     "data": {
      "text/plain": [
       "(1920, 1080)"
      ]
     },
     "execution_count": 16,
     "metadata": {},
     "output_type": "execute_result"
    }
   ],
   "source": [
    "def get_size():\n",
    "    img = ImageGrab.grab()\n",
    "    return img.size\n",
    "get_size()"
   ]
  },
  {
   "cell_type": "code",
   "execution_count": 18,
   "metadata": {
    "ExecuteTime": {
     "end_time": "2018-01-02T23:47:22.483800Z",
     "start_time": "2018-01-02T23:47:22.158800Z"
    },
    "hidden": true
   },
   "outputs": [
    {
     "data": {
      "text/plain": [
       "960.0"
      ]
     },
     "execution_count": 18,
     "metadata": {},
     "output_type": "execute_result"
    }
   ],
   "source": [
    "1920/2"
   ]
  },
  {
   "cell_type": "markdown",
   "metadata": {
    "hidden": true
   },
   "source": [
    "##### Get ROI (Region Of Interest)"
   ]
  },
  {
   "cell_type": "code",
   "execution_count": 3,
   "metadata": {
    "ExecuteTime": {
     "end_time": "2018-02-04T16:44:19.927000Z",
     "start_time": "2018-02-04T16:44:19.696000Z"
    },
    "hidden": true,
    "init_cell": true
   },
   "outputs": [
    {
     "data": {
      "image/png": "[encoded data removed]",
      "text/plain": [
       "<PIL.Image.Image image mode=RGB size=830x250 at 0xA422EF0>"
      ]
     },
     "execution_count": 3,
     "metadata": {},
     "output_type": "execute_result"
    }
   ],
   "source": [
    "def grab_roi():\n",
    "    return ImageGrab.grab(bbox=(1020,350,1850,600))\n",
    "\n",
    "grab_roi()"
   ]
  },
  {
   "cell_type": "markdown",
   "metadata": {
    "hidden": true
   },
   "source": [
    "***"
   ]
  },
  {
   "cell_type": "markdown",
   "metadata": {
    "heading_collapsed": true
   },
   "source": [
    "# Allowing control programmatically"
   ]
  },
  {
   "cell_type": "markdown",
   "metadata": {
    "hidden": true
   },
   "source": [
    "http://pyautogui.readthedocs.io/en/latest/keyboard.html"
   ]
  },
  {
   "cell_type": "code",
   "execution_count": 4,
   "metadata": {
    "ExecuteTime": {
     "end_time": "2018-02-04T16:44:20.169000Z",
     "start_time": "2018-02-04T16:44:19.934000Z"
    },
    "hidden": true,
    "init_cell": true
   },
   "outputs": [],
   "source": [
    "import pyautogui\n",
    "import time\n",
    "import random"
   ]
  },
  {
   "cell_type": "markdown",
   "metadata": {
    "hidden": true
   },
   "source": [
    "###### Pressing up"
   ]
  },
  {
   "cell_type": "code",
   "execution_count": 40,
   "metadata": {
    "ExecuteTime": {
     "end_time": "2018-01-03T00:11:15.024800Z",
     "start_time": "2018-01-03T00:11:14.680800Z"
    },
    "hidden": true
   },
   "outputs": [],
   "source": [
    "pyautogui.press(\"up\")"
   ]
  },
  {
   "cell_type": "markdown",
   "metadata": {
    "hidden": true
   },
   "source": [
    "##### Planning multiple presses"
   ]
  },
  {
   "cell_type": "code",
   "execution_count": 42,
   "metadata": {
    "ExecuteTime": {
     "end_time": "2018-01-03T00:13:01.390800Z",
     "start_time": "2018-01-03T00:12:56.575800Z"
    },
    "hidden": true
   },
   "outputs": [
    {
     "name": "stdout",
     "output_type": "stream",
     "text": [
      "UP\n",
      "UP\n",
      "UP\n",
      "UP\n",
      "UP\n",
      "UP\n"
     ]
    }
   ],
   "source": [
    "t = time.time()\n",
    "while time.time() - t < 3:\n",
    "    print(\"UP\")\n",
    "    time.sleep(random.random()*2)\n",
    "    pyautogui.press(\"up\")"
   ]
  },
  {
   "cell_type": "markdown",
   "metadata": {
    "hidden": true
   },
   "source": [
    "##### Moving mouse to other screen"
   ]
  },
  {
   "cell_type": "code",
   "execution_count": 44,
   "metadata": {
    "ExecuteTime": {
     "end_time": "2018-01-03T00:14:21.483800Z",
     "start_time": "2018-01-03T00:14:19.939800Z"
    },
    "hidden": true
   },
   "outputs": [],
   "source": [
    "pyautogui.click(x=1000,y = 500)\n",
    "time.sleep(1)\n",
    "pyautogui.press(\"up\")"
   ]
  },
  {
   "cell_type": "markdown",
   "metadata": {
    "hidden": true
   },
   "source": [
    "##### Random game for 10s"
   ]
  },
  {
   "cell_type": "code",
   "execution_count": 8,
   "metadata": {
    "ExecuteTime": {
     "end_time": "2018-01-03T09:10:06.978598Z",
     "start_time": "2018-01-03T09:09:56.205598Z"
    },
    "hidden": true
   },
   "outputs": [
    {
     "name": "stdout",
     "output_type": "stream",
     "text": [
      "UP\n",
      "UP\n",
      "UP\n",
      "UP\n",
      "UP\n",
      "UP\n",
      "UP\n",
      "UP\n",
      "UP\n"
     ]
    }
   ],
   "source": [
    "t = time.time()\n",
    "pyautogui.click(x=1000,y = 500)\n",
    "while time.time() - t < 10:\n",
    "    print(\"UP\")\n",
    "    time.sleep(random.random()*2)\n",
    "    pyautogui.press(\"up\")"
   ]
  },
  {
   "cell_type": "markdown",
   "metadata": {
    "hidden": true
   },
   "source": [
    "***"
   ]
  },
  {
   "cell_type": "markdown",
   "metadata": {
    "heading_collapsed": true
   },
   "source": [
    "# Try a simple implementation with classic CV algorithms"
   ]
  },
  {
   "cell_type": "markdown",
   "metadata": {
    "hidden": true
   },
   "source": [
    "## Preparing the preprocessing"
   ]
  },
  {
   "cell_type": "markdown",
   "metadata": {
    "hidden": true
   },
   "source": [
    "##### Capturing a sample image of the game"
   ]
  },
  {
   "cell_type": "code",
   "execution_count": 48,
   "metadata": {
    "ExecuteTime": {
     "end_time": "2018-01-03T00:18:36.656800Z",
     "start_time": "2018-01-03T00:18:36.367800Z"
    },
    "hidden": true
   },
   "outputs": [
    {
     "data": {
      "image/png": "[encoded data removed]",
      "text/plain": [
       "<PIL.Image.Image image mode=RGB size=830x250 at 0xA28BE48>"
      ]
     },
     "execution_count": 48,
     "metadata": {},
     "output_type": "execute_result"
    }
   ],
   "source": [
    "img = grab_roi()\n",
    "img"
   ]
  },
  {
   "cell_type": "markdown",
   "metadata": {
    "hidden": true
   },
   "source": [
    "##### Saving for further use"
   ]
  },
  {
   "cell_type": "code",
   "execution_count": 49,
   "metadata": {
    "ExecuteTime": {
     "end_time": "2018-01-03T00:19:42.096800Z",
     "start_time": "2018-01-03T00:19:41.767800Z"
    },
    "hidden": true
   },
   "outputs": [],
   "source": [
    "img.save(\"images/capture1.png\")"
   ]
  },
  {
   "cell_type": "code",
   "execution_count": 20,
   "metadata": {
    "ExecuteTime": {
     "end_time": "2018-01-03T12:34:14.442098Z",
     "start_time": "2018-01-03T12:34:13.816598Z"
    },
    "hidden": true
   },
   "outputs": [],
   "source": [
    "img = Image.open(\"images/capture1.png\")"
   ]
  },
  {
   "cell_type": "code",
   "execution_count": 21,
   "metadata": {
    "ExecuteTime": {
     "end_time": "2018-01-03T12:34:15.084598Z",
     "start_time": "2018-01-03T12:34:14.444598Z"
    },
    "hidden": true
   },
   "outputs": [],
   "source": [
    "img_array = np.array(img)"
   ]
  },
  {
   "cell_type": "markdown",
   "metadata": {
    "hidden": true
   },
   "source": [
    "##### Detecting edges"
   ]
  },
  {
   "cell_type": "code",
   "execution_count": 22,
   "metadata": {
    "ExecuteTime": {
     "end_time": "2018-01-03T12:34:15.813598Z",
     "start_time": "2018-01-03T12:34:15.088098Z"
    },
    "hidden": true
   },
   "outputs": [
    {
     "data": {
      "image/png": "[encoded data removed]",
      "text/plain": [
       "<PIL.Image.Image image mode=L size=830x250 at 0xC19DA58>"
      ]
     },
     "execution_count": 22,
     "metadata": {},
     "output_type": "execute_result"
    }
   ],
   "source": [
    "img_edges = cv2.Canny(img_array,100,200)\n",
    "Image.fromarray(img_edges)"
   ]
  },
  {
   "cell_type": "markdown",
   "metadata": {
    "hidden": true
   },
   "source": [
    "##### Applying a mask"
   ]
  },
  {
   "cell_type": "code",
   "execution_count": 5,
   "metadata": {
    "ExecuteTime": {
     "end_time": "2018-02-04T16:44:20.275000Z",
     "start_time": "2018-02-04T16:44:20.171000Z"
    },
    "hidden": true,
    "init_cell": true
   },
   "outputs": [],
   "source": [
    "def extract_game(img):\n",
    "    mask = np.zeros_like(img)\n",
    "    mask[80:220,130:800] = 255\n",
    "    masked = cv2.bitwise_and(img,mask)\n",
    "    return masked"
   ]
  },
  {
   "cell_type": "code",
   "execution_count": 24,
   "metadata": {
    "ExecuteTime": {
     "end_time": "2018-01-03T09:19:34.234598Z",
     "start_time": "2018-01-03T09:19:34.120598Z"
    },
    "hidden": true,
    "init_cell": false
   },
   "outputs": [
    {
     "data": {
      "image/png": "[encoded data removed]",
      "text/plain": [
       "<PIL.Image.Image image mode=L size=830x250 at 0xD2D3390>"
      ]
     },
     "execution_count": 24,
     "metadata": {},
     "output_type": "execute_result"
    }
   ],
   "source": [
    "img_mask = extract_game(img_edges)\n",
    "Image.fromarray(img_mask)"
   ]
  },
  {
   "cell_type": "markdown",
   "metadata": {
    "hidden": true
   },
   "source": [
    "##### Morphological transformations to extract positions"
   ]
  },
  {
   "cell_type": "code",
   "execution_count": 135,
   "metadata": {
    "ExecuteTime": {
     "end_time": "2018-01-03T01:19:22.925800Z",
     "start_time": "2018-01-03T01:19:22.670800Z"
    },
    "hidden": true
   },
   "outputs": [
    {
     "data": {
      "image/png": "[encoded data removed]",
      "text/plain": [
       "<PIL.Image.Image image mode=L size=830x250 at 0xAE32978>"
      ]
     },
     "execution_count": 135,
     "metadata": {},
     "output_type": "execute_result"
    }
   ],
   "source": [
    "img_eroded = cv2.erode(img_mask,np.ones((4,1),np.uint8))\n",
    "Image.fromarray(img_eroded)"
   ]
  },
  {
   "cell_type": "code",
   "execution_count": 136,
   "metadata": {
    "ExecuteTime": {
     "end_time": "2018-01-03T01:19:24.478800Z",
     "start_time": "2018-01-03T01:19:24.240800Z"
    },
    "hidden": true
   },
   "outputs": [
    {
     "data": {
      "image/png": "[encoded data removed]",
      "text/plain": [
       "<PIL.Image.Image image mode=L size=830x250 at 0xAE328D0>"
      ]
     },
     "execution_count": 136,
     "metadata": {},
     "output_type": "execute_result"
    }
   ],
   "source": [
    "img_dilated = cv2.dilate(img_eroded,np.ones((10,10),np.uint8))\n",
    "Image.fromarray(img_dilated)"
   ]
  },
  {
   "cell_type": "markdown",
   "metadata": {
    "hidden": true
   },
   "source": [
    "##### Finding contours"
   ]
  },
  {
   "cell_type": "code",
   "execution_count": 160,
   "metadata": {
    "ExecuteTime": {
     "end_time": "2018-01-03T01:28:54.884800Z",
     "start_time": "2018-01-03T01:28:54.653800Z"
    },
    "hidden": true
   },
   "outputs": [],
   "source": [
    "im,contours,_ = cv2.findContours(img_dilated.copy(), cv2.RETR_EXTERNAL,cv2.CHAIN_APPROX_SIMPLE)"
   ]
  },
  {
   "cell_type": "code",
   "execution_count": 161,
   "metadata": {
    "ExecuteTime": {
     "end_time": "2018-01-03T01:28:57.121800Z",
     "start_time": "2018-01-03T01:28:56.771800Z"
    },
    "hidden": true
   },
   "outputs": [
    {
     "name": "stdout",
     "output_type": "stream",
     "text": [
      "(250, 830)\n",
      "(250, 830, 3)\n"
     ]
    }
   ],
   "source": [
    "print(im.shape)\n",
    "im = cv2.cvtColor(im,cv2.COLOR_GRAY2BGR)\n",
    "print(im.shape)"
   ]
  },
  {
   "cell_type": "code",
   "execution_count": 162,
   "metadata": {
    "ExecuteTime": {
     "end_time": "2018-01-03T01:29:00.108800Z",
     "start_time": "2018-01-03T01:28:59.852800Z"
    },
    "hidden": true
   },
   "outputs": [
    {
     "data": {
      "image/png": "[encoded data removed]",
      "text/plain": [
       "<PIL.Image.Image image mode=RGB size=830x250 at 0xADF9CC0>"
      ]
     },
     "execution_count": 162,
     "metadata": {},
     "output_type": "execute_result"
    }
   ],
   "source": [
    "cv2.drawContours(im, contours, -1, (255,0,0), 3)\n",
    "Image.fromarray(im)"
   ]
  },
  {
   "cell_type": "markdown",
   "metadata": {
    "hidden": true
   },
   "source": [
    "##### Extracting left positions from contours"
   ]
  },
  {
   "cell_type": "code",
   "execution_count": 164,
   "metadata": {
    "ExecuteTime": {
     "end_time": "2018-01-03T01:29:18.220800Z",
     "start_time": "2018-01-03T01:29:17.963800Z"
    },
    "hidden": true
   },
   "outputs": [
    {
     "data": {
      "text/plain": [
       "2"
      ]
     },
     "execution_count": 164,
     "metadata": {},
     "output_type": "execute_result"
    }
   ],
   "source": [
    "len(contours)"
   ]
  },
  {
   "cell_type": "code",
   "execution_count": 173,
   "metadata": {
    "ExecuteTime": {
     "end_time": "2018-01-03T01:30:31.607800Z",
     "start_time": "2018-01-03T01:30:31.365800Z"
    },
    "hidden": true
   },
   "outputs": [
    {
     "data": {
      "text/plain": [
       "713"
      ]
     },
     "execution_count": 173,
     "metadata": {},
     "output_type": "execute_result"
    }
   ],
   "source": [
    "contours[0].min(axis = 0)[0][0]"
   ]
  },
  {
   "cell_type": "code",
   "execution_count": 174,
   "metadata": {
    "ExecuteTime": {
     "end_time": "2018-01-03T01:30:32.003800Z",
     "start_time": "2018-01-03T01:30:31.770800Z"
    },
    "hidden": true
   },
   "outputs": [
    {
     "data": {
      "text/plain": [
       "365"
      ]
     },
     "execution_count": 174,
     "metadata": {},
     "output_type": "execute_result"
    }
   ],
   "source": [
    "contours[1].min(axis = 0)[0][0]"
   ]
  },
  {
   "cell_type": "code",
   "execution_count": 175,
   "metadata": {
    "ExecuteTime": {
     "end_time": "2018-01-03T01:32:21.585800Z",
     "start_time": "2018-01-03T01:32:21.327800Z"
    },
    "hidden": true
   },
   "outputs": [
    {
     "data": {
      "text/plain": [
       "(250, 830, 3)"
      ]
     },
     "execution_count": 175,
     "metadata": {},
     "output_type": "execute_result"
    }
   ],
   "source": [
    "im.shape"
   ]
  },
  {
   "cell_type": "code",
   "execution_count": 179,
   "metadata": {
    "ExecuteTime": {
     "end_time": "2018-01-03T01:33:48.742800Z",
     "start_time": "2018-01-03T01:33:48.456800Z"
    },
    "hidden": true
   },
   "outputs": [
    {
     "data": {
      "image/png": "[encoded data removed]",
      "text/plain": [
       "<PIL.Image.Image image mode=RGB size=830x250 at 0xACEEEF0>"
      ]
     },
     "execution_count": 179,
     "metadata": {},
     "output_type": "execute_result"
    }
   ],
   "source": [
    "im2 = im.copy()\n",
    "cv2.line(im2,(365,0),(365,250),(255,0,0),1)\n",
    "cv2.line(im2,(713,0),(713,250),(255,0,0),1)\n",
    "Image.fromarray(im2)"
   ]
  },
  {
   "cell_type": "markdown",
   "metadata": {
    "hidden": true
   },
   "source": [
    "## Combine all the steps in a processing function"
   ]
  },
  {
   "cell_type": "code",
   "execution_count": 6,
   "metadata": {
    "ExecuteTime": {
     "end_time": "2018-02-04T16:44:20.406000Z",
     "start_time": "2018-02-04T16:44:20.277000Z"
    },
    "hidden": true,
    "init_cell": true
   },
   "outputs": [],
   "source": [
    "def process_input(img):\n",
    "    img_array = np.array(img)\n",
    "    img_edges = cv2.Canny(img_array,100,200)\n",
    "    img_mask = extract_game(img_edges)\n",
    "    img_eroded = cv2.erode(img_mask,np.ones((4,1),np.uint8))\n",
    "    img_dilated = cv2.dilate(img_eroded,np.ones((10,10),np.uint8))\n",
    "    img_contours,contours,_ = cv2.findContours(img_dilated.copy(), cv2.RETR_EXTERNAL,cv2.CHAIN_APPROX_SIMPLE)\n",
    "    img_contours = cv2.cvtColor(img_contours,cv2.COLOR_GRAY2BGR)\n",
    "    cv2.drawContours(img_contours, contours, -1, (255,0,0), 3)\n",
    "    img_lines = img_contours.copy()\n",
    "    xs = list(sorted([y.min(axis = 0)[0][0] for y in contours]))\n",
    "    for x in xs:\n",
    "        cv2.line(img_lines,(x,0),(x,img_lines.shape[0]),(255,0,0),1)\n",
    "    return img_lines,xs"
   ]
  },
  {
   "cell_type": "code",
   "execution_count": 183,
   "metadata": {
    "ExecuteTime": {
     "end_time": "2018-01-03T01:42:03.105800Z",
     "start_time": "2018-01-03T01:42:02.851800Z"
    },
    "hidden": true
   },
   "outputs": [
    {
     "data": {
      "image/png": "[encoded data removed]",
      "text/plain": [
       "<PIL.Image.Image image mode=RGB size=830x250 at 0xACDBEF0>"
      ]
     },
     "execution_count": 183,
     "metadata": {},
     "output_type": "execute_result"
    }
   ],
   "source": [
    "img_lines,xs = process_input(img)\n",
    "Image.fromarray(img_lines)"
   ]
  },
  {
   "cell_type": "code",
   "execution_count": 184,
   "metadata": {
    "ExecuteTime": {
     "end_time": "2018-01-03T01:42:25.744800Z",
     "start_time": "2018-01-03T01:42:25.516800Z"
    },
    "hidden": true
   },
   "outputs": [
    {
     "data": {
      "text/plain": [
       "[365, 713]"
      ]
     },
     "execution_count": 184,
     "metadata": {},
     "output_type": "execute_result"
    }
   ],
   "source": [
    "xs"
   ]
  },
  {
   "cell_type": "markdown",
   "metadata": {
    "hidden": true
   },
   "source": [
    "##### Test with another sample image"
   ]
  },
  {
   "cell_type": "code",
   "execution_count": 185,
   "metadata": {
    "ExecuteTime": {
     "end_time": "2018-01-03T01:43:53.525800Z",
     "start_time": "2018-01-03T01:43:53.217800Z"
    },
    "hidden": true
   },
   "outputs": [
    {
     "data": {
      "image/png": "[encoded data removed]",
      "text/plain": [
       "<PIL.Image.Image image mode=RGB size=830x250 at 0xACC2710>"
      ]
     },
     "execution_count": 185,
     "metadata": {},
     "output_type": "execute_result"
    }
   ],
   "source": [
    "img2 = grab_roi()\n",
    "img2"
   ]
  },
  {
   "cell_type": "code",
   "execution_count": 186,
   "metadata": {
    "ExecuteTime": {
     "end_time": "2018-01-03T01:44:18.244800Z",
     "start_time": "2018-01-03T01:44:17.996800Z"
    },
    "hidden": true
   },
   "outputs": [
    {
     "data": {
      "image/png": "[encoded data removed]",
      "text/plain": [
       "<PIL.Image.Image image mode=RGB size=830x250 at 0xACF87F0>"
      ]
     },
     "execution_count": 186,
     "metadata": {},
     "output_type": "execute_result"
    }
   ],
   "source": [
    "Image.fromarray(process_input(img2)[0])"
   ]
  },
  {
   "cell_type": "markdown",
   "metadata": {
    "hidden": true
   },
   "source": [
    "## Use the boundaries to create the hard coded Agent"
   ]
  },
  {
   "cell_type": "markdown",
   "metadata": {
    "hidden": true
   },
   "source": [
    "##### Game routine"
   ]
  },
  {
   "cell_type": "code",
   "execution_count": 22,
   "metadata": {
    "ExecuteTime": {
     "end_time": "2018-01-03T09:13:52.522598Z",
     "start_time": "2018-01-03T09:13:52.099598Z"
    },
    "hidden": true
   },
   "outputs": [
    {
     "name": "stdout",
     "output_type": "stream",
     "text": [
      "(250, 830, 3)\n"
     ]
    }
   ],
   "source": [
    "t = time.time()\n",
    "pyautogui.click(x=1000,y = 500)\n",
    "while True:\n",
    "    time.sleep(0.05)\n",
    "    roi = grab_roi()\n",
    "    print(np.array(roi).shape)\n",
    "    roi_processed,xs = process_input(roi)\n",
    "    if len(xs) > 0 and xs[0] < 300:\n",
    "        pyautogui.press(\"up\")"
   ]
  },
  {
   "cell_type": "markdown",
   "metadata": {
    "hidden": true
   },
   "source": [
    "##### First conclusions"
   ]
  },
  {
   "cell_type": "markdown",
   "metadata": {
    "hidden": true
   },
   "source": [
    "- This hard coded agent works already pretty well. <br>\n",
    "- Without spending a lot of time fine tuning the parameters, it can already avoid most of the cactuses till at least 400 points. <br>\n",
    "- You can see a game example below\n",
    "![](images/dino_hardcoded_agent.gif)"
   ]
  },
  {
   "cell_type": "markdown",
   "metadata": {
    "hidden": true
   },
   "source": [
    "However, there are multiple problems with this approach : \n",
    "- The dinosaur **has trouble to plan ahead** and is only considering the first cactus to choose when to jump. This can cause problem when ideally we would want to jump a little ahead to have space for the second cactus. However, we could still create a more complicated rule to consider this situation \n",
    "- The dinosaur only knows **how to jump, and not how to duck**, this can be a problem when birds will appear after in the game. \n",
    "- Moreover, as the agent is not strong enought to reach the birds level. We don't have yet any images to tune our processing to find birds in the image. \n",
    "- Finally, the agent does not react differently to speed going up while playing\n",
    "\n",
    "##### In a nutshell\n",
    "- We could still improve this hard coded agent to be even better, but this is not the purpose of this project\n",
    "- However, this is a good baseline to know how far we can go with rules in this game : around 500 points\n",
    "- We could even initialize our reinforcement learning agents to the hard coded policy to skip the first training part of our agent"
   ]
  },
  {
   "cell_type": "markdown",
   "metadata": {
    "hidden": true
   },
   "source": [
    "***"
   ]
  },
  {
   "cell_type": "markdown",
   "metadata": {
    "heading_collapsed": true
   },
   "source": [
    "# Capturing scores"
   ]
  },
  {
   "cell_type": "markdown",
   "metadata": {
    "hidden": true
   },
   "source": [
    "To create our **Reinforcement Learning model**, we will need a reward for each game or a measure of fitness in the case of genetic algorithms.<br>\n",
    "This will be pretty easy here as we have a score for the game. Yet we will have two ways of extracting the score in real time : \n",
    "- **OCRizing the image** to extract and read the score\n",
    "- Simply **track time before game over**\n",
    "\n",
    "Yet, both have pros and cons : \n",
    "- Tracking time will reflect a score different from the one shown, which is not really a problem but in other Machine Learning problems it is dangerous to optimize a function on a different objective than the real one\n",
    "- OCRizing is complex and slow, subject to errors that could be propagated through the model. And as we want to have it in real time, we cannot use really accurate algorithms such as SVMs or Neural Networks. \n",
    "\n",
    "We will still try both approach for the sake of the game. "
   ]
  },
  {
   "cell_type": "markdown",
   "metadata": {
    "hidden": true
   },
   "source": [
    "## OCRizing score with ML computer vision models"
   ]
  },
  {
   "cell_type": "markdown",
   "metadata": {
    "hidden": true
   },
   "source": [
    "### Extract each digits"
   ]
  },
  {
   "cell_type": "markdown",
   "metadata": {
    "hidden": true
   },
   "source": [
    "##### Extract score ROI"
   ]
  },
  {
   "cell_type": "code",
   "execution_count": 45,
   "metadata": {
    "ExecuteTime": {
     "end_time": "2018-01-03T12:44:24.492098Z",
     "start_time": "2018-01-03T12:44:23.797098Z"
    },
    "hidden": true
   },
   "outputs": [
    {
     "data": {
      "image/png": "[encoded data removed]",
      "text/plain": [
       "<PIL.Image.Image image mode=RGB size=830x250 at 0xA9AC710>"
      ]
     },
     "execution_count": 45,
     "metadata": {},
     "output_type": "execute_result"
    }
   ],
   "source": [
    "Image.fromarray(img_array)"
   ]
  },
  {
   "cell_type": "code",
   "execution_count": 46,
   "metadata": {
    "ExecuteTime": {
     "end_time": "2018-01-03T12:44:27.336598Z",
     "start_time": "2018-01-03T12:44:26.694098Z"
    },
    "hidden": true
   },
   "outputs": [],
   "source": [
    "def extract_score(img):\n",
    "    return img[25:60,695:780]"
   ]
  },
  {
   "cell_type": "code",
   "execution_count": 79,
   "metadata": {
    "ExecuteTime": {
     "end_time": "2018-01-03T12:50:44.219598Z",
     "start_time": "2018-01-03T12:50:43.515098Z"
    },
    "hidden": true
   },
   "outputs": [
    {
     "data": {
      "image/png": "[encoded data removed]",
      "text/plain": [
       "<PIL.Image.Image image mode=L size=85x35 at 0xB71BA58>"
      ]
     },
     "execution_count": 79,
     "metadata": {},
     "output_type": "execute_result"
    }
   ],
   "source": [
    "img_score = extract_score(img_array)\n",
    "img_score = cv2.cvtColor(img_score,cv2.COLOR_BGR2GRAY)\n",
    "Image.fromarray(img_score)"
   ]
  },
  {
   "cell_type": "markdown",
   "metadata": {
    "hidden": true
   },
   "source": [
    "##### Thresholding and erosion"
   ]
  },
  {
   "cell_type": "code",
   "execution_count": 165,
   "metadata": {
    "ExecuteTime": {
     "end_time": "2018-01-03T13:07:21.034098Z",
     "start_time": "2018-01-03T13:07:20.141598Z"
    },
    "hidden": true
   },
   "outputs": [
    {
     "data": {
      "image/png": "[encoded data removed]",
      "text/plain": [
       "<PIL.Image.Image image mode=L size=85x35 at 0xCC71400>"
      ]
     },
     "execution_count": 165,
     "metadata": {},
     "output_type": "execute_result"
    }
   ],
   "source": [
    "_,score_th = cv2.threshold(img_score,210,255,cv2.THRESH_BINARY_INV)\n",
    "Image.fromarray(score_th)"
   ]
  },
  {
   "cell_type": "code",
   "execution_count": 202,
   "metadata": {
    "ExecuteTime": {
     "end_time": "2018-01-03T13:21:49.362098Z",
     "start_time": "2018-01-03T13:21:48.502598Z"
    },
    "hidden": true
   },
   "outputs": [
    {
     "data": {
      "image/png": "[encoded data removed]",
      "text/plain": [
       "<PIL.Image.Image image mode=L size=85x35 at 0xD05DCC0>"
      ]
     },
     "execution_count": 202,
     "metadata": {},
     "output_type": "execute_result"
    }
   ],
   "source": [
    "score_eroded = cv2.erode(score_th,np.ones((2,2),np.uint8))\n",
    "Image.fromarray(score_eroded)"
   ]
  },
  {
   "cell_type": "markdown",
   "metadata": {
    "hidden": true
   },
   "source": [
    "##### Find the bounding rectangle for all digits"
   ]
  },
  {
   "cell_type": "code",
   "execution_count": 203,
   "metadata": {
    "ExecuteTime": {
     "end_time": "2018-01-03T13:21:56.907098Z",
     "start_time": "2018-01-03T13:21:56.115598Z"
    },
    "hidden": true
   },
   "outputs": [],
   "source": [
    "im,contours,_ = cv2.findContours(score_eroded.copy(), cv2.RETR_EXTERNAL,cv2.CHAIN_APPROX_SIMPLE)\n",
    "im = cv2.cvtColor(im,cv2.COLOR_GRAY2BGR)"
   ]
  },
  {
   "cell_type": "code",
   "execution_count": 204,
   "metadata": {
    "ExecuteTime": {
     "end_time": "2018-01-03T13:21:57.665098Z",
     "start_time": "2018-01-03T13:21:56.910598Z"
    },
    "hidden": true
   },
   "outputs": [
    {
     "data": {
      "text/plain": [
       "5"
      ]
     },
     "execution_count": 204,
     "metadata": {},
     "output_type": "execute_result"
    }
   ],
   "source": [
    "len(contours)"
   ]
  },
  {
   "cell_type": "code",
   "execution_count": 205,
   "metadata": {
    "ExecuteTime": {
     "end_time": "2018-01-03T13:21:59.428098Z",
     "start_time": "2018-01-03T13:21:58.560598Z"
    },
    "hidden": true
   },
   "outputs": [
    {
     "data": {
      "text/plain": [
       "[(9, 11, 11, 13),\n",
       " (23, 11, 11, 13),\n",
       " (37, 11, 11, 13),\n",
       " (51, 11, 10, 13),\n",
       " (64, 11, 11, 13)]"
      ]
     },
     "execution_count": 205,
     "metadata": {},
     "output_type": "execute_result"
    }
   ],
   "source": [
    "boxes = [cv2.boundingRect(c) for c in contours]\n",
    "boxes = [box for box in boxes if box[2] > 9 and box[3] > 10]\n",
    "boxes = list(sorted(boxes,key = lambda x : x[0]))\n",
    "boxes"
   ]
  },
  {
   "cell_type": "code",
   "execution_count": 206,
   "metadata": {
    "ExecuteTime": {
     "end_time": "2018-01-03T13:22:00.205598Z",
     "start_time": "2018-01-03T13:21:59.431098Z"
    },
    "hidden": true
   },
   "outputs": [
    {
     "data": {
      "image/png": "[encoded data removed]",
      "text/plain": [
       "<PIL.Image.Image image mode=RGB size=85x35 at 0xCF2CB70>"
      ]
     },
     "execution_count": 206,
     "metadata": {},
     "output_type": "execute_result"
    }
   ],
   "source": [
    "for box in boxes:\n",
    "    (x, y, w, h) = box\n",
    "    cv2.rectangle(im, (x, y), (x + w, y + h),(255,0,0), 1)\n",
    "Image.fromarray(im)"
   ]
  },
  {
   "cell_type": "markdown",
   "metadata": {
    "hidden": true
   },
   "source": [
    "##### Extract each digits"
   ]
  },
  {
   "cell_type": "code",
   "execution_count": 208,
   "metadata": {
    "ExecuteTime": {
     "end_time": "2018-01-03T13:22:27.033598Z",
     "start_time": "2018-01-03T13:22:26.232598Z"
    },
    "hidden": true
   },
   "outputs": [
    {
     "data": {
      "image/png": "[encoded data removed]",
      "text/plain": [
       "<PIL.Image.Image image mode=L size=11x13 at 0xCF3F400>"
      ]
     },
     "execution_count": 208,
     "metadata": {},
     "output_type": "execute_result"
    }
   ],
   "source": [
    "digits = []\n",
    "for (x, y, w, h) in boxes:\n",
    "    digits.append(score_eroded[y:y+h,x:x+w])\n",
    "Image.fromarray(digits[4])"
   ]
  },
  {
   "cell_type": "markdown",
   "metadata": {
    "ExecuteTime": {
     "end_time": "2018-01-03T11:45:51.672098Z",
     "start_time": "2018-01-03T11:45:51.458598Z"
    },
    "hidden": true
   },
   "source": [
    "### Recognize the digits with the MNIST dataset"
   ]
  },
  {
   "cell_type": "markdown",
   "metadata": {
    "hidden": true
   },
   "source": [
    "At first, I thought this step would be the simplest, as OCRizing digits is a well known and solved problem. However : \n",
    "- I tried ``Tesseract`` using ``Pytesseract`` which only achieved a unsatisfactory accuracy\n",
    "- I could not find an easy pre-trained library or API\n",
    "\n",
    "Thus I had to go back to two remaining solutions :\n",
    "- Either extract multiple digits from source, cluster them to help their labelling, then train a model\n",
    "- Use the famous MNIST dataset to train the model"
   ]
  },
  {
   "cell_type": "code",
   "execution_count": 177,
   "metadata": {
    "ExecuteTime": {
     "end_time": "2018-01-03T13:16:00.648598Z",
     "start_time": "2018-01-03T13:15:59.833098Z"
    },
    "hidden": true
   },
   "outputs": [],
   "source": [
    "from sklearn import datasets\n",
    "from sklearn.cross_validation import cross_val_score\n",
    "from sklearn.linear_model import LogisticRegression\n",
    "from sklearn.naive_bayes import GaussianNB\n",
    "from sklearn.neural_network import MLPClassifier\n",
    "from sklearn.svm import LinearSVC\n",
    "from sklearn.neighbors import KNeighborsClassifier\n",
    "from sklearn.cross_validation import train_test_split"
   ]
  },
  {
   "cell_type": "markdown",
   "metadata": {
    "hidden": true
   },
   "source": [
    "##### Loading the MNIST dataset"
   ]
  },
  {
   "cell_type": "code",
   "execution_count": 179,
   "metadata": {
    "ExecuteTime": {
     "end_time": "2018-01-03T13:17:37.025098Z",
     "start_time": "2018-01-03T13:17:36.195098Z"
    },
    "hidden": true
   },
   "outputs": [],
   "source": [
    "dataset = datasets.fetch_mldata(\"MNIST Original\")\n",
    "X,y = dataset.data,dataset.target"
   ]
  },
  {
   "cell_type": "markdown",
   "metadata": {
    "hidden": true
   },
   "source": [
    "##### Selecting a small subset for quick training"
   ]
  },
  {
   "cell_type": "code",
   "execution_count": 180,
   "metadata": {
    "ExecuteTime": {
     "end_time": "2018-01-03T13:17:40.476098Z",
     "start_time": "2018-01-03T13:17:39.618598Z"
    },
    "hidden": true
   },
   "outputs": [],
   "source": [
    "X_train,X_test,y_train,y_test = train_test_split(X,y,test_size = 0.98)"
   ]
  },
  {
   "cell_type": "code",
   "execution_count": 181,
   "metadata": {
    "ExecuteTime": {
     "end_time": "2018-01-03T13:17:42.470098Z",
     "start_time": "2018-01-03T13:17:41.596098Z"
    },
    "hidden": true
   },
   "outputs": [
    {
     "data": {
      "text/plain": [
       "(1400, 784)"
      ]
     },
     "execution_count": 181,
     "metadata": {},
     "output_type": "execute_result"
    }
   ],
   "source": [
    "X_train.shape"
   ]
  },
  {
   "cell_type": "markdown",
   "metadata": {
    "hidden": true
   },
   "source": [
    "##### Testing different models"
   ]
  },
  {
   "cell_type": "code",
   "execution_count": 182,
   "metadata": {
    "ExecuteTime": {
     "end_time": "2018-01-03T13:17:51.203098Z",
     "start_time": "2018-01-03T13:17:49.031598Z"
    },
    "hidden": true
   },
   "outputs": [
    {
     "data": {
      "text/plain": [
       "0.81497812824647775"
      ]
     },
     "execution_count": 182,
     "metadata": {},
     "output_type": "execute_result"
    }
   ],
   "source": [
    "scores = cross_val_score(LogisticRegression(),X_train,y_train,cv = 3)\n",
    "scores.mean()"
   ]
  },
  {
   "cell_type": "code",
   "execution_count": 183,
   "metadata": {
    "ExecuteTime": {
     "end_time": "2018-01-03T13:17:59.191598Z",
     "start_time": "2018-01-03T13:17:55.958098Z"
    },
    "hidden": true
   },
   "outputs": [
    {
     "data": {
      "text/plain": [
       "0.7678331969268174"
      ]
     },
     "execution_count": 183,
     "metadata": {},
     "output_type": "execute_result"
    }
   ],
   "source": [
    "scores = cross_val_score(MLPClassifier(hidden_layer_sizes=(100,100)),X_train,y_train,cv = 3)\n",
    "scores.mean()"
   ]
  },
  {
   "cell_type": "code",
   "execution_count": 192,
   "metadata": {
    "ExecuteTime": {
     "end_time": "2018-01-03T13:20:27.172598Z",
     "start_time": "2018-01-03T13:20:24.289098Z"
    },
    "hidden": true
   },
   "outputs": [
    {
     "data": {
      "text/plain": [
       "0.86206098384209973"
      ]
     },
     "execution_count": 192,
     "metadata": {},
     "output_type": "execute_result"
    }
   ],
   "source": [
    "scores = cross_val_score(KNeighborsClassifier(),X_train,y_train,cv = 3)\n",
    "scores.mean()"
   ]
  },
  {
   "cell_type": "markdown",
   "metadata": {
    "hidden": true
   },
   "source": [
    "##### Training the models"
   ]
  },
  {
   "cell_type": "code",
   "execution_count": 184,
   "metadata": {
    "ExecuteTime": {
     "end_time": "2018-01-03T13:18:06.036098Z",
     "start_time": "2018-01-03T13:18:04.143098Z"
    },
    "hidden": true
   },
   "outputs": [
    {
     "data": {
      "text/plain": [
       "LogisticRegression(C=1.0, class_weight=None, dual=False, fit_intercept=True,\n",
       "          intercept_scaling=1, max_iter=100, multi_class='ovr', n_jobs=1,\n",
       "          penalty='l2', random_state=None, solver='liblinear', tol=0.0001,\n",
       "          verbose=0, warm_start=False)"
      ]
     },
     "execution_count": 184,
     "metadata": {},
     "output_type": "execute_result"
    }
   ],
   "source": [
    "lr = LogisticRegression()\n",
    "lr.fit(X_train,y_train)"
   ]
  },
  {
   "cell_type": "code",
   "execution_count": 195,
   "metadata": {
    "ExecuteTime": {
     "end_time": "2018-01-03T13:21:12.646098Z",
     "start_time": "2018-01-03T13:21:11.755098Z"
    },
    "hidden": true
   },
   "outputs": [
    {
     "data": {
      "text/plain": [
       "KNeighborsClassifier(algorithm='auto', leaf_size=30, metric='minkowski',\n",
       "           metric_params=None, n_jobs=1, n_neighbors=5, p=2,\n",
       "           weights='uniform')"
      ]
     },
     "execution_count": 195,
     "metadata": {},
     "output_type": "execute_result"
    }
   ],
   "source": [
    "knn = KNeighborsClassifier()\n",
    "knn.fit(X_train,y_train)"
   ]
  },
  {
   "cell_type": "code",
   "execution_count": 188,
   "metadata": {
    "ExecuteTime": {
     "end_time": "2018-01-03T13:18:46.211098Z",
     "start_time": "2018-01-03T13:18:44.301598Z"
    },
    "hidden": true
   },
   "outputs": [
    {
     "data": {
      "text/plain": [
       "MLPClassifier(activation='relu', alpha=0.0001, batch_size='auto', beta_1=0.9,\n",
       "       beta_2=0.999, early_stopping=False, epsilon=1e-08,\n",
       "       hidden_layer_sizes=(100, 100), learning_rate='constant',\n",
       "       learning_rate_init=0.001, max_iter=200, momentum=0.9,\n",
       "       nesterovs_momentum=True, power_t=0.5, random_state=None,\n",
       "       shuffle=True, solver='adam', tol=0.0001, validation_fraction=0.1,\n",
       "       verbose=False, warm_start=False)"
      ]
     },
     "execution_count": 188,
     "metadata": {},
     "output_type": "execute_result"
    }
   ],
   "source": [
    "mlp = MLPClassifier(hidden_layer_sizes=(100,100))\n",
    "mlp.fit(X_train,y_train)"
   ]
  },
  {
   "cell_type": "markdown",
   "metadata": {
    "hidden": true
   },
   "source": [
    "##### Helper function to prepare the input the image"
   ]
  },
  {
   "cell_type": "code",
   "execution_count": 172,
   "metadata": {
    "ExecuteTime": {
     "end_time": "2018-01-03T13:14:17.075598Z",
     "start_time": "2018-01-03T13:14:16.200598Z"
    },
    "hidden": true
   },
   "outputs": [],
   "source": [
    "def prepare_image_for_mnist_input(img):\n",
    "    img = Image.fromarray(img)\n",
    "    img = img.resize((20,20))\n",
    "    mask = np.zeros((28,28),np.uint8)\n",
    "    mask[4:24,4:24] = img\n",
    "    return mask.reshape(1,-1)"
   ]
  },
  {
   "cell_type": "code",
   "execution_count": 209,
   "metadata": {
    "ExecuteTime": {
     "end_time": "2018-01-03T13:22:41.086098Z",
     "start_time": "2018-01-03T13:22:40.154598Z"
    },
    "hidden": true
   },
   "outputs": [
    {
     "name": "stdout",
     "output_type": "stream",
     "text": [
      "Logistic Regression\n",
      "- True 0 - predicted [ 0.]\n",
      "- True 0 - predicted [ 0.]\n",
      "- True 0 - predicted [ 0.]\n",
      "- True 3 - predicted [ 3.]\n",
      "- True 6 - predicted [ 5.]\n"
     ]
    }
   ],
   "source": [
    "print(\"Logistic Regression\")\n",
    "for img_digit,true in zip(digits,[0,0,0,3,6]):\n",
    "    print(\"- True {} - predicted {}\".format(true,lr.predict(prepare_image_for_mnist_input(img_digit))))"
   ]
  },
  {
   "cell_type": "code",
   "execution_count": 210,
   "metadata": {
    "ExecuteTime": {
     "end_time": "2018-01-03T13:22:43.563098Z",
     "start_time": "2018-01-03T13:22:42.730598Z"
    },
    "hidden": true
   },
   "outputs": [
    {
     "name": "stdout",
     "output_type": "stream",
     "text": [
      "KNN\n",
      "- True 0 - predicted [ 0.]\n",
      "- True 0 - predicted [ 0.]\n",
      "- True 0 - predicted [ 0.]\n",
      "- True 3 - predicted [ 3.]\n",
      "- True 6 - predicted [ 5.]\n"
     ]
    }
   ],
   "source": [
    "print(\"KNN\")\n",
    "for img_digit,true in zip(digits,[0,0,0,3,6]):\n",
    "    print(\"- True {} - predicted {}\".format(true,knn.predict(prepare_image_for_mnist_input(img_digit))))"
   ]
  },
  {
   "cell_type": "code",
   "execution_count": 211,
   "metadata": {
    "ExecuteTime": {
     "end_time": "2018-01-03T13:22:46.027098Z",
     "start_time": "2018-01-03T13:22:45.110098Z"
    },
    "hidden": true
   },
   "outputs": [
    {
     "name": "stdout",
     "output_type": "stream",
     "text": [
      "MLP\n",
      "- True 0 - predicted [ 0.]\n",
      "- True 0 - predicted [ 0.]\n",
      "- True 0 - predicted [ 0.]\n",
      "- True 3 - predicted [ 3.]\n",
      "- True 6 - predicted [ 2.]\n"
     ]
    }
   ],
   "source": [
    "print(\"MLP\")\n",
    "for img_digit,true in zip(digits,[0,0,0,3,6]):\n",
    "    print(\"- True {} - predicted {}\".format(true,mlp.predict(prepare_image_for_mnist_input(img_digit))))"
   ]
  },
  {
   "cell_type": "markdown",
   "metadata": {
    "hidden": true
   },
   "source": [
    "##### Define the end to end function"
   ]
  },
  {
   "cell_type": "code",
   "execution_count": 242,
   "metadata": {
    "ExecuteTime": {
     "end_time": "2018-01-03T13:33:29.982598Z",
     "start_time": "2018-01-03T13:33:29.082098Z"
    },
    "hidden": true
   },
   "outputs": [],
   "source": [
    "def get_score():\n",
    "    roi = grab_roi()\n",
    "    img_array = np.array(roi)\n",
    "    img_score = extract_score(img_array)\n",
    "    img_score = cv2.cvtColor(img_score,cv2.COLOR_BGR2GRAY)\n",
    "    _,score_th = cv2.threshold(img_score,210,255,cv2.THRESH_BINARY_INV)\n",
    "    score_eroded = cv2.erode(score_th,np.ones((2,2),np.uint8))\n",
    "\n",
    "    im,contours,_ = cv2.findContours(score_eroded.copy(), cv2.RETR_EXTERNAL,cv2.CHAIN_APPROX_SIMPLE)\n",
    "    im = cv2.cvtColor(im,cv2.COLOR_GRAY2BGR)\n",
    "    \n",
    "    \n",
    "    boxes = [cv2.boundingRect(c) for c in contours]\n",
    "    boxes = [box for box in boxes if box[2] > 9 and box[3] > 10]\n",
    "    boxes = list(sorted(boxes,key = lambda x : x[0]))\n",
    "    \n",
    "    digits = []\n",
    "    for (x, y, w, h) in boxes:\n",
    "        digits.append(score_eroded[y:y+h,x:x+w])\n",
    "\n",
    "    digits = [prepare_image_for_mnist_input(digit) for digit in digits]\n",
    "    digits = np.vstack(digits)\n",
    "    len(digits)\n",
    "    assert len(digits) == 5\n",
    "    \n",
    "    pred = np.int16(knn.predict(digits))\n",
    "    pred = \"\".join([str(int(x)) for x in pred])\n",
    "    pred = int(pred)\n",
    "    \n",
    "    plt.title(\"Prediction : {}\".format(pred))\n",
    "    plt.imshow(img_score,cmap = \"gray\")\n",
    "    plt.axis(\"off\")\n",
    "    plt.show()\n",
    "    \n",
    "    return pred"
   ]
  },
  {
   "cell_type": "code",
   "execution_count": 244,
   "metadata": {
    "ExecuteTime": {
     "end_time": "2018-01-03T13:34:36.775098Z",
     "start_time": "2018-01-03T13:34:35.844598Z"
    },
    "hidden": true
   },
   "outputs": [
    {
     "data": {
      "image/png": "[encoded data removed]",
      "text/plain": [
       "<matplotlib.figure.Figure at 0xec11320>"
      ]
     },
     "metadata": {},
     "output_type": "display_data"
    },
    {
     "data": {
      "text/plain": [
       "42"
      ]
     },
     "execution_count": 244,
     "metadata": {},
     "output_type": "execute_result"
    }
   ],
   "source": [
    "get_score()"
   ]
  },
  {
   "cell_type": "code",
   "execution_count": 238,
   "metadata": {
    "ExecuteTime": {
     "end_time": "2018-01-03T13:31:53.984098Z",
     "start_time": "2018-01-03T13:31:52.986098Z"
    },
    "hidden": true
   },
   "outputs": [
    {
     "data": {
      "image/png": "[encoded data removed]",
      "text/plain": [
       "<matplotlib.figure.Figure at 0xd449828>"
      ]
     },
     "metadata": {},
     "output_type": "display_data"
    },
    {
     "data": {
      "text/plain": [
       "23"
      ]
     },
     "execution_count": 238,
     "metadata": {},
     "output_type": "execute_result"
    }
   ],
   "source": [
    "get_score()"
   ]
  },
  {
   "cell_type": "code",
   "execution_count": 239,
   "metadata": {
    "ExecuteTime": {
     "end_time": "2018-01-03T13:32:25.210598Z",
     "start_time": "2018-01-03T13:32:24.221598Z"
    },
    "hidden": true
   },
   "outputs": [
    {
     "data": {
      "image/png": "[encoded data removed]",
      "text/plain": [
       "<matplotlib.figure.Figure at 0xd508208>"
      ]
     },
     "metadata": {},
     "output_type": "display_data"
    },
    {
     "data": {
      "text/plain": [
       "23"
      ]
     },
     "execution_count": 239,
     "metadata": {},
     "output_type": "execute_result"
    }
   ],
   "source": [
    "get_score()"
   ]
  },
  {
   "cell_type": "code",
   "execution_count": 240,
   "metadata": {
    "ExecuteTime": {
     "end_time": "2018-01-03T13:32:35.532598Z",
     "start_time": "2018-01-03T13:32:34.518598Z"
    },
    "hidden": true
   },
   "outputs": [
    {
     "data": {
      "image/png": "[encoded data removed]",
      "text/plain": [
       "<matplotlib.figure.Figure at 0xd594240>"
      ]
     },
     "metadata": {},
     "output_type": "display_data"
    },
    {
     "data": {
      "text/plain": [
       "39"
      ]
     },
     "execution_count": 240,
     "metadata": {},
     "output_type": "execute_result"
    }
   ],
   "source": [
    "get_score()"
   ]
  },
  {
   "cell_type": "markdown",
   "metadata": {
    "hidden": true
   },
   "source": [
    "## Using time as a metric"
   ]
  },
  {
   "cell_type": "code",
   "execution_count": 262,
   "metadata": {
    "ExecuteTime": {
     "end_time": "2018-01-03T13:52:20.025098Z",
     "start_time": "2018-01-03T13:52:14.308098Z"
    },
    "hidden": true
   },
   "outputs": [
    {
     "name": "stdout",
     "output_type": "stream",
     "text": [
      "45.05999803543091\n"
     ]
    }
   ],
   "source": [
    "roi_array = np.zeros_like(np.array(grab_roi()))\n",
    "pyautogui.click(x=1000,y = 500)\n",
    "time.sleep(0.1)\n",
    "pyautogui.press(\"up\")\n",
    "t = time.time()\n",
    "while True:\n",
    "    roi = grab_roi()\n",
    "    if (np.array(roi) == roi_array).all():\n",
    "        break\n",
    "    roi_array = np.array(roi)\n",
    "score = (time.time() - t)*10\n",
    "print(score)    "
   ]
  },
  {
   "cell_type": "markdown",
   "metadata": {
    "ExecuteTime": {
     "end_time": "2018-01-04T08:26:20.261976Z",
     "start_time": "2018-01-04T08:26:20.040976Z"
    },
    "hidden": true
   },
   "source": [
    "***"
   ]
  },
  {
   "cell_type": "markdown",
   "metadata": {},
   "source": [
    "# Creating the environment for RL"
   ]
  },
  {
   "cell_type": "code",
   "execution_count": 7,
   "metadata": {
    "ExecuteTime": {
     "end_time": "2018-02-04T16:44:23.261000Z",
     "start_time": "2018-02-04T16:44:20.408000Z"
    },
    "init_cell": true
   },
   "outputs": [],
   "source": [
    "from dino import *"
   ]
  },
  {
   "cell_type": "code",
   "execution_count": 9,
   "metadata": {
    "ExecuteTime": {
     "end_time": "2018-01-09T17:29:56.345191Z",
     "start_time": "2018-01-09T17:29:51.110191Z"
    }
   },
   "outputs": [],
   "source": [
    "game = DinoGame()"
   ]
  },
  {
   "cell_type": "code",
   "execution_count": 9,
   "metadata": {
    "ExecuteTime": {
     "end_time": "2018-01-08T08:30:42.401000Z",
     "start_time": "2018-01-08T08:30:42.035000Z"
    }
   },
   "outputs": [],
   "source": [
    "game.refresh_page()"
   ]
  },
  {
   "cell_type": "code",
   "execution_count": 10,
   "metadata": {
    "ExecuteTime": {
     "end_time": "2018-01-09T10:09:34.486191Z",
     "start_time": "2018-01-09T10:09:09.629191Z"
    }
   },
   "outputs": [
    {
     "data": {
      "text/plain": [
       "232.44999885559082"
      ]
     },
     "execution_count": 10,
     "metadata": {},
     "output_type": "execute_result"
    }
   ],
   "source": [
    "game.run_episode(policy = \"rules\")"
   ]
  },
  {
   "cell_type": "markdown",
   "metadata": {},
   "source": [
    "***"
   ]
  },
  {
   "cell_type": "markdown",
   "metadata": {},
   "source": [
    "# Developing a RL agent that learns via evolution strategies"
   ]
  },
  {
   "cell_type": "markdown",
   "metadata": {},
   "source": [
    "![](https://www.researchgate.net/profile/Hongfang_Liu/publication/260377604/figure/fig2/AS:213452158181378@1427902368463/Genetic-Algorithm-Tree-Basic-steps-of-GA-selection-crossover-and-mutation.png)\n",
    "- [Evolution Strategies as a scalable alternative for RL](https://arxiv.org/abs/1703.0386)\n",
    "- [Example of ES with PyTorch](https://github.com/atgambardella/pytorch-es/blob/master/train.py)\n",
    "- [Reinforce with PyTorch](https://github.com/pytorch/examples/blob/master/reinforcement_learning/reinforce.py)"
   ]
  },
  {
   "cell_type": "markdown",
   "metadata": {},
   "source": [
    "## Preparing the crossover"
   ]
  },
  {
   "cell_type": "code",
   "execution_count": 116,
   "metadata": {
    "ExecuteTime": {
     "end_time": "2018-01-08T09:23:01.094000Z",
     "start_time": "2018-01-08T09:23:00.796000Z"
    }
   },
   "outputs": [],
   "source": [
    "dino1,dino2 = Dino(),Dino()"
   ]
  },
  {
   "cell_type": "code",
   "execution_count": 119,
   "metadata": {
    "ExecuteTime": {
     "end_time": "2018-01-08T09:23:15.980000Z",
     "start_time": "2018-01-08T09:23:15.716000Z"
    }
   },
   "outputs": [
    {
     "data": {
      "text/plain": [
       "Variable containing:\n",
       "1.00000e-02 *\n",
       "  2.1606\n",
       "[torch.FloatTensor of size 1]"
      ]
     },
     "execution_count": 119,
     "metadata": {},
     "output_type": "execute_result"
    }
   ],
   "source": [
    "dino1.net.hidden.weight[0][0]"
   ]
  },
  {
   "cell_type": "code",
   "execution_count": 120,
   "metadata": {
    "ExecuteTime": {
     "end_time": "2018-01-08T09:23:20.483000Z",
     "start_time": "2018-01-08T09:23:20.172000Z"
    }
   },
   "outputs": [
    {
     "data": {
      "text/plain": [
       "Variable containing:\n",
       "1.00000e-02 *\n",
       "  1.1849\n",
       "[torch.FloatTensor of size 1]"
      ]
     },
     "execution_count": 120,
     "metadata": {},
     "output_type": "execute_result"
    }
   ],
   "source": [
    "dino2.net.hidden.weight[0][0]"
   ]
  },
  {
   "cell_type": "code",
   "execution_count": 121,
   "metadata": {
    "ExecuteTime": {
     "end_time": "2018-01-08T09:23:27.856000Z",
     "start_time": "2018-01-08T09:23:27.590000Z"
    }
   },
   "outputs": [],
   "source": [
    "dino3 = dino1 + dino2"
   ]
  },
  {
   "cell_type": "code",
   "execution_count": 122,
   "metadata": {
    "ExecuteTime": {
     "end_time": "2018-01-08T09:23:34.637000Z",
     "start_time": "2018-01-08T09:23:34.335000Z"
    }
   },
   "outputs": [
    {
     "data": {
      "text/plain": [
       "Variable containing:\n",
       "1.00000e-02 *\n",
       "  1.6727\n",
       "[torch.FloatTensor of size 1]"
      ]
     },
     "execution_count": 122,
     "metadata": {},
     "output_type": "execute_result"
    }
   ],
   "source": [
    "dino3.net.hidden.weight[0][0]"
   ]
  },
  {
   "cell_type": "markdown",
   "metadata": {},
   "source": [
    "## Preparing the mutation"
   ]
  },
  {
   "cell_type": "code",
   "execution_count": 17,
   "metadata": {
    "ExecuteTime": {
     "end_time": "2018-01-09T10:14:02.089191Z",
     "start_time": "2018-01-09T10:14:01.825191Z"
    }
   },
   "outputs": [],
   "source": [
    "dino = Dino()"
   ]
  },
  {
   "cell_type": "code",
   "execution_count": 18,
   "metadata": {
    "ExecuteTime": {
     "end_time": "2018-01-09T10:14:02.503191Z",
     "start_time": "2018-01-09T10:14:02.257191Z"
    }
   },
   "outputs": [
    {
     "data": {
      "text/plain": [
       "\n",
       "-1.7239e-02 -2.3747e-03 -3.5258e-02  ...   4.7516e-04 -3.6161e-02  5.3403e-03\n",
       " 3.0724e-02  2.3031e-02 -1.5182e-03  ...   3.5134e-02 -1.5162e-02  1.7255e-02\n",
       "-2.2430e-02  1.8971e-02 -1.5770e-02  ...  -1.3198e-02 -2.8008e-02  2.8595e-02\n",
       "                ...                   ⋱                   ...                \n",
       " 1.3110e-02 -2.7484e-02 -3.2595e-02  ...   2.7802e-03  3.1248e-02  1.3684e-02\n",
       "-3.1093e-02  8.4438e-03 -6.8824e-03  ...  -2.2317e-04 -2.2852e-02 -1.5473e-04\n",
       "-2.1027e-02  3.1566e-03 -7.0412e-03  ...  -5.1858e-03  1.9055e-02  2.9326e-03\n",
       "[torch.FloatTensor of size 100x700]"
      ]
     },
     "execution_count": 18,
     "metadata": {},
     "output_type": "execute_result"
    }
   ],
   "source": [
    "dino.net.hidden.weight.data"
   ]
  },
  {
   "cell_type": "code",
   "execution_count": 19,
   "metadata": {
    "ExecuteTime": {
     "end_time": "2018-01-09T10:14:04.688191Z",
     "start_time": "2018-01-09T10:14:04.413191Z"
    }
   },
   "outputs": [],
   "source": [
    "dino.mutate()"
   ]
  },
  {
   "cell_type": "code",
   "execution_count": 20,
   "metadata": {
    "ExecuteTime": {
     "end_time": "2018-01-09T10:14:05.377191Z",
     "start_time": "2018-01-09T10:14:05.165191Z"
    }
   },
   "outputs": [
    {
     "data": {
      "text/plain": [
       "\n",
       "-1.4583e-01 -1.2402e-01 -1.0016e-01  ...   7.0636e-03 -1.0660e-01  2.4020e-03\n",
       " 2.0102e-01  3.1091e-02 -8.1855e-02  ...   4.3296e-02 -1.5790e-01 -5.3639e-02\n",
       "-1.3348e-02  7.5591e-03 -8.7820e-04  ...   5.7667e-02 -1.1699e-01 -1.7642e-01\n",
       "                ...                   ⋱                   ...                \n",
       "-5.0212e-03 -7.7862e-02 -3.8191e-02  ...  -2.0878e-01 -8.6070e-02 -5.0244e-02\n",
       "-1.4975e-01  1.4860e-01  1.2195e-02  ...  -8.7780e-02 -4.1928e-02 -1.7079e-02\n",
       " 5.5063e-02 -4.2361e-02 -5.6034e-02  ...  -1.4029e-01 -5.7278e-02  4.7856e-02\n",
       "[torch.FloatTensor of size 100x700]"
      ]
     },
     "execution_count": 20,
     "metadata": {},
     "output_type": "execute_result"
    }
   ],
   "source": [
    "dino.net.hidden.weight.data"
   ]
  },
  {
   "cell_type": "markdown",
   "metadata": {},
   "source": [
    "## Preparing a Logistic Regression"
   ]
  },
  {
   "cell_type": "code",
   "execution_count": 39,
   "metadata": {
    "ExecuteTime": {
     "end_time": "2018-01-16T00:52:09.919502Z",
     "start_time": "2018-01-16T00:52:09.607502Z"
    }
   },
   "outputs": [],
   "source": [
    "from dino import *\n",
    "dino = Dino()"
   ]
  },
  {
   "cell_type": "markdown",
   "metadata": {},
   "source": [
    "##### Logistic regression"
   ]
  },
  {
   "cell_type": "code",
   "execution_count": 41,
   "metadata": {
    "ExecuteTime": {
     "end_time": "2018-01-16T00:52:17.561502Z",
     "start_time": "2018-01-16T00:52:17.241502Z"
    }
   },
   "outputs": [],
   "source": [
    "lr = LogReg(700)\n",
    "lr2 = LogReg(700)"
   ]
  },
  {
   "cell_type": "code",
   "execution_count": 47,
   "metadata": {
    "ExecuteTime": {
     "end_time": "2018-01-16T00:52:59.973502Z",
     "start_time": "2018-01-16T00:52:59.647502Z"
    }
   },
   "outputs": [
    {
     "data": {
      "text/plain": [
       "Variable containing:\n",
       "1.00000e-22 *\n",
       "  2.1990\n",
       "[torch.FloatTensor of size 1]"
      ]
     },
     "execution_count": 47,
     "metadata": {},
     "output_type": "execute_result"
    }
   ],
   "source": [
    "lr.forward(Variable(torch.ones(700)))"
   ]
  },
  {
   "cell_type": "code",
   "execution_count": 43,
   "metadata": {
    "ExecuteTime": {
     "end_time": "2018-01-16T00:52:24.766502Z",
     "start_time": "2018-01-16T00:52:24.452502Z"
    }
   },
   "outputs": [
    {
     "data": {
      "text/plain": [
       "Variable containing:\n",
       " 0.5837\n",
       "[torch.FloatTensor of size 1]"
      ]
     },
     "execution_count": 43,
     "metadata": {},
     "output_type": "execute_result"
    }
   ],
   "source": [
    "lr2.forward(Variable(torch.ones(700)))"
   ]
  },
  {
   "cell_type": "code",
   "execution_count": 44,
   "metadata": {
    "ExecuteTime": {
     "end_time": "2018-01-16T00:52:29.070502Z",
     "start_time": "2018-01-16T00:52:28.453502Z"
    }
   },
   "outputs": [
    {
     "data": {
      "image/png": "[encoded data removed]",
      "text/plain": [
       "<matplotlib.figure.Figure at 0xe589048>"
      ]
     },
     "metadata": {},
     "output_type": "display_data"
    }
   ],
   "source": [
    "lr.plot_coefs()"
   ]
  },
  {
   "cell_type": "code",
   "execution_count": 97,
   "metadata": {
    "ExecuteTime": {
     "end_time": "2018-01-09T13:13:37.088191Z",
     "start_time": "2018-01-09T13:13:36.802191Z"
    }
   },
   "outputs": [],
   "source": [
    "lr3 = lr + lr2"
   ]
  },
  {
   "cell_type": "code",
   "execution_count": 99,
   "metadata": {
    "ExecuteTime": {
     "end_time": "2018-01-09T13:13:43.438191Z",
     "start_time": "2018-01-09T13:13:43.101191Z"
    }
   },
   "outputs": [
    {
     "data": {
      "text/plain": [
       "Variable containing:\n",
       " 0.4989\n",
       "[torch.FloatTensor of size 1]"
      ]
     },
     "execution_count": 99,
     "metadata": {},
     "output_type": "execute_result"
    }
   ],
   "source": [
    "lr3.forward(Variable(torch.ones(700)))"
   ]
  },
  {
   "cell_type": "code",
   "execution_count": 49,
   "metadata": {
    "ExecuteTime": {
     "end_time": "2018-01-16T00:53:11.237502Z",
     "start_time": "2018-01-16T00:53:10.927502Z"
    }
   },
   "outputs": [
    {
     "data": {
      "text/plain": [
       "array([-1.46352816, -0.26138276, -1.51014519,  0.27912173, -0.54193318], dtype=float32)"
      ]
     },
     "execution_count": 49,
     "metadata": {},
     "output_type": "execute_result"
    }
   ],
   "source": [
    "lr.out.weight.data.numpy()[0][:5]"
   ]
  },
  {
   "cell_type": "code",
   "execution_count": 54,
   "metadata": {
    "ExecuteTime": {
     "end_time": "2018-01-16T00:54:14.848502Z",
     "start_time": "2018-01-16T00:54:14.501502Z"
    }
   },
   "outputs": [
    {
     "name": "stdout",
     "output_type": "stream",
     "text": [
      "[[ 0.         -0.          0.         -0.         -0.          0.\n",
      "  -0.0335754  -0.          0.          0.         -0.         -0.          0.\n",
      "   0.         -0.         -0.08828264  0.          0.         -0.02898808\n",
      "   0.         -0.          0.         -0.         -0.          0.\n",
      "  -0.09663183  0.11294182  0.08680765  0.         -0.          0.          0.\n",
      "   0.          0.          0.          0.         -0.0504259  -0.         -0.\n",
      "  -0.         -0.         -0.05737458  0.04940006  0.         -0.         -0.\n",
      "  -0.          0.00955112 -0.          0.         -0.          0.          0.\n",
      "  -0.          0.06452883  0.         -0.         -0.          0.         -0.\n",
      "  -0.          0.          0.          0.         -0.          0.         -0.\n",
      "  -0.05066009 -0.         -0.         -0.          0.         -0.         -0.\n",
      "  -0.         -0.          0.          0.          0.          0.          0.\n",
      "  -0.          0.         -0.         -0.         -0.          0.         -0.\n",
      "   0.          0.         -0.          0.         -0.         -0.         -0.\n",
      "   0.          0.          0.         -0.07736433  0.          0.          0.\n",
      "   0.         -0.          0.         -0.         -0.          0.          0.\n",
      "  -0.          0.          0.         -0.         -0.         -0.          0.\n",
      "  -0.          0.          0.         -0.          0.         -0.          0.\n",
      "  -0.         -0.          0.          0.         -0.          0.         -0.\n",
      "   0.          0.          0.          0.          0.          0.         -0.\n",
      "   0.         -0.          0.          0.         -0.01308651 -0.\n",
      "  -0.00149877  0.          0.          0.         -0.         -0.         -0.\n",
      "   0.08557663  0.         -0.         -0.         -0.         -0.         -0.\n",
      "  -0.         -0.         -0.01257895 -0.         -0.         -0.         -0.\n",
      "  -0.         -0.          0.         -0.         -0.          0.0035425\n",
      "   0.          0.          0.          0.         -0.          0.         -0.\n",
      "  -0.         -0.         -0.          0.          0.          0.          0.\n",
      "   0.          0.         -0.         -0.          0.         -0.          0.\n",
      "   0.         -0.         -0.01574875 -0.         -0.          0.04405491\n",
      "  -0.         -0.         -0.          0.         -0.          0.         -0.\n",
      "   0.          0.         -0.05372491 -0.         -0.          0.          0.\n",
      "  -0.         -0.         -0.          0.         -0.         -0.          0.\n",
      "   0.          0.         -0.         -0.          0.          0.          0.\n",
      "   0.         -0.         -0.         -0.          0.         -0.01301343\n",
      "   0.         -0.          0.          0.          0.          0.          0.\n",
      "  -0.         -0.         -0.          0.         -0.          0.0049015\n",
      "   0.03497089 -0.          0.         -0.         -0.          0.         -0.\n",
      "  -0.00592197  0.          0.          0.          0.          0.          0.\n",
      "  -0.         -0.         -0.          0.          0.          0.01824361\n",
      "  -0.         -0.          0.         -0.00120146 -0.         -0.         -0.\n",
      "   0.          0.          0.          0.         -0.          0.          0.\n",
      "   0.03157759 -0.          0.          0.         -0.         -0.          0.\n",
      "   0.         -0.          0.         -0.         -0.         -0.00384567\n",
      "   0.          0.         -0.         -0.          0.04194906 -0.00103808\n",
      "   0.00402134 -0.         -0.         -0.          0.         -0.         -0.\n",
      "   0.         -0.         -0.         -0.          0.          0.         -0.\n",
      "  -0.          0.         -0.          0.          0.          0.01083591\n",
      "  -0.         -0.         -0.         -0.          0.         -0.          0.\n",
      "   0.         -0.         -0.04569801 -0.          0.          0.          0.\n",
      "   0.          0.          0.          0.         -0.         -0.         -0.\n",
      "   0.         -0.          0.         -0.         -0.         -0.         -0.\n",
      "   0.          0.          0.         -0.00573464  0.          0.         -0.\n",
      "   0.          0.         -0.         -0.          0.05521845  0.         -0.\n",
      "  -0.         -0.         -0.          0.          0.          0.          0.\n",
      "  -0.          0.         -0.         -0.         -0.         -0.         -0.\n",
      "   0.         -0.          0.          0.          0.         -0.          0.\n",
      "   0.         -0.          0.          0.          0.         -0.03652041\n",
      "  -0.          0.         -0.          0.          0.          0.         -0.\n",
      "   0.          0.         -0.         -0.         -0.          0.         -0.\n",
      "  -0.          0.01667407 -0.         -0.         -0.          0.          0.\n",
      "  -0.          0.          0.          0.00283347 -0.         -0.          0.\n",
      "  -0.         -0.         -0.         -0.         -0.          0.          0.\n",
      "   0.         -0.         -0.          0.          0.         -0.         -0.\n",
      "   0.          0.         -0.         -0.          0.          0.          0.\n",
      "   0.          0.         -0.07756774  0.         -0.          0.         -0.\n",
      "   0.         -0.06596264 -0.          0.          0.          0.         -0.\n",
      "  -0.         -0.          0.         -0.          0.          0.          0.\n",
      "   0.          0.          0.          0.          0.          0.         -0.\n",
      "   0.         -0.         -0.          0.          0.          0.01586191\n",
      "   0.03249226 -0.          0.         -0.          0.         -0.         -0.\n",
      "   0.         -0.         -0.         -0.         -0.          0.         -0.\n",
      "  -0.          0.          0.         -0.         -0.          0.          0.\n",
      "  -0.         -0.         -0.         -0.0014854   0.         -0.         -0.\n",
      "  -0.         -0.          0.          0.         -0.         -0.         -0.\n",
      "  -0.          0.          0.         -0.         -0.          0.         -0.\n",
      "  -0.         -0.          0.         -0.          0.         -0.         -0.\n",
      "   0.         -0.          0.          0.          0.         -0.         -0.\n",
      "  -0.          0.          0.         -0.         -0.06500442 -0.          0.\n",
      "   0.         -0.         -0.          0.          0.         -0.          0.\n",
      "   0.         -0.          0.          0.         -0.          0.         -0.\n",
      "  -0.         -0.00101245 -0.         -0.          0.          0.          0.\n",
      "  -0.11411887 -0.          0.         -0.08275182  0.          0.01710164\n",
      "  -0.          0.          0.          0.          0.          0.          0.\n",
      "  -0.          0.         -0.         -0.         -0.         -0.          0.\n",
      "  -0.          0.         -0.04929445  0.          0.          0.          0.\n",
      "  -0.         -0.         -0.          0.          0.14998453  0.          0.\n",
      "  -0.         -0.          0.          0.         -0.          0.          0.\n",
      "  -0.         -0.          0.          0.          0.         -0.         -0.\n",
      "   0.          0.          0.          0.          0.          0.         -0.\n",
      "  -0.          0.00036858 -0.          0.          0.         -0.          0.\n",
      "   0.          0.          0.          0.          0.         -0.          0.\n",
      "  -0.          0.          0.          0.00620813 -0.         -0.         -0.\n",
      "  -0.         -0.         -0.          0.          0.         -0.          0.\n",
      "  -0.          0.          0.          0.          0.          0.011316   -0.\n",
      "  -0.         -0.         -0.         -0.          0.         -0.07350814\n",
      "   0.          0.          0.          0.          0.01169385  0.          0.\n",
      "  -0.         -0.          0.          0.013369    0.         -0.          0.\n",
      "   0.00680136 -0.         -0.          0.044375    0.         -0.00225818\n",
      "   0.          0.03153599  0.          0.05954013 -0.         -0.         -0.\n",
      "  -0.00078538 -0.         -0.         -0.          0.         -0.         -0.\n",
      "  -0.04694949 -0.         -0.         -0.          0.          0.01503035\n",
      "  -0.          0.          0.          0.         -0.          0.\n",
      "  -0.01658091  0.         -0.          0.         -0.        ]]\n"
     ]
    }
   ],
   "source": [
    "lr.mutate()"
   ]
  },
  {
   "cell_type": "code",
   "execution_count": 102,
   "metadata": {
    "ExecuteTime": {
     "end_time": "2018-01-09T13:13:47.355191Z",
     "start_time": "2018-01-09T13:13:47.055191Z"
    }
   },
   "outputs": [
    {
     "data": {
      "text/plain": [
       "array([ 0.01677739,  0.03200237,  0.02500765,  0.04204419,  0.03392242], dtype=float32)"
      ]
     },
     "execution_count": 102,
     "metadata": {},
     "output_type": "execute_result"
    }
   ],
   "source": [
    "lr.out.weight.data.numpy()[0][:5]"
   ]
  },
  {
   "cell_type": "code",
   "execution_count": 48,
   "metadata": {
    "ExecuteTime": {
     "end_time": "2018-01-16T00:53:06.272502Z",
     "start_time": "2018-01-16T00:53:05.939502Z"
    }
   },
   "outputs": [
    {
     "data": {
      "text/plain": [
       "array([  2.19903245e-22], dtype=float32)"
      ]
     },
     "execution_count": 48,
     "metadata": {},
     "output_type": "execute_result"
    }
   ],
   "source": [
    "lr.forward(Variable(torch.ones(700))).data.numpy()"
   ]
  },
  {
   "cell_type": "markdown",
   "metadata": {},
   "source": [
    "## Running the game"
   ]
  },
  {
   "cell_type": "code",
   "execution_count": 9,
   "metadata": {
    "ExecuteTime": {
     "end_time": "2018-01-16T15:21:18.801519Z",
     "start_time": "2018-01-16T15:21:14.024519Z"
    }
   },
   "outputs": [],
   "source": [
    "game = DinoGame()"
   ]
  },
  {
   "cell_type": "code",
   "execution_count": 12,
   "metadata": {
    "ExecuteTime": {
     "end_time": "2018-01-15T21:56:30.236502Z",
     "start_time": "2018-01-15T21:56:22.920502Z"
    }
   },
   "outputs": [
    {
     "data": {
      "text/plain": [
       "59.670000076293945"
      ]
     },
     "execution_count": 12,
     "metadata": {},
     "output_type": "execute_result"
    }
   ],
   "source": [
    "game.run_episode(policy = \"rules\",render = None)"
   ]
  },
  {
   "cell_type": "code",
   "execution_count": null,
   "metadata": {
    "ExecuteTime": {
     "start_time": "2018-01-16T15:21:23.010Z"
    },
    "scrolled": false
   },
   "outputs": [
    {
     "name": "stderr",
     "output_type": "stream",
     "text": [
      "100%|██████████████████████████████████████████| 50/50 [05:06<00:00,  6.13s/it]\n"
     ]
    },
    {
     "name": "stdout",
     "output_type": "stream",
     "text": [
      "Generation 0 : mean 49 - std 19 - max 115 - min 20\n"
     ]
    },
    {
     "name": "stderr",
     "output_type": "stream",
     "text": [
      "100%|██████████████████████████████████████████| 50/50 [05:40<00:00,  6.81s/it]\n"
     ]
    },
    {
     "name": "stdout",
     "output_type": "stream",
     "text": [
      "Generation 1 : mean 56 - std 15 - max 117 - min 46\n"
     ]
    },
    {
     "name": "stderr",
     "output_type": "stream",
     "text": [
      "100%|██████████████████████████████████████████| 50/50 [05:30<00:00,  6.61s/it]\n"
     ]
    },
    {
     "name": "stdout",
     "output_type": "stream",
     "text": [
      "Generation 2 : mean 54 - std 12 - max 106 - min 46\n"
     ]
    },
    {
     "name": "stderr",
     "output_type": "stream",
     "text": [
      "100%|██████████████████████████████████████████| 50/50 [05:49<00:00,  6.99s/it]\n"
     ]
    },
    {
     "name": "stdout",
     "output_type": "stream",
     "text": [
      "Generation 3 : mean 58 - std 14 - max 109 - min 47\n"
     ]
    },
    {
     "name": "stderr",
     "output_type": "stream",
     "text": [
      "100%|██████████████████████████████████████████| 50/50 [05:42<00:00,  6.85s/it]\n"
     ]
    },
    {
     "name": "stdout",
     "output_type": "stream",
     "text": [
      "Generation 4 : mean 56 - std 14 - max 104 - min 46\n"
     ]
    },
    {
     "name": "stderr",
     "output_type": "stream",
     "text": [
      "100%|██████████████████████████████████████████| 50/50 [05:40<00:00,  6.82s/it]\n"
     ]
    },
    {
     "name": "stdout",
     "output_type": "stream",
     "text": [
      "Generation 5 : mean 56 - std 15 - max 120 - min 46\n"
     ]
    },
    {
     "name": "stderr",
     "output_type": "stream",
     "text": [
      "100%|██████████████████████████████████████████| 50/50 [05:44<00:00,  6.90s/it]\n"
     ]
    },
    {
     "name": "stdout",
     "output_type": "stream",
     "text": [
      "Generation 6 : mean 57 - std 15 - max 111 - min 21\n"
     ]
    },
    {
     "name": "stderr",
     "output_type": "stream",
     "text": [
      "100%|██████████████████████████████████████████| 50/50 [05:44<00:00,  6.89s/it]\n"
     ]
    },
    {
     "name": "stdout",
     "output_type": "stream",
     "text": [
      "Generation 7 : mean 57 - std 18 - max 132 - min 20\n"
     ]
    },
    {
     "name": "stderr",
     "output_type": "stream",
     "text": [
      "100%|██████████████████████████████████████████| 50/50 [05:49<00:00,  6.98s/it]\n"
     ]
    },
    {
     "name": "stdout",
     "output_type": "stream",
     "text": [
      "Generation 8 : mean 58 - std 18 - max 138 - min 46\n"
     ]
    },
    {
     "name": "stderr",
     "output_type": "stream",
     "text": [
      "100%|██████████████████████████████████████████| 50/50 [05:35<00:00,  6.70s/it]\n"
     ]
    },
    {
     "name": "stdout",
     "output_type": "stream",
     "text": [
      "Generation 9 : mean 55 - std 10 - max 86 - min 47\n"
     ]
    },
    {
     "name": "stderr",
     "output_type": "stream",
     "text": [
      "100%|██████████████████████████████████████████| 50/50 [05:40<00:00,  6.81s/it]\n"
     ]
    },
    {
     "name": "stdout",
     "output_type": "stream",
     "text": [
      "Generation 10 : mean 56 - std 14 - max 105 - min 47\n"
     ]
    },
    {
     "name": "stderr",
     "output_type": "stream",
     "text": [
      "100%|██████████████████████████████████████████| 50/50 [05:59<00:00,  7.19s/it]\n"
     ]
    },
    {
     "name": "stdout",
     "output_type": "stream",
     "text": [
      "Generation 11 : mean 60 - std 23 - max 191 - min 47\n"
     ]
    },
    {
     "name": "stderr",
     "output_type": "stream",
     "text": [
      " 28%|███████████▊                              | 14/50 [01:31<03:55,  6.55s/it]"
     ]
    }
   ],
   "source": [
    "game.run_game(n = 50,method = \"flat700lr\",render = \"contours\")"
   ]
  },
  {
   "cell_type": "markdown",
   "metadata": {},
   "source": [
    "***"
   ]
  },
  {
   "cell_type": "markdown",
   "metadata": {},
   "source": [
    "# Improve the environment with selenium capabilities"
   ]
  },
  {
   "cell_type": "markdown",
   "metadata": {},
   "source": [
    "## Test with selenium screenshot"
   ]
  },
  {
   "cell_type": "code",
   "execution_count": 37,
   "metadata": {
    "ExecuteTime": {
     "end_time": "2018-01-13T12:23:58.469000Z",
     "start_time": "2018-01-13T12:23:57.990000Z"
    },
    "scrolled": true
   },
   "outputs": [],
   "source": [
    "from io import BytesIO\n",
    "x = Image.open(BytesIO(game.driver.get_screenshot_as_png()))"
   ]
  },
  {
   "cell_type": "code",
   "execution_count": 38,
   "metadata": {
    "ExecuteTime": {
     "end_time": "2018-01-13T12:23:59.342000Z",
     "start_time": "2018-01-13T12:23:59.188000Z"
    }
   },
   "outputs": [
    {
     "data": {
      "text/plain": [
       "(942, 883)"
      ]
     },
     "execution_count": 38,
     "metadata": {},
     "output_type": "execute_result"
    }
   ],
   "source": [
    "x.size"
   ]
  },
  {
   "cell_type": "code",
   "execution_count": 39,
   "metadata": {
    "ExecuteTime": {
     "end_time": "2018-01-13T12:23:59.845000Z",
     "start_time": "2018-01-13T12:23:59.668000Z"
    }
   },
   "outputs": [
    {
     "data": {
      "image/png": "[encoded data removed]",
      "text/plain": [
       "<PIL.PngImagePlugin.PngImageFile image mode=RGB size=942x883 at 0xD66D8D0>"
      ]
     },
     "execution_count": 39,
     "metadata": {},
     "output_type": "execute_result"
    }
   ],
   "source": [
    "x"
   ]
  },
  {
   "cell_type": "markdown",
   "metadata": {},
   "source": [
    "## New implementation of environment"
   ]
  },
  {
   "cell_type": "code",
   "execution_count": 74,
   "metadata": {
    "ExecuteTime": {
     "end_time": "2018-01-15T11:10:57.100494Z",
     "start_time": "2018-01-15T11:10:56.763494Z"
    }
   },
   "outputs": [],
   "source": [
    "from dino import *"
   ]
  },
  {
   "cell_type": "code",
   "execution_count": 75,
   "metadata": {
    "ExecuteTime": {
     "end_time": "2018-01-15T11:11:01.466494Z",
     "start_time": "2018-01-15T11:10:57.102494Z"
    }
   },
   "outputs": [],
   "source": [
    "game = DinoGame()"
   ]
  },
  {
   "cell_type": "code",
   "execution_count": 19,
   "metadata": {
    "ExecuteTime": {
     "end_time": "2018-01-15T10:42:52.719494Z",
     "start_time": "2018-01-15T10:42:52.032494Z"
    }
   },
   "outputs": [],
   "source": [
    "x = game.grab_roi()"
   ]
  },
  {
   "cell_type": "code",
   "execution_count": 20,
   "metadata": {
    "ExecuteTime": {
     "end_time": "2018-01-15T10:42:53.611494Z",
     "start_time": "2018-01-15T10:42:53.265494Z"
    }
   },
   "outputs": [
    {
     "data": {
      "text/plain": [
       "(640, 305)"
      ]
     },
     "execution_count": 20,
     "metadata": {},
     "output_type": "execute_result"
    }
   ],
   "source": [
    "x.size"
   ]
  },
  {
   "cell_type": "code",
   "execution_count": 77,
   "metadata": {
    "ExecuteTime": {
     "end_time": "2018-01-15T11:11:36.143494Z",
     "start_time": "2018-01-15T11:11:29.937494Z"
    }
   },
   "outputs": [
    {
     "name": "stdout",
     "output_type": "stream",
     "text": [
      "         442 function calls (441 primitive calls) in 0.476 seconds\n",
      "\n",
      "   Ordered by: standard name\n",
      "\n",
      "   ncalls  tottime  percall  cumtime  percall filename:lineno(function)\n",
      "        1    0.000    0.000    0.476    0.476 <string>:1(<module>)\n",
      "        1    0.000    0.000    0.000    0.000 <string>:12(__new__)\n",
      "        2    0.000    0.000    0.000    0.000 __init__.py:1284(debug)\n",
      "        2    0.000    0.000    0.000    0.000 __init__.py:1528(getEffectiveLevel)\n",
      "        2    0.000    0.000    0.000    0.000 __init__.py:1542(isEnabledFor)\n",
      "        1    0.000    0.000    0.000    0.000 __init__.py:183(dumps)\n",
      "        1    0.000    0.000    0.000    0.000 __init__.py:302(loads)\n",
      "        7    0.000    0.000    0.000    0.000 _policybase.py:281(_sanitize_header)\n",
      "        2    0.000    0.000    0.000    0.000 _policybase.py:293(header_source_parse)\n",
      "        7    0.000    0.000    0.000    0.000 _policybase.py:311(header_fetch_parse)\n",
      "        1    0.000    0.000    0.000    0.000 base64.py:34(_bytes_from_decode_data)\n",
      "        1    0.000    0.000    0.000    0.000 base64.py:65(b64decode)\n",
      "        1    0.000    0.000    0.000    0.000 client.py:1017(_send_output)\n",
      "        1    0.000    0.000    0.000    0.000 client.py:1071(putrequest)\n",
      "        6    0.000    0.000    0.000    0.000 client.py:1195(putheader)\n",
      "        1    0.000    0.000    0.000    0.000 client.py:1223(endheaders)\n",
      "        1    0.000    0.000    0.001    0.001 client.py:1236(request)\n",
      "        1    0.000    0.000    0.001    0.001 client.py:1241(_send_request)\n",
      "        5    0.000    0.000    0.000    0.000 client.py:1243(<genexpr>)\n",
      "        1    0.000    0.000    0.475    0.475 client.py:1287(getresponse)\n",
      "        1    0.000    0.000    0.000    0.000 client.py:194(parse_headers)\n",
      "        1    0.000    0.000    0.000    0.000 client.py:227(__init__)\n",
      "        1    0.000    0.000    0.475    0.475 client.py:257(_read_status)\n",
      "        1    0.000    0.000    0.475    0.475 client.py:290(begin)\n",
      "        1    0.000    0.000    0.000    0.000 client.py:370(_check_close)\n",
      "        1    0.000    0.000    0.000    0.000 client.py:400(_close_conn)\n",
      "        1    0.000    0.000    0.000    0.000 client.py:405(close)\n",
      "        1    0.000    0.000    0.000    0.000 client.py:417(flush)\n",
      "        1    0.000    0.000    0.000    0.000 client.py:428(isclosed)\n",
      "        1    0.000    0.000    0.000    0.000 client.py:438(read)\n",
      "        1    0.000    0.000    0.000    0.000 client.py:596(_safe_read)\n",
      "        2    0.000    0.000    0.000    0.000 client.py:713(getheader)\n",
      "        1    0.000    0.000    0.000    0.000 client.py:804(_get_content_length)\n",
      "        1    0.000    0.000    0.000    0.000 client.py:956(send)\n",
      "        7    0.000    0.000    0.000    0.000 client.py:995(_output)\n",
      "        1    0.000    0.000    0.000    0.000 decoder.py:334(decode)\n",
      "        1    0.000    0.000    0.000    0.000 decoder.py:345(raw_decode)\n",
      "        1    0.000    0.000    0.000    0.000 encoder.py:182(encode)\n",
      "        1    0.000    0.000    0.000    0.000 encoder.py:204(iterencode)\n",
      "        1    0.000    0.000    0.000    0.000 errorhandler.py:103(check_response)\n",
      "        1    0.000    0.000    0.000    0.000 feedparser.py:101(push)\n",
      "        2    0.000    0.000    0.000    0.000 feedparser.py:122(pushlines)\n",
      "        2    0.000    0.000    0.000    0.000 feedparser.py:125(__iter__)\n",
      "        5    0.000    0.000    0.000    0.000 feedparser.py:128(__next__)\n",
      "        1    0.000    0.000    0.000    0.000 feedparser.py:139(__init__)\n",
      "        1    0.000    0.000    0.000    0.000 feedparser.py:173(feed)\n",
      "        2    0.000    0.000    0.000    0.000 feedparser.py:178(_call_parse)\n",
      "        1    0.000    0.000    0.000    0.000 feedparser.py:184(close)\n",
      "        1    0.000    0.000    0.000    0.000 feedparser.py:197(_new_message)\n",
      "        1    0.000    0.000    0.000    0.000 feedparser.py:210(_pop_message)\n",
      "        2    0.000    0.000    0.000    0.000 feedparser.py:218(_parsegen)\n",
      "        1    0.000    0.000    0.000    0.000 feedparser.py:471(_parse_headers)\n",
      "        1    0.000    0.000    0.000    0.000 feedparser.py:53(__init__)\n",
      "        1    0.000    0.000    0.000    0.000 feedparser.py:70(close)\n",
      "        5    0.000    0.000    0.000    0.000 feedparser.py:78(readline)\n",
      "        2    0.000    0.000    0.000    0.000 message.py:120(__init__)\n",
      "        4    0.000    0.000    0.000    0.000 message.py:29(_splitparam)\n",
      "        1    0.000    0.000    0.000    0.000 message.py:303(set_payload)\n",
      "        9    0.000    0.000    0.000    0.000 message.py:462(get)\n",
      "        2    0.000    0.000    0.000    0.000 message.py:479(set_raw)\n",
      "        2    0.000    0.000    0.000    0.000 message.py:497(get_all)\n",
      "        4    0.000    0.000    0.000    0.000 message.py:564(get_content_type)\n",
      "        3    0.000    0.000    0.000    0.000 message.py:588(get_content_maintype)\n",
      "        2    0.000    0.000    0.000    0.000 parse.py:109(_coerce_args)\n",
      "        1    0.000    0.000    0.000    0.000 parse.py:146(username)\n",
      "        1    0.000    0.000    0.000    0.000 parse.py:176(_userinfo)\n",
      "        1    0.000    0.000    0.000    0.000 parse.py:359(urlparse)\n",
      "        1    0.000    0.000    0.000    0.000 parse.py:384(_splitnetloc)\n",
      "        1    0.000    0.000    0.000    0.000 parse.py:392(urlsplit)\n",
      "        2    0.000    0.000    0.000    0.000 parse.py:98(_noop)\n",
      "        1    0.000    0.000    0.000    0.000 parser.py:18(__init__)\n",
      "        1    0.000    0.000    0.000    0.000 parser.py:42(parse)\n",
      "        1    0.000    0.000    0.000    0.000 parser.py:60(parsestr)\n",
      "        1    0.000    0.000    0.000    0.000 remote_connection.py:165(get_remote_connection_headers)\n",
      "        1    0.000    0.000    0.476    0.476 remote_connection.py:443(execute)\n",
      "        1    0.000    0.000    0.476    0.476 remote_connection.py:462(_request)\n",
      "        1    0.000    0.000    0.000    0.000 remote_connection.py:540(<listcomp>)\n",
      "        1    0.000    0.000    0.000    0.000 socket.py:218(makefile)\n",
      "        1    0.000    0.000    0.000    0.000 socket.py:403(_decref_socketios)\n",
      "        1    0.000    0.000    0.000    0.000 socket.py:560(__init__)\n",
      "        3    0.000    0.000    0.475    0.158 socket.py:572(readinto)\n",
      "        4    0.000    0.000    0.000    0.000 socket.py:611(readable)\n",
      "        1    0.000    0.000    0.000    0.000 socket.py:649(close)\n",
      "        1    0.000    0.000    0.000    0.000 string.py:101(substitute)\n",
      "        1    0.000    0.000    0.000    0.000 string.py:115(convert)\n",
      "        1    0.000    0.000    0.000    0.000 string.py:84(__init__)\n",
      "        1    0.000    0.000    0.000    0.000 utils.py:33(dump_json)\n",
      "        1    0.000    0.000    0.000    0.000 utils.py:37(load_json)\n",
      "        7    0.000    0.000    0.000    0.000 utils.py:51(_has_surrogates)\n",
      "      2/1    0.000    0.000    0.000    0.000 webdriver.py:257(_wrap_value)\n",
      "        1    0.000    0.000    0.000    0.000 webdriver.py:274(_unwrap_value)\n",
      "        1    0.000    0.000    0.476    0.476 webdriver.py:291(execute)\n",
      "        1    0.000    0.000    0.476    0.476 webdriver.py:936(get_screenshot_as_png)\n",
      "        1    0.000    0.000    0.476    0.476 webdriver.py:945(get_screenshot_as_base64)\n",
      "        2    0.000    0.000    0.000    0.000 {built-in method __new__ of type object at 0x000000001E14B3F0}\n",
      "        1    0.000    0.000    0.000    0.000 {built-in method binascii.a2b_base64}\n",
      "        1    0.000    0.000    0.000    0.000 {built-in method builtins.any}\n",
      "        1    0.000    0.000    0.476    0.476 {built-in method builtins.exec}\n",
      "       16    0.000    0.000    0.000    0.000 {built-in method builtins.hasattr}\n",
      "       23    0.000    0.000    0.000    0.000 {built-in method builtins.isinstance}\n",
      "       12    0.000    0.000    0.000    0.000 {built-in method builtins.len}\n",
      "        2    0.000    0.000    0.000    0.000 {built-in method builtins.min}\n",
      "        1    0.000    0.000    0.000    0.000 {function HTTPResponse.close at 0x0000000004E57730}\n",
      "        1    0.000    0.000    0.000    0.000 {function HTTPResponse.flush at 0x0000000004E577B8}\n",
      "        3    0.000    0.000    0.000    0.000 {method '_checkClosed' of '_io._IOBase' objects}\n",
      "        3    0.000    0.000    0.000    0.000 {method '_checkReadable' of '_io._IOBase' objects}\n",
      "       18    0.000    0.000    0.000    0.000 {method 'append' of 'list' objects}\n",
      "        1    0.000    0.000    0.000    0.000 {method 'close' of '_io.BufferedReader' objects}\n",
      "        4    0.000    0.000    0.000    0.000 {method 'count' of 'str' objects}\n",
      "        3    0.000    0.000    0.000    0.000 {method 'decode' of 'bytes' objects}\n",
      "        1    0.000    0.000    0.000    0.000 {method 'disable' of '_lsprof.Profiler' objects}\n",
      "       22    0.000    0.000    0.000    0.000 {method 'encode' of 'str' objects}\n",
      "        2    0.000    0.000    0.000    0.000 {method 'end' of '_sre.SRE_Match' objects}\n",
      "        1    0.000    0.000    0.000    0.000 {method 'endswith' of 'str' objects}\n",
      "        2    0.000    0.000    0.000    0.000 {method 'extend' of 'collections.deque' objects}\n",
      "        1    0.000    0.000    0.000    0.000 {method 'extend' of 'list' objects}\n",
      "        7    0.000    0.000    0.000    0.000 {method 'find' of 'str' objects}\n",
      "        6    0.000    0.000    0.000    0.000 {method 'fullmatch' of '_sre.SRE_Pattern' objects}\n",
      "        3    0.000    0.000    0.000    0.000 {method 'get' of 'dict' objects}\n",
      "        1    0.000    0.000    0.000    0.000 {method 'group' of '_sre.SRE_Match' objects}\n",
      "        2    0.000    0.000    0.000    0.000 {method 'items' of 'dict' objects}\n",
      "        9    0.000    0.000    0.000    0.000 {method 'join' of 'bytes' objects}\n",
      "        6    0.000    0.000    0.000    0.000 {method 'join' of 'str' objects}\n",
      "       41    0.000    0.000    0.000    0.000 {method 'lower' of 'str' objects}\n",
      "        2    0.000    0.000    0.000    0.000 {method 'lstrip' of 'str' objects}\n",
      "        6    0.000    0.000    0.000    0.000 {method 'match' of '_sre.SRE_Pattern' objects}\n",
      "        4    0.000    0.000    0.000    0.000 {method 'partition' of 'str' objects}\n",
      "        1    0.000    0.000    0.000    0.000 {method 'pop' of 'list' objects}\n",
      "        3    0.000    0.000    0.000    0.000 {method 'popleft' of 'collections.deque' objects}\n",
      "        1    0.000    0.000    0.000    0.000 {method 'read' of '_io.BufferedReader' objects}\n",
      "        2    0.000    0.000    0.000    0.000 {method 'read' of '_io.StringIO' objects}\n",
      "        4    0.000    0.000    0.475    0.119 {method 'readline' of '_io.BufferedReader' objects}\n",
      "        2    0.000    0.000    0.000    0.000 {method 'readlines' of '_io._IOBase' objects}\n",
      "        3    0.475    0.158    0.475    0.158 {method 'recv_into' of '_socket.socket' objects}\n",
      "        1    0.000    0.000    0.000    0.000 {method 'replace' of 'str' objects}\n",
      "        1    0.000    0.000    0.000    0.000 {method 'rpartition' of 'str' objects}\n",
      "        2    0.000    0.000    0.000    0.000 {method 'rstrip' of 'str' objects}\n",
      "        6    0.000    0.000    0.000    0.000 {method 'search' of '_sre.SRE_Pattern' objects}\n",
      "        4    0.000    0.000    0.000    0.000 {method 'seek' of '_io.StringIO' objects}\n",
      "        1    0.000    0.000    0.000    0.000 {method 'sendall' of '_socket.socket' objects}\n",
      "        7    0.000    0.000    0.000    0.000 {method 'split' of 'str' objects}\n",
      "        8    0.000    0.000    0.000    0.000 {method 'startswith' of 'str' objects}\n",
      "       11    0.000    0.000    0.000    0.000 {method 'strip' of 'str' objects}\n",
      "        1    0.000    0.000    0.000    0.000 {method 'sub' of '_sre.SRE_Pattern' objects}\n",
      "        2    0.000    0.000    0.000    0.000 {method 'truncate' of '_io.StringIO' objects}\n",
      "        1    0.000    0.000    0.000    0.000 {method 'update' of 'dict' objects}\n",
      "        1    0.000    0.000    0.000    0.000 {method 'upper' of 'str' objects}\n",
      "        1    0.000    0.000    0.000    0.000 {method 'write' of '_io.StringIO' objects}\n",
      "\n",
      "\n"
     ]
    }
   ],
   "source": [
    "cProfile.run(\"game.driver.get_screenshot_as_png()\")"
   ]
  },
  {
   "cell_type": "markdown",
   "metadata": {},
   "source": [
    "The get_screenshot_as_png() function is too slow for being used in real time setting"
   ]
  },
  {
   "cell_type": "markdown",
   "metadata": {},
   "source": [
    "## Test with a headless browser"
   ]
  },
  {
   "cell_type": "code",
   "execution_count": 24,
   "metadata": {
    "ExecuteTime": {
     "end_time": "2018-01-15T21:38:49.237502Z",
     "start_time": "2018-01-15T21:38:49.092502Z"
    }
   },
   "outputs": [],
   "source": [
    "import os  \n",
    "from selenium import webdriver  \n",
    "from selenium.webdriver.common.keys import Keys  \n",
    "from selenium.webdriver.chrome.options import Options"
   ]
  },
  {
   "cell_type": "code",
   "execution_count": 25,
   "metadata": {
    "ExecuteTime": {
     "end_time": "2018-01-15T21:38:49.781502Z",
     "start_time": "2018-01-15T21:38:49.625502Z"
    }
   },
   "outputs": [],
   "source": [
    "chrome_options = Options()  \n",
    "chrome_options.add_argument(\"--headless\")  "
   ]
  },
  {
   "cell_type": "code",
   "execution_count": 26,
   "metadata": {
    "ExecuteTime": {
     "end_time": "2018-01-15T21:38:53.890502Z",
     "start_time": "2018-01-15T21:38:52.009502Z"
    }
   },
   "outputs": [],
   "source": [
    "driver = webdriver.Chrome(\"C:/git/chromedriver.exe\",chrome_options=chrome_options)"
   ]
  },
  {
   "cell_type": "code",
   "execution_count": 28,
   "metadata": {
    "ExecuteTime": {
     "end_time": "2018-01-15T21:39:14.003502Z",
     "start_time": "2018-01-15T21:39:13.197502Z"
    }
   },
   "outputs": [],
   "source": [
    "driver.get(\"chrome://dino\")"
   ]
  },
  {
   "cell_type": "code",
   "execution_count": 20,
   "metadata": {
    "ExecuteTime": {
     "end_time": "2018-01-15T21:30:07.924502Z",
     "start_time": "2018-01-15T21:30:07.455502Z"
    }
   },
   "outputs": [],
   "source": [
    "from io import BytesIO\n",
    "x = Image.open(BytesIO(driver.get_screenshot_as_png()))"
   ]
  },
  {
   "cell_type": "code",
   "execution_count": 22,
   "metadata": {
    "ExecuteTime": {
     "end_time": "2018-01-15T21:33:28.914502Z",
     "start_time": "2018-01-15T21:33:28.697502Z"
    }
   },
   "outputs": [
    {
     "data": {
      "text/plain": [
       "(800, 600)"
      ]
     },
     "execution_count": 22,
     "metadata": {},
     "output_type": "execute_result"
    }
   ],
   "source": [
    "x.size"
   ]
  },
  {
   "cell_type": "markdown",
   "metadata": {},
   "source": [
    "# Changing the model with direct input"
   ]
  },
  {
   "cell_type": "markdown",
   "metadata": {},
   "source": [
    "## Preparing the inputs"
   ]
  },
  {
   "cell_type": "code",
   "execution_count": 76,
   "metadata": {
    "ExecuteTime": {
     "end_time": "2018-01-24T23:13:43.515204Z",
     "start_time": "2018-01-24T23:13:43.090204Z"
    }
   },
   "outputs": [],
   "source": [
    "from dino import LogReg,Net"
   ]
  },
  {
   "cell_type": "code",
   "execution_count": 8,
   "metadata": {
    "ExecuteTime": {
     "end_time": "2018-01-24T22:59:25.223204Z",
     "start_time": "2018-01-24T22:59:21.059204Z"
    }
   },
   "outputs": [],
   "source": [
    "game = DinoGame()"
   ]
  },
  {
   "cell_type": "code",
   "execution_count": 9,
   "metadata": {
    "ExecuteTime": {
     "end_time": "2018-01-24T23:00:10.138204Z",
     "start_time": "2018-01-24T23:00:09.500204Z"
    }
   },
   "outputs": [],
   "source": [
    "imgs,xs = game.grab_game()"
   ]
  },
  {
   "cell_type": "code",
   "execution_count": 12,
   "metadata": {
    "ExecuteTime": {
     "end_time": "2018-01-24T23:00:37.492204Z",
     "start_time": "2018-01-24T23:00:37.021204Z"
    }
   },
   "outputs": [
    {
     "data": {
      "image/png": "[encoded data removed]",
      "text/plain": [
       "<PIL.Image.Image image mode=RGB size=830x250 at 0xA4AAB38>"
      ]
     },
     "execution_count": 12,
     "metadata": {},
     "output_type": "execute_result"
    }
   ],
   "source": [
    "Image.fromarray(imgs[\"raw\"])"
   ]
  },
  {
   "cell_type": "code",
   "execution_count": 13,
   "metadata": {
    "ExecuteTime": {
     "end_time": "2018-01-24T23:00:46.938204Z",
     "start_time": "2018-01-24T23:00:46.639204Z"
    }
   },
   "outputs": [
    {
     "data": {
      "image/png": "[encoded data removed]",
      "text/plain": [
       "<PIL.Image.Image image mode=RGB size=830x250 at 0xA4AAB00>"
      ]
     },
     "execution_count": 13,
     "metadata": {},
     "output_type": "execute_result"
    }
   ],
   "source": [
    "Image.fromarray(imgs[\"contours\"])"
   ]
  },
  {
   "cell_type": "code",
   "execution_count": 55,
   "metadata": {
    "ExecuteTime": {
     "end_time": "2018-01-24T23:10:18.173204Z",
     "start_time": "2018-01-24T23:10:17.799204Z"
    }
   },
   "outputs": [
    {
     "data": {
      "text/plain": [
       "[271, 379]"
      ]
     },
     "execution_count": 55,
     "metadata": {},
     "output_type": "execute_result"
    }
   ],
   "source": [
    "xs "
   ]
  },
  {
   "cell_type": "code",
   "execution_count": 56,
   "metadata": {
    "ExecuteTime": {
     "end_time": "2018-01-24T23:10:21.061204Z",
     "start_time": "2018-01-24T23:10:20.644204Z"
    }
   },
   "outputs": [],
   "source": [
    "xs = [271,379]"
   ]
  },
  {
   "cell_type": "code",
   "execution_count": 57,
   "metadata": {
    "ExecuteTime": {
     "end_time": "2018-01-24T23:10:21.456204Z",
     "start_time": "2018-01-24T23:10:21.063204Z"
    }
   },
   "outputs": [
    {
     "data": {
      "text/plain": [
       "array([[ 0.38714286,  0.54142857]])"
      ]
     },
     "execution_count": 57,
     "metadata": {},
     "output_type": "execute_result"
    }
   ],
   "source": [
    "xs = np.divide(np.array(xs),700)\n",
    "xs = np.expand_dims(xs,axis = 1).T\n",
    "xs"
   ]
  },
  {
   "cell_type": "code",
   "execution_count": 58,
   "metadata": {
    "ExecuteTime": {
     "end_time": "2018-01-24T23:10:21.949204Z",
     "start_time": "2018-01-24T23:10:21.459204Z"
    }
   },
   "outputs": [
    {
     "data": {
      "text/plain": [
       "Variable containing:\n",
       " 0.3871  0.5414\n",
       "[torch.FloatTensor of size 1x2]"
      ]
     },
     "execution_count": 58,
     "metadata": {},
     "output_type": "execute_result"
    }
   ],
   "source": [
    "xs = Variable(torch.FloatTensor(xs))\n",
    "xs"
   ]
  },
  {
   "cell_type": "markdown",
   "metadata": {
    "ExecuteTime": {
     "end_time": "2018-01-24T23:03:13.082204Z",
     "start_time": "2018-01-24T23:03:12.648204Z"
    }
   },
   "source": [
    "##### Test in NN/LogReg"
   ]
  },
  {
   "cell_type": "code",
   "execution_count": 80,
   "metadata": {
    "ExecuteTime": {
     "end_time": "2018-01-24T23:14:11.121204Z",
     "start_time": "2018-01-24T23:14:10.726204Z"
    }
   },
   "outputs": [
    {
     "data": {
      "text/plain": [
       "Variable containing:\n",
       " 0.3950\n",
       "[torch.FloatTensor of size 1x1]"
      ]
     },
     "execution_count": 80,
     "metadata": {},
     "output_type": "execute_result"
    }
   ],
   "source": [
    "net = Net(n_feature=2,n_output=1,n_hidden=50)\n",
    "net.forward(xs)"
   ]
  },
  {
   "cell_type": "code",
   "execution_count": 81,
   "metadata": {
    "ExecuteTime": {
     "end_time": "2018-01-24T23:14:11.709204Z",
     "start_time": "2018-01-24T23:14:11.245204Z"
    }
   },
   "outputs": [
    {
     "data": {
      "text/plain": [
       "Variable containing:\n",
       " 0.3950\n",
       "[torch.FloatTensor of size 1x1]"
      ]
     },
     "execution_count": 81,
     "metadata": {},
     "output_type": "execute_result"
    }
   ],
   "source": [
    "net.forward(xs)"
   ]
  },
  {
   "cell_type": "code",
   "execution_count": 46,
   "metadata": {
    "ExecuteTime": {
     "end_time": "2018-01-24T23:07:24.474204Z",
     "start_time": "2018-01-24T23:07:24.084204Z"
    }
   },
   "outputs": [],
   "source": [
    "lr = LogReg(n_feature=2,n_output=1)"
   ]
  },
  {
   "cell_type": "code",
   "execution_count": 47,
   "metadata": {
    "ExecuteTime": {
     "end_time": "2018-01-24T23:09:44.571204Z",
     "start_time": "2018-01-24T23:09:44.237204Z"
    }
   },
   "outputs": [
    {
     "data": {
      "text/plain": [
       "Variable containing:\n",
       " 0.3952\n",
       "[torch.FloatTensor of size 1x1]"
      ]
     },
     "execution_count": 47,
     "metadata": {},
     "output_type": "execute_result"
    }
   ],
   "source": [
    "lr.forward(xs)"
   ]
  },
  {
   "cell_type": "markdown",
   "metadata": {},
   "source": [
    "## Running the game"
   ]
  },
  {
   "cell_type": "code",
   "execution_count": 1,
   "metadata": {
    "ExecuteTime": {
     "end_time": "2018-01-30T08:50:36.138000Z",
     "start_time": "2018-01-30T08:50:32.802000Z"
    }
   },
   "outputs": [],
   "source": [
    "import dino"
   ]
  },
  {
   "cell_type": "code",
   "execution_count": 3,
   "metadata": {
    "ExecuteTime": {
     "end_time": "2018-01-30T08:51:39.891000Z",
     "start_time": "2018-01-30T08:51:35.358000Z"
    }
   },
   "outputs": [],
   "source": [
    "game = dino.DinoGame()"
   ]
  },
  {
   "cell_type": "code",
   "execution_count": 24,
   "metadata": {
    "ExecuteTime": {
     "end_time": "2018-01-29T18:36:09.699522Z",
     "start_time": "2018-01-29T12:29:59.865522Z"
    }
   },
   "outputs": [
    {
     "name": "stderr",
     "output_type": "stream",
     "text": [
      "100%|██████████████████████████████████████████| 50/50 [05:22<00:00,  6.45s/it]\n"
     ]
    },
    {
     "name": "stdout",
     "output_type": "stream",
     "text": [
      "Generation 0 : mean 53 - std 10 - max 91 - min 46\n"
     ]
    },
    {
     "name": "stderr",
     "output_type": "stream",
     "text": [
      "100%|██████████████████████████████████████████| 50/50 [05:20<00:00,  6.40s/it]\n"
     ]
    },
    {
     "name": "stdout",
     "output_type": "stream",
     "text": [
      "Generation 1 : mean 52 - std 7 - max 78 - min 46\n"
     ]
    },
    {
     "name": "stderr",
     "output_type": "stream",
     "text": [
      "100%|██████████████████████████████████████████| 50/50 [05:52<00:00,  7.05s/it]\n"
     ]
    },
    {
     "name": "stdout",
     "output_type": "stream",
     "text": [
      "Generation 2 : mean 59 - std 35 - max 294 - min 27\n"
     ]
    },
    {
     "name": "stderr",
     "output_type": "stream",
     "text": [
      "100%|██████████████████████████████████████████| 50/50 [05:17<00:00,  6.35s/it]\n"
     ]
    },
    {
     "name": "stdout",
     "output_type": "stream",
     "text": [
      "Generation 3 : mean 52 - std 12 - max 110 - min 20\n"
     ]
    },
    {
     "name": "stderr",
     "output_type": "stream",
     "text": [
      "100%|██████████████████████████████████████████| 50/50 [05:33<00:00,  6.67s/it]\n"
     ]
    },
    {
     "name": "stdout",
     "output_type": "stream",
     "text": [
      "Generation 4 : mean 55 - std 16 - max 132 - min 26\n"
     ]
    },
    {
     "name": "stderr",
     "output_type": "stream",
     "text": [
      "100%|██████████████████████████████████████████| 50/50 [05:38<00:00,  6.77s/it]\n"
     ]
    },
    {
     "name": "stdout",
     "output_type": "stream",
     "text": [
      "Generation 5 : mean 56 - std 11 - max 97 - min 46\n"
     ]
    },
    {
     "name": "stderr",
     "output_type": "stream",
     "text": [
      "100%|██████████████████████████████████████████| 50/50 [05:28<00:00,  6.57s/it]\n"
     ]
    },
    {
     "name": "stdout",
     "output_type": "stream",
     "text": [
      "Generation 6 : mean 54 - std 16 - max 131 - min 46\n"
     ]
    },
    {
     "name": "stderr",
     "output_type": "stream",
     "text": [
      "100%|██████████████████████████████████████████| 50/50 [05:26<00:00,  6.53s/it]\n"
     ]
    },
    {
     "name": "stdout",
     "output_type": "stream",
     "text": [
      "Generation 7 : mean 53 - std 12 - max 102 - min 46\n"
     ]
    },
    {
     "name": "stderr",
     "output_type": "stream",
     "text": [
      "100%|██████████████████████████████████████████| 50/50 [06:25<00:00,  7.71s/it]\n"
     ]
    },
    {
     "name": "stdout",
     "output_type": "stream",
     "text": [
      "Generation 8 : mean 65 - std 63 - max 498 - min 46\n"
     ]
    },
    {
     "name": "stderr",
     "output_type": "stream",
     "text": [
      "100%|██████████████████████████████████████████| 50/50 [05:50<00:00,  7.00s/it]\n"
     ]
    },
    {
     "name": "stdout",
     "output_type": "stream",
     "text": [
      "Generation 9 : mean 58 - std 15 - max 115 - min 46\n"
     ]
    },
    {
     "name": "stderr",
     "output_type": "stream",
     "text": [
      "100%|██████████████████████████████████████████| 50/50 [05:35<00:00,  6.71s/it]\n"
     ]
    },
    {
     "name": "stdout",
     "output_type": "stream",
     "text": [
      "Generation 10 : mean 55 - std 14 - max 107 - min 46\n"
     ]
    },
    {
     "name": "stderr",
     "output_type": "stream",
     "text": [
      "100%|██████████████████████████████████████████| 50/50 [05:46<00:00,  6.93s/it]\n"
     ]
    },
    {
     "name": "stdout",
     "output_type": "stream",
     "text": [
      "Generation 11 : mean 57 - std 17 - max 121 - min 46\n"
     ]
    },
    {
     "name": "stderr",
     "output_type": "stream",
     "text": [
      "100%|██████████████████████████████████████████| 50/50 [05:43<00:00,  6.87s/it]\n"
     ]
    },
    {
     "name": "stdout",
     "output_type": "stream",
     "text": [
      "Generation 12 : mean 57 - std 15 - max 109 - min 47\n"
     ]
    },
    {
     "name": "stderr",
     "output_type": "stream",
     "text": [
      "100%|██████████████████████████████████████████| 50/50 [05:36<00:00,  6.73s/it]\n"
     ]
    },
    {
     "name": "stdout",
     "output_type": "stream",
     "text": [
      "Generation 13 : mean 55 - std 16 - max 124 - min 47\n"
     ]
    },
    {
     "name": "stderr",
     "output_type": "stream",
     "text": [
      "100%|██████████████████████████████████████████| 50/50 [06:06<00:00,  7.33s/it]\n"
     ]
    },
    {
     "name": "stdout",
     "output_type": "stream",
     "text": [
      "Generation 14 : mean 61 - std 21 - max 134 - min 47\n"
     ]
    },
    {
     "name": "stderr",
     "output_type": "stream",
     "text": [
      "100%|██████████████████████████████████████████| 50/50 [05:47<00:00,  6.95s/it]\n"
     ]
    },
    {
     "name": "stdout",
     "output_type": "stream",
     "text": [
      "Generation 15 : mean 57 - std 11 - max 97 - min 46\n"
     ]
    },
    {
     "name": "stderr",
     "output_type": "stream",
     "text": [
      "100%|██████████████████████████████████████████| 50/50 [05:30<00:00,  6.61s/it]\n"
     ]
    },
    {
     "name": "stdout",
     "output_type": "stream",
     "text": [
      "Generation 16 : mean 54 - std 10 - max 79 - min 46\n"
     ]
    },
    {
     "name": "stderr",
     "output_type": "stream",
     "text": [
      "100%|██████████████████████████████████████████| 50/50 [05:31<00:00,  6.64s/it]\n"
     ]
    },
    {
     "name": "stdout",
     "output_type": "stream",
     "text": [
      "Generation 17 : mean 54 - std 12 - max 96 - min 47\n"
     ]
    },
    {
     "name": "stderr",
     "output_type": "stream",
     "text": [
      "100%|██████████████████████████████████████████| 50/50 [05:57<00:00,  7.14s/it]\n"
     ]
    },
    {
     "name": "stdout",
     "output_type": "stream",
     "text": [
      "Generation 18 : mean 60 - std 15 - max 104 - min 47\n"
     ]
    },
    {
     "name": "stderr",
     "output_type": "stream",
     "text": [
      "100%|██████████████████████████████████████████| 50/50 [05:35<00:00,  6.72s/it]\n"
     ]
    },
    {
     "name": "stdout",
     "output_type": "stream",
     "text": [
      "Generation 19 : mean 55 - std 13 - max 104 - min 46\n"
     ]
    },
    {
     "name": "stderr",
     "output_type": "stream",
     "text": [
      "100%|██████████████████████████████████████████| 50/50 [05:39<00:00,  6.80s/it]\n"
     ]
    },
    {
     "name": "stdout",
     "output_type": "stream",
     "text": [
      "Generation 20 : mean 56 - std 13 - max 91 - min 47\n"
     ]
    },
    {
     "name": "stderr",
     "output_type": "stream",
     "text": [
      "100%|██████████████████████████████████████████| 50/50 [05:41<00:00,  6.84s/it]\n"
     ]
    },
    {
     "name": "stdout",
     "output_type": "stream",
     "text": [
      "Generation 21 : mean 57 - std 15 - max 96 - min 47\n"
     ]
    },
    {
     "name": "stderr",
     "output_type": "stream",
     "text": [
      "100%|██████████████████████████████████████████| 50/50 [05:32<00:00,  6.64s/it]\n"
     ]
    },
    {
     "name": "stdout",
     "output_type": "stream",
     "text": [
      "Generation 22 : mean 54 - std 12 - max 103 - min 47\n"
     ]
    },
    {
     "name": "stderr",
     "output_type": "stream",
     "text": [
      "100%|██████████████████████████████████████████| 50/50 [05:19<00:00,  6.38s/it]\n"
     ]
    },
    {
     "name": "stdout",
     "output_type": "stream",
     "text": [
      "Generation 23 : mean 52 - std 9 - max 85 - min 47\n"
     ]
    },
    {
     "name": "stderr",
     "output_type": "stream",
     "text": [
      "100%|██████████████████████████████████████████| 50/50 [05:31<00:00,  6.63s/it]\n"
     ]
    },
    {
     "name": "stdout",
     "output_type": "stream",
     "text": [
      "Generation 24 : mean 55 - std 10 - max 97 - min 47\n"
     ]
    },
    {
     "name": "stderr",
     "output_type": "stream",
     "text": [
      "100%|██████████████████████████████████████████| 50/50 [06:02<00:00,  7.26s/it]\n"
     ]
    },
    {
     "name": "stdout",
     "output_type": "stream",
     "text": [
      "Generation 25 : mean 61 - std 17 - max 135 - min 46\n"
     ]
    },
    {
     "name": "stderr",
     "output_type": "stream",
     "text": [
      "100%|██████████████████████████████████████████| 50/50 [05:39<00:00,  6.79s/it]\n"
     ]
    },
    {
     "name": "stdout",
     "output_type": "stream",
     "text": [
      "Generation 26 : mean 56 - std 15 - max 115 - min 46\n"
     ]
    },
    {
     "name": "stderr",
     "output_type": "stream",
     "text": [
      "100%|██████████████████████████████████████████| 50/50 [05:34<00:00,  6.70s/it]\n"
     ]
    },
    {
     "name": "stdout",
     "output_type": "stream",
     "text": [
      "Generation 27 : mean 55 - std 12 - max 91 - min 47\n"
     ]
    },
    {
     "name": "stderr",
     "output_type": "stream",
     "text": [
      "100%|██████████████████████████████████████████| 50/50 [05:32<00:00,  6.66s/it]\n"
     ]
    },
    {
     "name": "stdout",
     "output_type": "stream",
     "text": [
      "Generation 28 : mean 55 - std 13 - max 103 - min 46\n"
     ]
    },
    {
     "name": "stderr",
     "output_type": "stream",
     "text": [
      "100%|██████████████████████████████████████████| 50/50 [05:54<00:00,  7.08s/it]\n"
     ]
    },
    {
     "name": "stdout",
     "output_type": "stream",
     "text": [
      "Generation 29 : mean 59 - std 15 - max 103 - min 47\n"
     ]
    },
    {
     "name": "stderr",
     "output_type": "stream",
     "text": [
      "100%|██████████████████████████████████████████| 50/50 [05:35<00:00,  6.71s/it]\n"
     ]
    },
    {
     "name": "stdout",
     "output_type": "stream",
     "text": [
      "Generation 30 : mean 55 - std 14 - max 134 - min 47\n"
     ]
    },
    {
     "name": "stderr",
     "output_type": "stream",
     "text": [
      "100%|██████████████████████████████████████████| 50/50 [05:48<00:00,  6.97s/it]\n"
     ]
    },
    {
     "name": "stdout",
     "output_type": "stream",
     "text": [
      "Generation 31 : mean 58 - std 17 - max 127 - min 47\n"
     ]
    },
    {
     "name": "stderr",
     "output_type": "stream",
     "text": [
      "100%|██████████████████████████████████████████| 50/50 [05:58<00:00,  7.18s/it]\n"
     ]
    },
    {
     "name": "stdout",
     "output_type": "stream",
     "text": [
      "Generation 32 : mean 60 - std 17 - max 110 - min 47\n"
     ]
    },
    {
     "name": "stderr",
     "output_type": "stream",
     "text": [
      "100%|██████████████████████████████████████████| 50/50 [05:44<00:00,  6.90s/it]\n"
     ]
    },
    {
     "name": "stdout",
     "output_type": "stream",
     "text": [
      "Generation 33 : mean 57 - std 13 - max 111 - min 47\n"
     ]
    },
    {
     "name": "stderr",
     "output_type": "stream",
     "text": [
      "100%|██████████████████████████████████████████| 50/50 [05:24<00:00,  6.49s/it]\n"
     ]
    },
    {
     "name": "stdout",
     "output_type": "stream",
     "text": [
      "Generation 34 : mean 53 - std 9 - max 85 - min 46\n"
     ]
    },
    {
     "name": "stderr",
     "output_type": "stream",
     "text": [
      "100%|██████████████████████████████████████████| 50/50 [06:02<00:00,  7.25s/it]\n"
     ]
    },
    {
     "name": "stdout",
     "output_type": "stream",
     "text": [
      "Generation 35 : mean 61 - std 31 - max 264 - min 47\n"
     ]
    },
    {
     "name": "stderr",
     "output_type": "stream",
     "text": [
      "100%|██████████████████████████████████████████| 50/50 [05:39<00:00,  6.78s/it]\n"
     ]
    },
    {
     "name": "stdout",
     "output_type": "stream",
     "text": [
      "Generation 36 : mean 56 - std 14 - max 127 - min 46\n"
     ]
    },
    {
     "name": "stderr",
     "output_type": "stream",
     "text": [
      "100%|██████████████████████████████████████████| 50/50 [05:39<00:00,  6.79s/it]\n"
     ]
    },
    {
     "name": "stdout",
     "output_type": "stream",
     "text": [
      "Generation 37 : mean 56 - std 15 - max 125 - min 47\n"
     ]
    },
    {
     "name": "stderr",
     "output_type": "stream",
     "text": [
      "100%|██████████████████████████████████████████| 50/50 [05:48<00:00,  6.97s/it]\n"
     ]
    },
    {
     "name": "stdout",
     "output_type": "stream",
     "text": [
      "Generation 38 : mean 58 - std 12 - max 99 - min 35\n"
     ]
    },
    {
     "name": "stderr",
     "output_type": "stream",
     "text": [
      "100%|██████████████████████████████████████████| 50/50 [06:07<00:00,  7.35s/it]\n"
     ]
    },
    {
     "name": "stdout",
     "output_type": "stream",
     "text": [
      "Generation 39 : mean 62 - std 16 - max 102 - min 47\n"
     ]
    },
    {
     "name": "stderr",
     "output_type": "stream",
     "text": [
      "100%|██████████████████████████████████████████| 50/50 [05:48<00:00,  6.97s/it]\n"
     ]
    },
    {
     "name": "stdout",
     "output_type": "stream",
     "text": [
      "Generation 40 : mean 58 - std 14 - max 109 - min 43\n"
     ]
    },
    {
     "name": "stderr",
     "output_type": "stream",
     "text": [
      "100%|██████████████████████████████████████████| 50/50 [06:00<00:00,  7.21s/it]\n"
     ]
    },
    {
     "name": "stdout",
     "output_type": "stream",
     "text": [
      "Generation 41 : mean 60 - std 22 - max 160 - min 46\n"
     ]
    },
    {
     "name": "stderr",
     "output_type": "stream",
     "text": [
      "100%|██████████████████████████████████████████| 50/50 [05:32<00:00,  6.65s/it]\n"
     ]
    },
    {
     "name": "stdout",
     "output_type": "stream",
     "text": [
      "Generation 42 : mean 55 - std 11 - max 90 - min 46\n"
     ]
    },
    {
     "name": "stderr",
     "output_type": "stream",
     "text": [
      "100%|██████████████████████████████████████████| 50/50 [05:34<00:00,  6.70s/it]\n"
     ]
    },
    {
     "name": "stdout",
     "output_type": "stream",
     "text": [
      "Generation 43 : mean 55 - std 13 - max 126 - min 47\n"
     ]
    },
    {
     "name": "stderr",
     "output_type": "stream",
     "text": [
      "100%|██████████████████████████████████████████| 50/50 [05:45<00:00,  6.90s/it]\n"
     ]
    },
    {
     "name": "stdout",
     "output_type": "stream",
     "text": [
      "Generation 44 : mean 57 - std 14 - max 110 - min 47\n"
     ]
    },
    {
     "name": "stderr",
     "output_type": "stream",
     "text": [
      "100%|██████████████████████████████████████████| 50/50 [05:48<00:00,  6.96s/it]\n"
     ]
    },
    {
     "name": "stdout",
     "output_type": "stream",
     "text": [
      "Generation 45 : mean 58 - std 19 - max 161 - min 47\n"
     ]
    },
    {
     "name": "stderr",
     "output_type": "stream",
     "text": [
      "100%|██████████████████████████████████████████| 50/50 [05:44<00:00,  6.89s/it]\n"
     ]
    },
    {
     "name": "stdout",
     "output_type": "stream",
     "text": [
      "Generation 46 : mean 57 - std 11 - max 95 - min 46\n"
     ]
    },
    {
     "name": "stderr",
     "output_type": "stream",
     "text": [
      "100%|██████████████████████████████████████████| 50/50 [05:51<00:00,  7.03s/it]\n"
     ]
    },
    {
     "name": "stdout",
     "output_type": "stream",
     "text": [
      "Generation 47 : mean 58 - std 17 - max 135 - min 47\n"
     ]
    },
    {
     "name": "stderr",
     "output_type": "stream",
     "text": [
      "100%|██████████████████████████████████████████| 50/50 [05:44<00:00,  6.90s/it]\n"
     ]
    },
    {
     "name": "stdout",
     "output_type": "stream",
     "text": [
      "Generation 48 : mean 57 - std 14 - max 100 - min 46\n"
     ]
    },
    {
     "name": "stderr",
     "output_type": "stream",
     "text": [
      "100%|██████████████████████████████████████████| 50/50 [05:37<00:00,  6.75s/it]\n"
     ]
    },
    {
     "name": "stdout",
     "output_type": "stream",
     "text": [
      "Generation 49 : mean 56 - std 15 - max 121 - min 46\n"
     ]
    },
    {
     "name": "stderr",
     "output_type": "stream",
     "text": [
      "100%|██████████████████████████████████████████| 50/50 [05:55<00:00,  7.10s/it]\n"
     ]
    },
    {
     "name": "stdout",
     "output_type": "stream",
     "text": [
      "Generation 50 : mean 59 - std 20 - max 122 - min 46\n"
     ]
    },
    {
     "name": "stderr",
     "output_type": "stream",
     "text": [
      "100%|██████████████████████████████████████████| 50/50 [05:42<00:00,  6.85s/it]\n"
     ]
    },
    {
     "name": "stdout",
     "output_type": "stream",
     "text": [
      "Generation 51 : mean 57 - std 17 - max 130 - min 47\n"
     ]
    },
    {
     "name": "stderr",
     "output_type": "stream",
     "text": [
      "100%|██████████████████████████████████████████| 50/50 [05:52<00:00,  7.05s/it]\n"
     ]
    },
    {
     "name": "stdout",
     "output_type": "stream",
     "text": [
      "Generation 52 : mean 59 - std 14 - max 100 - min 46\n"
     ]
    },
    {
     "name": "stderr",
     "output_type": "stream",
     "text": [
      "100%|██████████████████████████████████████████| 50/50 [05:41<00:00,  6.84s/it]\n"
     ]
    },
    {
     "name": "stdout",
     "output_type": "stream",
     "text": [
      "Generation 53 : mean 57 - std 12 - max 91 - min 46\n"
     ]
    },
    {
     "name": "stderr",
     "output_type": "stream",
     "text": [
      "100%|██████████████████████████████████████████| 50/50 [05:43<00:00,  6.87s/it]\n"
     ]
    },
    {
     "name": "stdout",
     "output_type": "stream",
     "text": [
      "Generation 54 : mean 57 - std 12 - max 83 - min 46\n"
     ]
    },
    {
     "name": "stderr",
     "output_type": "stream",
     "text": [
      "100%|██████████████████████████████████████████| 50/50 [06:06<00:00,  7.33s/it]\n"
     ]
    },
    {
     "name": "stdout",
     "output_type": "stream",
     "text": [
      "Generation 55 : mean 61 - std 18 - max 151 - min 46\n"
     ]
    },
    {
     "name": "stderr",
     "output_type": "stream",
     "text": [
      "100%|██████████████████████████████████████████| 50/50 [06:13<00:00,  7.46s/it]\n"
     ]
    },
    {
     "name": "stdout",
     "output_type": "stream",
     "text": [
      "Generation 56 : mean 63 - std 27 - max 221 - min 47\n"
     ]
    },
    {
     "name": "stderr",
     "output_type": "stream",
     "text": [
      "100%|██████████████████████████████████████████| 50/50 [05:52<00:00,  7.06s/it]\n"
     ]
    },
    {
     "name": "stdout",
     "output_type": "stream",
     "text": [
      "Generation 57 : mean 59 - std 14 - max 102 - min 47\n"
     ]
    },
    {
     "name": "stderr",
     "output_type": "stream",
     "text": [
      "100%|██████████████████████████████████████████| 50/50 [05:27<00:00,  6.54s/it]\n"
     ]
    },
    {
     "name": "stdout",
     "output_type": "stream",
     "text": [
      "Generation 58 : mean 54 - std 9 - max 84 - min 47\n"
     ]
    },
    {
     "name": "stderr",
     "output_type": "stream",
     "text": [
      "100%|██████████████████████████████████████████| 50/50 [05:43<00:00,  6.86s/it]\n"
     ]
    },
    {
     "name": "stdout",
     "output_type": "stream",
     "text": [
      "Generation 59 : mean 57 - std 15 - max 100 - min 20\n"
     ]
    },
    {
     "name": "stderr",
     "output_type": "stream",
     "text": [
      "100%|██████████████████████████████████████████| 50/50 [05:44<00:00,  6.88s/it]\n"
     ]
    },
    {
     "name": "stdout",
     "output_type": "stream",
     "text": [
      "Generation 60 : mean 57 - std 20 - max 152 - min 20\n"
     ]
    },
    {
     "name": "stderr",
     "output_type": "stream",
     "text": [
      "100%|██████████████████████████████████████████| 50/50 [06:01<00:00,  7.24s/it]\n"
     ]
    },
    {
     "name": "stdout",
     "output_type": "stream",
     "text": [
      "Generation 61 : mean 60 - std 21 - max 155 - min 47\n"
     ]
    },
    {
     "name": "stderr",
     "output_type": "stream",
     "text": [
      "100%|██████████████████████████████████████████| 50/50 [06:59<00:00,  8.40s/it]\n"
     ]
    },
    {
     "name": "stdout",
     "output_type": "stream",
     "text": [
      "Generation 62 : mean 72 - std 78 - max 598 - min 46\n"
     ]
    },
    {
     "name": "stderr",
     "output_type": "stream",
     "text": [
      " 60%|█████████████████████████▏                | 30/50 [03:44<02:29,  7.50s/it]"
     ]
    },
    {
     "ename": "KeyboardInterrupt",
     "evalue": "",
     "output_type": "error",
     "traceback": [
      "\u001b[1;31m---------------------------------------------------------------------------\u001b[0m",
      "\u001b[1;31mKeyboardInterrupt\u001b[0m                         Traceback (most recent call last)",
      "\u001b[1;32m<ipython-input-24-5f3719c2bc36>\u001b[0m in \u001b[0;36m<module>\u001b[1;34m()\u001b[0m\n\u001b[1;32m----> 1\u001b[1;33m \u001b[0mx\u001b[0m \u001b[1;33m=\u001b[0m \u001b[0mgame\u001b[0m\u001b[1;33m.\u001b[0m\u001b[0mrun_game\u001b[0m\u001b[1;33m(\u001b[0m\u001b[0mmethod\u001b[0m\u001b[1;33m=\u001b[0m\u001b[1;34m\"direct\"\u001b[0m\u001b[1;33m,\u001b[0m\u001b[0mn_generations\u001b[0m\u001b[1;33m=\u001b[0m\u001b[1;36m100\u001b[0m\u001b[1;33m,\u001b[0m\u001b[0mn\u001b[0m\u001b[1;33m=\u001b[0m\u001b[1;36m50\u001b[0m\u001b[1;33m,\u001b[0m\u001b[0mn_obstacles\u001b[0m\u001b[1;33m=\u001b[0m\u001b[1;36m2\u001b[0m\u001b[1;33m,\u001b[0m\u001b[0mrender\u001b[0m \u001b[1;33m=\u001b[0m \u001b[1;34m\"contours\"\u001b[0m\u001b[1;33m)\u001b[0m\u001b[1;33m\u001b[0m\u001b[0m\n\u001b[0m",
      "\u001b[1;32mC:\\git\\reinforcement-learning\\4. Chrome Dino\\dino.py\u001b[0m in \u001b[0;36mrun_game\u001b[1;34m(self, n, n_generations, top, render, method, n_obstacles)\u001b[0m\n\u001b[0;32m    194\u001b[0m         \u001b[0mall_scores\u001b[0m \u001b[1;33m=\u001b[0m \u001b[1;33m[\u001b[0m\u001b[1;33m]\u001b[0m\u001b[1;33m\u001b[0m\u001b[0m\n\u001b[0;32m    195\u001b[0m         \u001b[1;32mfor\u001b[0m \u001b[0mi\u001b[0m \u001b[1;32min\u001b[0m \u001b[0mrange\u001b[0m\u001b[1;33m(\u001b[0m\u001b[0mn_generations\u001b[0m\u001b[1;33m)\u001b[0m\u001b[1;33m:\u001b[0m\u001b[1;33m\u001b[0m\u001b[0m\n\u001b[1;32m--> 196\u001b[1;33m             \u001b[0mscores\u001b[0m\u001b[1;33m,\u001b[0m\u001b[0mpopulation\u001b[0m \u001b[1;33m=\u001b[0m \u001b[0mself\u001b[0m\u001b[1;33m.\u001b[0m\u001b[0mrun_generation\u001b[0m\u001b[1;33m(\u001b[0m\u001b[0mpopulation\u001b[0m\u001b[1;33m,\u001b[0m\u001b[0mn_generation\u001b[0m \u001b[1;33m=\u001b[0m \u001b[0mi\u001b[0m\u001b[1;33m,\u001b[0m\u001b[0mrender\u001b[0m \u001b[1;33m=\u001b[0m \u001b[0mrender\u001b[0m\u001b[1;33m)\u001b[0m\u001b[1;33m\u001b[0m\u001b[0m\n\u001b[0m\u001b[0;32m    197\u001b[0m             \u001b[0mall_scores\u001b[0m\u001b[1;33m.\u001b[0m\u001b[0mappend\u001b[0m\u001b[1;33m(\u001b[0m\u001b[0mscores\u001b[0m\u001b[1;33m)\u001b[0m\u001b[1;33m\u001b[0m\u001b[0m\n\u001b[0;32m    198\u001b[0m \u001b[1;33m\u001b[0m\u001b[0m\n",
      "\u001b[1;32mC:\\git\\reinforcement-learning\\4. Chrome Dino\\dino.py\u001b[0m in \u001b[0;36mrun_generation\u001b[1;34m(self, population, n_generation, **kwargs)\u001b[0m\n\u001b[0;32m    179\u001b[0m         \u001b[0mscores\u001b[0m \u001b[1;33m=\u001b[0m \u001b[1;33m[\u001b[0m\u001b[1;33m]\u001b[0m\u001b[1;33m\u001b[0m\u001b[0m\n\u001b[0;32m    180\u001b[0m         \u001b[1;32mfor\u001b[0m \u001b[0mdino\u001b[0m \u001b[1;32min\u001b[0m \u001b[0mtqdm\u001b[0m\u001b[1;33m(\u001b[0m\u001b[0mpopulation\u001b[0m\u001b[1;33m)\u001b[0m\u001b[1;33m:\u001b[0m\u001b[1;33m\u001b[0m\u001b[0m\n\u001b[1;32m--> 181\u001b[1;33m             \u001b[0mscore\u001b[0m \u001b[1;33m=\u001b[0m \u001b[0mself\u001b[0m\u001b[1;33m.\u001b[0m\u001b[0mrun_episode\u001b[0m\u001b[1;33m(\u001b[0m\u001b[0mdino\u001b[0m \u001b[1;33m=\u001b[0m \u001b[0mdino\u001b[0m\u001b[1;33m,\u001b[0m\u001b[1;33m**\u001b[0m\u001b[0mkwargs\u001b[0m\u001b[1;33m)\u001b[0m\u001b[1;33m\u001b[0m\u001b[0m\n\u001b[0m\u001b[0;32m    182\u001b[0m             \u001b[0mdino\u001b[0m\u001b[1;33m.\u001b[0m\u001b[0mset_score\u001b[0m\u001b[1;33m(\u001b[0m\u001b[0mscore\u001b[0m\u001b[1;33m)\u001b[0m\u001b[1;33m\u001b[0m\u001b[0m\n\u001b[0;32m    183\u001b[0m             \u001b[0mscores\u001b[0m\u001b[1;33m.\u001b[0m\u001b[0mappend\u001b[0m\u001b[1;33m(\u001b[0m\u001b[0mscore\u001b[0m\u001b[1;33m)\u001b[0m\u001b[1;33m\u001b[0m\u001b[0m\n",
      "\u001b[1;32mC:\\git\\reinforcement-learning\\4. Chrome Dino\\dino.py\u001b[0m in \u001b[0;36mrun_episode\u001b[1;34m(self, render, policy, dino, **kwargs)\u001b[0m\n\u001b[0;32m    154\u001b[0m \u001b[1;33m\u001b[0m\u001b[0m\n\u001b[0;32m    155\u001b[0m             \u001b[1;31m# Action\u001b[0m\u001b[1;33m\u001b[0m\u001b[1;33m\u001b[0m\u001b[0m\n\u001b[1;32m--> 156\u001b[1;33m             \u001b[0mprobas\u001b[0m \u001b[1;33m=\u001b[0m \u001b[0mself\u001b[0m\u001b[1;33m.\u001b[0m\u001b[0mact\u001b[0m\u001b[1;33m(\u001b[0m\u001b[0mimgs\u001b[0m\u001b[1;33m,\u001b[0m\u001b[0mxs\u001b[0m\u001b[1;33m,\u001b[0m\u001b[0mscore\u001b[0m\u001b[1;33m,\u001b[0m\u001b[0mpolicy\u001b[0m\u001b[1;33m,\u001b[0m\u001b[0mdino\u001b[0m\u001b[1;33m,\u001b[0m\u001b[1;33m**\u001b[0m\u001b[0mkwargs\u001b[0m\u001b[1;33m)\u001b[0m\u001b[1;33m\u001b[0m\u001b[0m\n\u001b[0m\u001b[0;32m    157\u001b[0m             \u001b[0mprobas\u001b[0m \u001b[1;33m=\u001b[0m \u001b[1;34m\"\"\u001b[0m \u001b[1;32mif\u001b[0m \u001b[0mprobas\u001b[0m \u001b[1;32mis\u001b[0m \u001b[1;32mNone\u001b[0m \u001b[1;32melse\u001b[0m \u001b[0mstr\u001b[0m\u001b[1;33m(\u001b[0m\u001b[0mround\u001b[0m\u001b[1;33m(\u001b[0m\u001b[0mprobas\u001b[0m\u001b[1;33m,\u001b[0m\u001b[1;36m2\u001b[0m\u001b[1;33m)\u001b[0m\u001b[1;33m)\u001b[0m\u001b[1;33m\u001b[0m\u001b[0m\n\u001b[0;32m    158\u001b[0m \u001b[1;33m\u001b[0m\u001b[0m\n",
      "\u001b[1;32mC:\\git\\reinforcement-learning\\4. Chrome Dino\\dino.py\u001b[0m in \u001b[0;36mact\u001b[1;34m(self, imgs, xs, score, policy, dino, **kwargs)\u001b[0m\n\u001b[0;32m    261\u001b[0m                 \u001b[0mxs\u001b[0m \u001b[1;33m=\u001b[0m \u001b[0mself\u001b[0m\u001b[1;33m.\u001b[0m\u001b[0mprepare_xs_direct\u001b[0m\u001b[1;33m(\u001b[0m\u001b[0mxs\u001b[0m\u001b[1;33m,\u001b[0m\u001b[0mn_obstacles\u001b[0m \u001b[1;33m=\u001b[0m \u001b[0mn_obstacles\u001b[0m\u001b[1;33m)\u001b[0m\u001b[1;33m\u001b[0m\u001b[0m\n\u001b[0;32m    262\u001b[0m                 \u001b[0maction\u001b[0m\u001b[1;33m,\u001b[0m\u001b[0mprobas\u001b[0m \u001b[1;33m=\u001b[0m \u001b[0mdino\u001b[0m\u001b[1;33m.\u001b[0m\u001b[0mact\u001b[0m\u001b[1;33m(\u001b[0m\u001b[0mxs\u001b[0m\u001b[1;33m)\u001b[0m\u001b[1;33m\u001b[0m\u001b[0m\n\u001b[1;32m--> 263\u001b[1;33m                 \u001b[0mself\u001b[0m\u001b[1;33m.\u001b[0m\u001b[0mmove\u001b[0m\u001b[1;33m(\u001b[0m\u001b[0maction\u001b[0m\u001b[1;33m)\u001b[0m\u001b[1;33m\u001b[0m\u001b[0m\n\u001b[0m\u001b[0;32m    264\u001b[0m                 \u001b[1;32mreturn\u001b[0m \u001b[0mprobas\u001b[0m\u001b[1;33m\u001b[0m\u001b[0m\n\u001b[0;32m    265\u001b[0m \u001b[1;33m\u001b[0m\u001b[0m\n",
      "\u001b[1;32mC:\\git\\reinforcement-learning\\4. Chrome Dino\\dino.py\u001b[0m in \u001b[0;36mmove\u001b[1;34m(self, action)\u001b[0m\n\u001b[0;32m     66\u001b[0m             \u001b[1;32mif\u001b[0m \u001b[0mself\u001b[0m\u001b[1;33m.\u001b[0m\u001b[0mselenium\u001b[0m\u001b[1;33m:\u001b[0m\u001b[1;33m\u001b[0m\u001b[0m\n\u001b[0;32m     67\u001b[0m                 \u001b[1;32mif\u001b[0m \u001b[0maction\u001b[0m \u001b[1;33m==\u001b[0m \u001b[1;34m\"up\"\u001b[0m\u001b[1;33m:\u001b[0m\u001b[1;33m\u001b[0m\u001b[0m\n\u001b[1;32m---> 68\u001b[1;33m                     \u001b[0mself\u001b[0m\u001b[1;33m.\u001b[0m\u001b[0mbody\u001b[0m\u001b[1;33m.\u001b[0m\u001b[0msend_keys\u001b[0m\u001b[1;33m(\u001b[0m\u001b[0mKeys\u001b[0m\u001b[1;33m.\u001b[0m\u001b[0mARROW_UP\u001b[0m\u001b[1;33m)\u001b[0m\u001b[1;33m\u001b[0m\u001b[0m\n\u001b[0m\u001b[0;32m     69\u001b[0m                 \u001b[1;32melse\u001b[0m\u001b[1;33m:\u001b[0m\u001b[1;33m\u001b[0m\u001b[0m\n\u001b[0;32m     70\u001b[0m                     \u001b[0mself\u001b[0m\u001b[1;33m.\u001b[0m\u001b[0mbody\u001b[0m\u001b[1;33m.\u001b[0m\u001b[0msend_keys\u001b[0m\u001b[1;33m(\u001b[0m\u001b[0mKeys\u001b[0m\u001b[1;33m.\u001b[0m\u001b[0mARROW_DOWN\u001b[0m\u001b[1;33m)\u001b[0m\u001b[1;33m\u001b[0m\u001b[0m\n",
      "\u001b[1;32m~\\AppData\\Local\\Continuum\\anaconda3\\lib\\site-packages\\selenium\\webdriver\\remote\\webelement.py\u001b[0m in \u001b[0;36msend_keys\u001b[1;34m(self, *value)\u001b[0m\n\u001b[0;32m    350\u001b[0m         self._execute(Command.SEND_KEYS_TO_ELEMENT,\n\u001b[0;32m    351\u001b[0m                       {'text': \"\".join(keys_to_typing(value)),\n\u001b[1;32m--> 352\u001b[1;33m                        'value': keys_to_typing(value)})\n\u001b[0m\u001b[0;32m    353\u001b[0m \u001b[1;33m\u001b[0m\u001b[0m\n\u001b[0;32m    354\u001b[0m     \u001b[1;31m# RenderedWebElement Items\u001b[0m\u001b[1;33m\u001b[0m\u001b[1;33m\u001b[0m\u001b[0m\n",
      "\u001b[1;32m~\\AppData\\Local\\Continuum\\anaconda3\\lib\\site-packages\\selenium\\webdriver\\remote\\webelement.py\u001b[0m in \u001b[0;36m_execute\u001b[1;34m(self, command, params)\u001b[0m\n\u001b[0;32m    499\u001b[0m             \u001b[0mparams\u001b[0m \u001b[1;33m=\u001b[0m \u001b[1;33m{\u001b[0m\u001b[1;33m}\u001b[0m\u001b[1;33m\u001b[0m\u001b[0m\n\u001b[0;32m    500\u001b[0m         \u001b[0mparams\u001b[0m\u001b[1;33m[\u001b[0m\u001b[1;34m'id'\u001b[0m\u001b[1;33m]\u001b[0m \u001b[1;33m=\u001b[0m \u001b[0mself\u001b[0m\u001b[1;33m.\u001b[0m\u001b[0m_id\u001b[0m\u001b[1;33m\u001b[0m\u001b[0m\n\u001b[1;32m--> 501\u001b[1;33m         \u001b[1;32mreturn\u001b[0m \u001b[0mself\u001b[0m\u001b[1;33m.\u001b[0m\u001b[0m_parent\u001b[0m\u001b[1;33m.\u001b[0m\u001b[0mexecute\u001b[0m\u001b[1;33m(\u001b[0m\u001b[0mcommand\u001b[0m\u001b[1;33m,\u001b[0m \u001b[0mparams\u001b[0m\u001b[1;33m)\u001b[0m\u001b[1;33m\u001b[0m\u001b[0m\n\u001b[0m\u001b[0;32m    502\u001b[0m \u001b[1;33m\u001b[0m\u001b[0m\n\u001b[0;32m    503\u001b[0m     \u001b[1;32mdef\u001b[0m \u001b[0mfind_element\u001b[0m\u001b[1;33m(\u001b[0m\u001b[0mself\u001b[0m\u001b[1;33m,\u001b[0m \u001b[0mby\u001b[0m\u001b[1;33m=\u001b[0m\u001b[0mBy\u001b[0m\u001b[1;33m.\u001b[0m\u001b[0mID\u001b[0m\u001b[1;33m,\u001b[0m \u001b[0mvalue\u001b[0m\u001b[1;33m=\u001b[0m\u001b[1;32mNone\u001b[0m\u001b[1;33m)\u001b[0m\u001b[1;33m:\u001b[0m\u001b[1;33m\u001b[0m\u001b[0m\n",
      "\u001b[1;32m~\\AppData\\Local\\Continuum\\anaconda3\\lib\\site-packages\\selenium\\webdriver\\remote\\webdriver.py\u001b[0m in \u001b[0;36mexecute\u001b[1;34m(self, driver_command, params)\u001b[0m\n\u001b[0;32m    307\u001b[0m \u001b[1;33m\u001b[0m\u001b[0m\n\u001b[0;32m    308\u001b[0m         \u001b[0mparams\u001b[0m \u001b[1;33m=\u001b[0m \u001b[0mself\u001b[0m\u001b[1;33m.\u001b[0m\u001b[0m_wrap_value\u001b[0m\u001b[1;33m(\u001b[0m\u001b[0mparams\u001b[0m\u001b[1;33m)\u001b[0m\u001b[1;33m\u001b[0m\u001b[0m\n\u001b[1;32m--> 309\u001b[1;33m         \u001b[0mresponse\u001b[0m \u001b[1;33m=\u001b[0m \u001b[0mself\u001b[0m\u001b[1;33m.\u001b[0m\u001b[0mcommand_executor\u001b[0m\u001b[1;33m.\u001b[0m\u001b[0mexecute\u001b[0m\u001b[1;33m(\u001b[0m\u001b[0mdriver_command\u001b[0m\u001b[1;33m,\u001b[0m \u001b[0mparams\u001b[0m\u001b[1;33m)\u001b[0m\u001b[1;33m\u001b[0m\u001b[0m\n\u001b[0m\u001b[0;32m    310\u001b[0m         \u001b[1;32mif\u001b[0m \u001b[0mresponse\u001b[0m\u001b[1;33m:\u001b[0m\u001b[1;33m\u001b[0m\u001b[0m\n\u001b[0;32m    311\u001b[0m             \u001b[0mself\u001b[0m\u001b[1;33m.\u001b[0m\u001b[0merror_handler\u001b[0m\u001b[1;33m.\u001b[0m\u001b[0mcheck_response\u001b[0m\u001b[1;33m(\u001b[0m\u001b[0mresponse\u001b[0m\u001b[1;33m)\u001b[0m\u001b[1;33m\u001b[0m\u001b[0m\n",
      "\u001b[1;32m~\\AppData\\Local\\Continuum\\anaconda3\\lib\\site-packages\\selenium\\webdriver\\remote\\remote_connection.py\u001b[0m in \u001b[0;36mexecute\u001b[1;34m(self, command, params)\u001b[0m\n\u001b[0;32m    458\u001b[0m         \u001b[0mpath\u001b[0m \u001b[1;33m=\u001b[0m \u001b[0mstring\u001b[0m\u001b[1;33m.\u001b[0m\u001b[0mTemplate\u001b[0m\u001b[1;33m(\u001b[0m\u001b[0mcommand_info\u001b[0m\u001b[1;33m[\u001b[0m\u001b[1;36m1\u001b[0m\u001b[1;33m]\u001b[0m\u001b[1;33m)\u001b[0m\u001b[1;33m.\u001b[0m\u001b[0msubstitute\u001b[0m\u001b[1;33m(\u001b[0m\u001b[0mparams\u001b[0m\u001b[1;33m)\u001b[0m\u001b[1;33m\u001b[0m\u001b[0m\n\u001b[0;32m    459\u001b[0m         \u001b[0murl\u001b[0m \u001b[1;33m=\u001b[0m \u001b[1;34m'%s%s'\u001b[0m \u001b[1;33m%\u001b[0m \u001b[1;33m(\u001b[0m\u001b[0mself\u001b[0m\u001b[1;33m.\u001b[0m\u001b[0m_url\u001b[0m\u001b[1;33m,\u001b[0m \u001b[0mpath\u001b[0m\u001b[1;33m)\u001b[0m\u001b[1;33m\u001b[0m\u001b[0m\n\u001b[1;32m--> 460\u001b[1;33m         \u001b[1;32mreturn\u001b[0m \u001b[0mself\u001b[0m\u001b[1;33m.\u001b[0m\u001b[0m_request\u001b[0m\u001b[1;33m(\u001b[0m\u001b[0mcommand_info\u001b[0m\u001b[1;33m[\u001b[0m\u001b[1;36m0\u001b[0m\u001b[1;33m]\u001b[0m\u001b[1;33m,\u001b[0m \u001b[0murl\u001b[0m\u001b[1;33m,\u001b[0m \u001b[0mbody\u001b[0m\u001b[1;33m=\u001b[0m\u001b[0mdata\u001b[0m\u001b[1;33m)\u001b[0m\u001b[1;33m\u001b[0m\u001b[0m\n\u001b[0m\u001b[0;32m    461\u001b[0m \u001b[1;33m\u001b[0m\u001b[0m\n\u001b[0;32m    462\u001b[0m     \u001b[1;32mdef\u001b[0m \u001b[0m_request\u001b[0m\u001b[1;33m(\u001b[0m\u001b[0mself\u001b[0m\u001b[1;33m,\u001b[0m \u001b[0mmethod\u001b[0m\u001b[1;33m,\u001b[0m \u001b[0murl\u001b[0m\u001b[1;33m,\u001b[0m \u001b[0mbody\u001b[0m\u001b[1;33m=\u001b[0m\u001b[1;32mNone\u001b[0m\u001b[1;33m)\u001b[0m\u001b[1;33m:\u001b[0m\u001b[1;33m\u001b[0m\u001b[0m\n",
      "\u001b[1;32m~\\AppData\\Local\\Continuum\\anaconda3\\lib\\site-packages\\selenium\\webdriver\\remote\\remote_connection.py\u001b[0m in \u001b[0;36m_request\u001b[1;34m(self, method, url, body)\u001b[0m\n\u001b[0;32m    482\u001b[0m             \u001b[1;32mtry\u001b[0m\u001b[1;33m:\u001b[0m\u001b[1;33m\u001b[0m\u001b[0m\n\u001b[0;32m    483\u001b[0m                 \u001b[0mself\u001b[0m\u001b[1;33m.\u001b[0m\u001b[0m_conn\u001b[0m\u001b[1;33m.\u001b[0m\u001b[0mrequest\u001b[0m\u001b[1;33m(\u001b[0m\u001b[0mmethod\u001b[0m\u001b[1;33m,\u001b[0m \u001b[0mparsed_url\u001b[0m\u001b[1;33m.\u001b[0m\u001b[0mpath\u001b[0m\u001b[1;33m,\u001b[0m \u001b[0mbody\u001b[0m\u001b[1;33m,\u001b[0m \u001b[0mheaders\u001b[0m\u001b[1;33m)\u001b[0m\u001b[1;33m\u001b[0m\u001b[0m\n\u001b[1;32m--> 484\u001b[1;33m                 \u001b[0mresp\u001b[0m \u001b[1;33m=\u001b[0m \u001b[0mself\u001b[0m\u001b[1;33m.\u001b[0m\u001b[0m_conn\u001b[0m\u001b[1;33m.\u001b[0m\u001b[0mgetresponse\u001b[0m\u001b[1;33m(\u001b[0m\u001b[1;33m)\u001b[0m\u001b[1;33m\u001b[0m\u001b[0m\n\u001b[0m\u001b[0;32m    485\u001b[0m             \u001b[1;32mexcept\u001b[0m \u001b[1;33m(\u001b[0m\u001b[0mhttplib\u001b[0m\u001b[1;33m.\u001b[0m\u001b[0mHTTPException\u001b[0m\u001b[1;33m,\u001b[0m \u001b[0msocket\u001b[0m\u001b[1;33m.\u001b[0m\u001b[0merror\u001b[0m\u001b[1;33m)\u001b[0m\u001b[1;33m:\u001b[0m\u001b[1;33m\u001b[0m\u001b[0m\n\u001b[0;32m    486\u001b[0m                 \u001b[0mself\u001b[0m\u001b[1;33m.\u001b[0m\u001b[0m_conn\u001b[0m\u001b[1;33m.\u001b[0m\u001b[0mclose\u001b[0m\u001b[1;33m(\u001b[0m\u001b[1;33m)\u001b[0m\u001b[1;33m\u001b[0m\u001b[0m\n",
      "\u001b[1;32m~\\AppData\\Local\\Continuum\\anaconda3\\lib\\http\\client.py\u001b[0m in \u001b[0;36mgetresponse\u001b[1;34m(self)\u001b[0m\n\u001b[0;32m   1329\u001b[0m         \u001b[1;32mtry\u001b[0m\u001b[1;33m:\u001b[0m\u001b[1;33m\u001b[0m\u001b[0m\n\u001b[0;32m   1330\u001b[0m             \u001b[1;32mtry\u001b[0m\u001b[1;33m:\u001b[0m\u001b[1;33m\u001b[0m\u001b[0m\n\u001b[1;32m-> 1331\u001b[1;33m                 \u001b[0mresponse\u001b[0m\u001b[1;33m.\u001b[0m\u001b[0mbegin\u001b[0m\u001b[1;33m(\u001b[0m\u001b[1;33m)\u001b[0m\u001b[1;33m\u001b[0m\u001b[0m\n\u001b[0m\u001b[0;32m   1332\u001b[0m             \u001b[1;32mexcept\u001b[0m \u001b[0mConnectionError\u001b[0m\u001b[1;33m:\u001b[0m\u001b[1;33m\u001b[0m\u001b[0m\n\u001b[0;32m   1333\u001b[0m                 \u001b[0mself\u001b[0m\u001b[1;33m.\u001b[0m\u001b[0mclose\u001b[0m\u001b[1;33m(\u001b[0m\u001b[1;33m)\u001b[0m\u001b[1;33m\u001b[0m\u001b[0m\n",
      "\u001b[1;32m~\\AppData\\Local\\Continuum\\anaconda3\\lib\\http\\client.py\u001b[0m in \u001b[0;36mbegin\u001b[1;34m(self)\u001b[0m\n\u001b[0;32m    295\u001b[0m         \u001b[1;31m# read until we get a non-100 response\u001b[0m\u001b[1;33m\u001b[0m\u001b[1;33m\u001b[0m\u001b[0m\n\u001b[0;32m    296\u001b[0m         \u001b[1;32mwhile\u001b[0m \u001b[1;32mTrue\u001b[0m\u001b[1;33m:\u001b[0m\u001b[1;33m\u001b[0m\u001b[0m\n\u001b[1;32m--> 297\u001b[1;33m             \u001b[0mversion\u001b[0m\u001b[1;33m,\u001b[0m \u001b[0mstatus\u001b[0m\u001b[1;33m,\u001b[0m \u001b[0mreason\u001b[0m \u001b[1;33m=\u001b[0m \u001b[0mself\u001b[0m\u001b[1;33m.\u001b[0m\u001b[0m_read_status\u001b[0m\u001b[1;33m(\u001b[0m\u001b[1;33m)\u001b[0m\u001b[1;33m\u001b[0m\u001b[0m\n\u001b[0m\u001b[0;32m    298\u001b[0m             \u001b[1;32mif\u001b[0m \u001b[0mstatus\u001b[0m \u001b[1;33m!=\u001b[0m \u001b[0mCONTINUE\u001b[0m\u001b[1;33m:\u001b[0m\u001b[1;33m\u001b[0m\u001b[0m\n\u001b[0;32m    299\u001b[0m                 \u001b[1;32mbreak\u001b[0m\u001b[1;33m\u001b[0m\u001b[0m\n",
      "\u001b[1;32m~\\AppData\\Local\\Continuum\\anaconda3\\lib\\http\\client.py\u001b[0m in \u001b[0;36m_read_status\u001b[1;34m(self)\u001b[0m\n\u001b[0;32m    256\u001b[0m \u001b[1;33m\u001b[0m\u001b[0m\n\u001b[0;32m    257\u001b[0m     \u001b[1;32mdef\u001b[0m \u001b[0m_read_status\u001b[0m\u001b[1;33m(\u001b[0m\u001b[0mself\u001b[0m\u001b[1;33m)\u001b[0m\u001b[1;33m:\u001b[0m\u001b[1;33m\u001b[0m\u001b[0m\n\u001b[1;32m--> 258\u001b[1;33m         \u001b[0mline\u001b[0m \u001b[1;33m=\u001b[0m \u001b[0mstr\u001b[0m\u001b[1;33m(\u001b[0m\u001b[0mself\u001b[0m\u001b[1;33m.\u001b[0m\u001b[0mfp\u001b[0m\u001b[1;33m.\u001b[0m\u001b[0mreadline\u001b[0m\u001b[1;33m(\u001b[0m\u001b[0m_MAXLINE\u001b[0m \u001b[1;33m+\u001b[0m \u001b[1;36m1\u001b[0m\u001b[1;33m)\u001b[0m\u001b[1;33m,\u001b[0m \u001b[1;34m\"iso-8859-1\"\u001b[0m\u001b[1;33m)\u001b[0m\u001b[1;33m\u001b[0m\u001b[0m\n\u001b[0m\u001b[0;32m    259\u001b[0m         \u001b[1;32mif\u001b[0m \u001b[0mlen\u001b[0m\u001b[1;33m(\u001b[0m\u001b[0mline\u001b[0m\u001b[1;33m)\u001b[0m \u001b[1;33m>\u001b[0m \u001b[0m_MAXLINE\u001b[0m\u001b[1;33m:\u001b[0m\u001b[1;33m\u001b[0m\u001b[0m\n\u001b[0;32m    260\u001b[0m             \u001b[1;32mraise\u001b[0m \u001b[0mLineTooLong\u001b[0m\u001b[1;33m(\u001b[0m\u001b[1;34m\"status line\"\u001b[0m\u001b[1;33m)\u001b[0m\u001b[1;33m\u001b[0m\u001b[0m\n",
      "\u001b[1;32m~\\AppData\\Local\\Continuum\\anaconda3\\lib\\socket.py\u001b[0m in \u001b[0;36mreadinto\u001b[1;34m(self, b)\u001b[0m\n\u001b[0;32m    584\u001b[0m         \u001b[1;32mwhile\u001b[0m \u001b[1;32mTrue\u001b[0m\u001b[1;33m:\u001b[0m\u001b[1;33m\u001b[0m\u001b[0m\n\u001b[0;32m    585\u001b[0m             \u001b[1;32mtry\u001b[0m\u001b[1;33m:\u001b[0m\u001b[1;33m\u001b[0m\u001b[0m\n\u001b[1;32m--> 586\u001b[1;33m                 \u001b[1;32mreturn\u001b[0m \u001b[0mself\u001b[0m\u001b[1;33m.\u001b[0m\u001b[0m_sock\u001b[0m\u001b[1;33m.\u001b[0m\u001b[0mrecv_into\u001b[0m\u001b[1;33m(\u001b[0m\u001b[0mb\u001b[0m\u001b[1;33m)\u001b[0m\u001b[1;33m\u001b[0m\u001b[0m\n\u001b[0m\u001b[0;32m    587\u001b[0m             \u001b[1;32mexcept\u001b[0m \u001b[0mtimeout\u001b[0m\u001b[1;33m:\u001b[0m\u001b[1;33m\u001b[0m\u001b[0m\n\u001b[0;32m    588\u001b[0m                 \u001b[0mself\u001b[0m\u001b[1;33m.\u001b[0m\u001b[0m_timeout_occurred\u001b[0m \u001b[1;33m=\u001b[0m \u001b[1;32mTrue\u001b[0m\u001b[1;33m\u001b[0m\u001b[0m\n",
      "\u001b[1;31mKeyboardInterrupt\u001b[0m: "
     ]
    }
   ],
   "source": [
    "x = game.run_game(method=\"direct\",n_generations=100,n=50,n_obstacles=2,render = \"contours\")"
   ]
  },
  {
   "cell_type": "code",
   "execution_count": 11,
   "metadata": {
    "ExecuteTime": {
     "end_time": "2018-01-29T12:24:27.830329Z",
     "start_time": "2018-01-29T12:24:27.473293Z"
    }
   },
   "outputs": [],
   "source": [
    "n = x[1][0]"
   ]
  },
  {
   "cell_type": "code",
   "execution_count": 4,
   "metadata": {
    "ExecuteTime": {
     "end_time": "2018-01-30T08:53:06.047000Z",
     "start_time": "2018-01-30T08:53:06.026000Z"
    }
   },
   "outputs": [],
   "source": [
    "xs = game.prepare_xs_direct([700,700])"
   ]
  },
  {
   "cell_type": "code",
   "execution_count": 20,
   "metadata": {
    "ExecuteTime": {
     "end_time": "2018-01-29T12:27:28.141522Z",
     "start_time": "2018-01-29T12:27:27.771522Z"
    }
   },
   "outputs": [
    {
     "data": {
      "text/plain": [
       "0.46144873"
      ]
     },
     "execution_count": 20,
     "metadata": {},
     "output_type": "execute_result"
    }
   ],
   "source": [
    "n.net.forward(xs).data.numpy()[0][0]"
   ]
  },
  {
   "cell_type": "code",
   "execution_count": 22,
   "metadata": {
    "ExecuteTime": {
     "end_time": "2018-01-29T12:27:37.683522Z",
     "start_time": "2018-01-29T12:27:37.298522Z"
    }
   },
   "outputs": [],
   "source": [
    "probas = []\n",
    "for x in [700,600,500,400,300,200]:\n",
    "    xs = game.prepare_xs_direct([x])\n",
    "    proba = n.net.forward(xs).data.numpy()[0][0]\n",
    "    probas.append(proba)"
   ]
  },
  {
   "cell_type": "code",
   "execution_count": 23,
   "metadata": {
    "ExecuteTime": {
     "end_time": "2018-01-29T12:27:40.092522Z",
     "start_time": "2018-01-29T12:27:39.696522Z"
    }
   },
   "outputs": [
    {
     "data": {
      "text/plain": [
       "[0.46144873, 0.46403766, 0.46550772, 0.46884549, 0.47235003, 0.47848424]"
      ]
     },
     "execution_count": 23,
     "metadata": {},
     "output_type": "execute_result"
    }
   ],
   "source": [
    "probas"
   ]
  },
  {
   "cell_type": "markdown",
   "metadata": {},
   "source": [
    "# Changing the strategy to evolution strategy"
   ]
  },
  {
   "cell_type": "markdown",
   "metadata": {},
   "source": [
    "## Preparation"
   ]
  },
  {
   "cell_type": "markdown",
   "metadata": {},
   "source": [
    "##### Safety check for deepcopying neural nets"
   ]
  },
  {
   "cell_type": "code",
   "execution_count": 2,
   "metadata": {
    "ExecuteTime": {
     "end_time": "2018-01-30T08:50:50.651000Z",
     "start_time": "2018-01-30T08:50:50.643000Z"
    }
   },
   "outputs": [],
   "source": [
    "net = dino.Net(2,50,1)"
   ]
  },
  {
   "cell_type": "code",
   "execution_count": 5,
   "metadata": {
    "ExecuteTime": {
     "end_time": "2018-01-30T08:53:10.557000Z",
     "start_time": "2018-01-30T08:53:10.491000Z"
    }
   },
   "outputs": [
    {
     "data": {
      "text/plain": [
       "Variable containing:\n",
       " 0.5601\n",
       "[torch.FloatTensor of size 1x1]"
      ]
     },
     "execution_count": 5,
     "metadata": {},
     "output_type": "execute_result"
    }
   ],
   "source": [
    "net.forward(xs)"
   ]
  },
  {
   "cell_type": "code",
   "execution_count": 6,
   "metadata": {
    "ExecuteTime": {
     "end_time": "2018-01-30T08:53:18.842000Z",
     "start_time": "2018-01-30T08:53:18.825000Z"
    }
   },
   "outputs": [],
   "source": [
    "from copy import deepcopy"
   ]
  },
  {
   "cell_type": "code",
   "execution_count": 7,
   "metadata": {
    "ExecuteTime": {
     "end_time": "2018-01-30T08:53:25.530000Z",
     "start_time": "2018-01-30T08:53:25.518000Z"
    }
   },
   "outputs": [],
   "source": [
    "net2 = deepcopy(net)"
   ]
  },
  {
   "cell_type": "code",
   "execution_count": 8,
   "metadata": {
    "ExecuteTime": {
     "end_time": "2018-01-30T08:53:29.769000Z",
     "start_time": "2018-01-30T08:53:29.761000Z"
    }
   },
   "outputs": [
    {
     "data": {
      "text/plain": [
       "Variable containing:\n",
       " 0.5601\n",
       "[torch.FloatTensor of size 1x1]"
      ]
     },
     "execution_count": 8,
     "metadata": {},
     "output_type": "execute_result"
    }
   ],
   "source": [
    "net2.forward(xs)"
   ]
  },
  {
   "cell_type": "code",
   "execution_count": 9,
   "metadata": {
    "ExecuteTime": {
     "end_time": "2018-01-30T08:53:34.017000Z",
     "start_time": "2018-01-30T08:53:33.993000Z"
    }
   },
   "outputs": [],
   "source": [
    "net2.mutate()"
   ]
  },
  {
   "cell_type": "code",
   "execution_count": 10,
   "metadata": {
    "ExecuteTime": {
     "end_time": "2018-01-30T08:53:38.220000Z",
     "start_time": "2018-01-30T08:53:38.189000Z"
    }
   },
   "outputs": [
    {
     "data": {
      "text/plain": [
       "Variable containing:\n",
       " 0.3611\n",
       "[torch.FloatTensor of size 1x1]"
      ]
     },
     "execution_count": 10,
     "metadata": {},
     "output_type": "execute_result"
    }
   ],
   "source": [
    "net2.forward(xs)"
   ]
  },
  {
   "cell_type": "code",
   "execution_count": 11,
   "metadata": {
    "ExecuteTime": {
     "end_time": "2018-01-30T08:53:46.429000Z",
     "start_time": "2018-01-30T08:53:46.399000Z"
    }
   },
   "outputs": [
    {
     "data": {
      "text/plain": [
       "Variable containing:\n",
       " 0.5601\n",
       "[torch.FloatTensor of size 1x1]"
      ]
     },
     "execution_count": 11,
     "metadata": {},
     "output_type": "execute_result"
    }
   ],
   "source": [
    "net.forward(xs)"
   ]
  },
  {
   "cell_type": "markdown",
   "metadata": {},
   "source": [
    "##### Checking the Strategy"
   ]
  },
  {
   "cell_type": "code",
   "execution_count": 79,
   "metadata": {
    "ExecuteTime": {
     "end_time": "2018-01-30T09:31:39.620000Z",
     "start_time": "2018-01-30T09:31:39.280000Z"
    }
   },
   "outputs": [],
   "source": [
    "import dino\n",
    "pop = dino.Population(n = 20,strategy = \"simple_es\",method = \"direct\",alpha = 1e-1,top = 0.1)"
   ]
  },
  {
   "cell_type": "code",
   "execution_count": 80,
   "metadata": {
    "ExecuteTime": {
     "end_time": "2018-01-30T09:31:40.202000Z",
     "start_time": "2018-01-30T09:31:39.805000Z"
    }
   },
   "outputs": [],
   "source": [
    "for i in range(len(pop)):\n",
    "    pop[i].set_score(i**2)"
   ]
  },
  {
   "cell_type": "code",
   "execution_count": 81,
   "metadata": {
    "ExecuteTime": {
     "end_time": "2018-01-30T09:31:40.514000Z",
     "start_time": "2018-01-30T09:31:40.204000Z"
    }
   },
   "outputs": [
    {
     "data": {
      "text/plain": [
       "((19, 18, 17, 16, 15, 14, 13, 12, 11, 10, 9, 8, 7, 6, 5, 4, 3, 2, 1, 0),\n",
       " (361,\n",
       "  324,\n",
       "  289,\n",
       "  256,\n",
       "  225,\n",
       "  196,\n",
       "  169,\n",
       "  144,\n",
       "  121,\n",
       "  100,\n",
       "  81,\n",
       "  64,\n",
       "  49,\n",
       "  36,\n",
       "  25,\n",
       "  16,\n",
       "  9,\n",
       "  4,\n",
       "  1,\n",
       "  0))"
      ]
     },
     "execution_count": 81,
     "metadata": {},
     "output_type": "execute_result"
    }
   ],
   "source": [
    "pop.evaluate()"
   ]
  },
  {
   "cell_type": "code",
   "execution_count": 82,
   "metadata": {
    "ExecuteTime": {
     "end_time": "2018-01-30T09:31:40.985000Z",
     "start_time": "2018-01-30T09:31:40.629000Z"
    }
   },
   "outputs": [],
   "source": [
    "pop.evolve()"
   ]
  },
  {
   "cell_type": "code",
   "execution_count": 83,
   "metadata": {
    "ExecuteTime": {
     "end_time": "2018-01-30T09:31:41.998000Z",
     "start_time": "2018-01-30T09:31:41.568000Z"
    }
   },
   "outputs": [
    {
     "name": "stdout",
     "output_type": "stream",
     "text": [
      "0.450886\n",
      "0.44959\n",
      "0.402323\n",
      "0.570759\n",
      "0.472082\n",
      "0.4594\n",
      "0.395938\n",
      "0.499061\n",
      "0.663329\n",
      "0.345835\n",
      "0.467247\n",
      "0.730044\n",
      "0.320118\n",
      "0.381312\n",
      "0.488949\n",
      "0.469854\n",
      "0.495783\n",
      "0.471831\n",
      "0.367022\n",
      "0.513132\n"
     ]
    }
   ],
   "source": [
    "for dino in pop.dinos:\n",
    "    print(dino.net.forward(xs).data.numpy()[0][0])"
   ]
  },
  {
   "cell_type": "markdown",
   "metadata": {},
   "source": [
    "## Running the game"
   ]
  },
  {
   "cell_type": "code",
   "execution_count": 8,
   "metadata": {
    "ExecuteTime": {
     "end_time": "2018-02-04T16:44:25.176000Z",
     "start_time": "2018-02-04T16:44:24.949000Z"
    }
   },
   "outputs": [],
   "source": [
    "import dino"
   ]
  },
  {
   "cell_type": "code",
   "execution_count": 9,
   "metadata": {
    "ExecuteTime": {
     "end_time": "2018-02-04T16:44:27.554000Z",
     "start_time": "2018-02-04T16:44:27.357000Z"
    }
   },
   "outputs": [],
   "source": [
    "pop = dino.Population(n = 10,strategy = \"simple_es\",method = \"direct\",alpha = [1e-1,1e-2],top = 0.1)"
   ]
  },
  {
   "cell_type": "code",
   "execution_count": 10,
   "metadata": {
    "ExecuteTime": {
     "end_time": "2018-02-04T16:44:35.971000Z",
     "start_time": "2018-02-04T16:44:29.119000Z"
    }
   },
   "outputs": [],
   "source": [
    "game = dino.DinoGame()"
   ]
  },
  {
   "cell_type": "code",
   "execution_count": null,
   "metadata": {
    "ExecuteTime": {
     "start_time": "2018-02-04T16:44:37.621Z"
    }
   },
   "outputs": [
    {
     "name": "stderr",
     "output_type": "stream",
     "text": [
      "100%|██████████████████████████████████████████| 10/10 [01:05<00:00,  6.58s/it]\n"
     ]
    },
    {
     "name": "stdout",
     "output_type": "stream",
     "text": [
      "Generation 0 : mean 28 - std 18 - max 43 - min 0\n"
     ]
    },
    {
     "name": "stderr",
     "output_type": "stream",
     "text": [
      "100%|██████████████████████████████████████████| 10/10 [01:02<00:00,  6.22s/it]\n"
     ]
    },
    {
     "name": "stdout",
     "output_type": "stream",
     "text": [
      "Generation 1 : mean 2 - std 4 - max 16 - min 0\n"
     ]
    },
    {
     "name": "stderr",
     "output_type": "stream",
     "text": [
      "100%|██████████████████████████████████████████| 10/10 [01:19<00:00,  7.92s/it]\n"
     ]
    },
    {
     "name": "stdout",
     "output_type": "stream",
     "text": [
      "Generation 2 : mean 12 - std 17 - max 49 - min 0\n"
     ]
    },
    {
     "name": "stderr",
     "output_type": "stream",
     "text": [
      "100%|██████████████████████████████████████████| 10/10 [01:15<00:00,  7.50s/it]\n"
     ]
    },
    {
     "name": "stdout",
     "output_type": "stream",
     "text": [
      "Generation 3 : mean 34 - std 15 - max 51 - min 0\n"
     ]
    },
    {
     "name": "stderr",
     "output_type": "stream",
     "text": [
      "100%|██████████████████████████████████████████| 10/10 [01:04<00:00,  6.47s/it]\n"
     ]
    },
    {
     "name": "stdout",
     "output_type": "stream",
     "text": [
      "Generation 4 : mean 8 - std 12 - max 43 - min 0\n"
     ]
    },
    {
     "name": "stderr",
     "output_type": "stream",
     "text": [
      "100%|██████████████████████████████████████████| 10/10 [01:22<00:00,  8.26s/it]\n"
     ]
    },
    {
     "name": "stdout",
     "output_type": "stream",
     "text": [
      "Generation 5 : mean 30 - std 27 - max 85 - min 0\n"
     ]
    },
    {
     "name": "stderr",
     "output_type": "stream",
     "text": [
      " 20%|████████▌                                  | 2/10 [00:11<00:47,  5.99s/it]"
     ]
    }
   ],
   "source": [
    "scores,new_pop = game.run_game(population=pop,render = \"contours\",n_generations = 100)"
   ]
  },
  {
   "cell_type": "code",
   "execution_count": null,
   "metadata": {},
   "outputs": [],
   "source": []
  }
 ],
 "metadata": {
  "kernelspec": {
   "display_name": "Python 3",
   "language": "python",
   "name": "python3"
  },
  "language_info": {
   "codemirror_mode": {
    "name": "ipython",
    "version": 3
   },
   "file_extension": ".py",
   "mimetype": "text/x-python",
   "name": "python",
   "nbconvert_exporter": "python",
   "pygments_lexer": "ipython3",
   "version": "3.6.3"
  },
  "toc": {
   "colors": {
    "hover_highlight": "#DAA520",
    "running_highlight": "#FF0000",
    "selected_highlight": "#FFD700"
   },
   "moveMenuLeft": true,
   "nav_menu": {
    "height": "159px",
    "width": "252px"
   },
   "navigate_menu": true,
   "number_sections": true,
   "sideBar": true,
   "threshold": 4,
   "toc_cell": false,
   "toc_section_display": "block",
   "toc_window_display": true
  }
 },
 "nbformat": 4,
 "nbformat_minor": 2
}
